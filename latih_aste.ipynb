{
 "cells": [
  {
   "cell_type": "code",
   "execution_count": 1,
   "metadata": {},
   "outputs": [
    {
     "name": "stdout",
     "output_type": "stream",
     "text": [
      "No CUDA GPU found in your device\n",
      "Version 0.9.9 of metric_visualizer is outdated. Version 0.9.13 was released Wednesday May 01, 2024.\n",
      "[2024-05-19 02:48:00] (2.3.4) \u001b[31mPyABSA(2.3.4): If your code crashes on Colab, please use the GPU runtime. Then run \"pip install pyabsa[dev] -U\" and restart the kernel.\n",
      "Or if it does not work, you can use v1.x versions, e.g., pip install pyabsa<2.0 -U\n",
      "\n",
      "\n",
      "\n",
      "\n",
      "WARNING: When you fails to load a checkpoint, e.g., Unexpected key(s),\n",
      "Try to downgrade transformers<=4.29.0.\n",
      "\n",
      "\n",
      "\n",
      "\u001b[0m\n"
     ]
    },
    {
     "name": "stderr",
     "output_type": "stream",
     "text": [
      "c:\\Users\\bahar\\anaconda3\\Lib\\multiprocessing\\pool.py:268: ResourceWarning: unclosed running multiprocessing pool <multiprocessing.pool.Pool state=RUN pool_size=1>\n",
      "  _warn(f\"unclosed running multiprocessing pool {self!r}\",\n",
      "ResourceWarning: Enable tracemalloc to get the object allocation traceback\n"
     ]
    }
   ],
   "source": [
    "from pyabsa import AspectSentimentTripletExtraction as ASTE"
   ]
  },
  {
   "cell_type": "code",
   "execution_count": 2,
   "metadata": {},
   "outputs": [],
   "source": [
    "config = (\n",
    "    ASTE.ASTEConfigManager.get_aste_config_english()\n",
    ")  # this config contains 'pretrained_bert', it is based on pretrained models"
   ]
  },
  {
   "cell_type": "code",
   "execution_count": 3,
   "metadata": {},
   "outputs": [],
   "source": [
    "config.model = ASTE.ASTEModelList.EMCGCN  # improved version of LCF-ATEPC"
   ]
  },
  {
   "cell_type": "code",
   "execution_count": 4,
   "metadata": {},
   "outputs": [],
   "source": [
    "config.pretrained_bert = 'indobenchmark/indobert-large-p2'"
   ]
  },
  {
   "cell_type": "code",
   "execution_count": 5,
   "metadata": {},
   "outputs": [
    {
     "data": {
      "text/plain": [
       "'indobenchmark/indobert-large-p2'"
      ]
     },
     "execution_count": 5,
     "metadata": {},
     "output_type": "execute_result"
    }
   ],
   "source": [
    "config.pretrained_bert"
   ]
  },
  {
   "cell_type": "code",
   "execution_count": 5,
   "metadata": {},
   "outputs": [],
   "source": [
    "from pyabsa import DatasetItem\n",
    "\n",
    "dataset = ASTE.ASTEDatasetList.Restaurant14\n",
    "# now the dataset is a DatasetItem object, which has a name and a list of subdatasets\n",
    "# e.g., SemEval dataset contains Laptop14, Restaurant14, Restaurant16 datasets\n",
    "\n",
    "# or you can pass a list of datasets\n",
    "# my_dataset = DatasetItem(\"my_dataset\", [\"my_dataset1\", \"my_dataset2\", ATEPC.ATEPCDatasetList.Restaurant14])\n",
    "# my_dataset1 and my_dataset2 are the dataset folders. In there folders, the train dataset is necessary"
   ]
  },
  {
   "cell_type": "code",
   "execution_count": 6,
   "metadata": {},
   "outputs": [],
   "source": [
    "from pyabsa import DatasetItem\n",
    "dataset = DatasetItem(\"aste_datasets\", \"100.seribu_data\")"
   ]
  },
  {
   "cell_type": "code",
   "execution_count": 7,
   "metadata": {},
   "outputs": [],
   "source": [
    "from pyabsa import ModelSaveOption, DeviceTypeOption\n",
    "import warnings\n"
   ]
  },
  {
   "cell_type": "code",
   "execution_count": 8,
   "metadata": {},
   "outputs": [],
   "source": [
    "warnings.filterwarnings(\"ignore\")"
   ]
  },
  {
   "cell_type": "code",
   "execution_count": 9,
   "metadata": {},
   "outputs": [],
   "source": [
    "config.batch_size = 16\n",
    "config.patience = 999\n",
    "config.log_step = -1\n",
    "config.seed = [1, 2, 3]\n",
    "config.verbose = False  # If verbose == True, PyABSA will output the model structure and several processed data examples\n",
    "config.notice = (\n",
    "    \"This is an training example for aspect term extraction\"  # for memos usage\n",
    ")"
   ]
  },
  {
   "cell_type": "code",
   "execution_count": 10,
   "metadata": {},
   "outputs": [
    {
     "name": "stdout",
     "output_type": "stream",
     "text": [
      "[2024-05-19 02:50:53] (2.3.4) Set Model Device: cpu\n",
      "[2024-05-19 02:50:53] (2.3.4) Device Name: Unknown\n",
      "2024-05-19 02:50:56,921 INFO: PyABSA version: 2.3.4\n",
      "2024-05-19 02:50:56,923 INFO: Transformers version: 4.32.1\n",
      "2024-05-19 02:50:56,924 INFO: Torch version: 2.1.1+cpu+cudaNone\n",
      "2024-05-19 02:50:56,927 INFO: Device: Unknown\n",
      "2024-05-19 02:50:56,929 INFO: aste_datasets in the trainer is not a exact path, will search dataset in current working directory\n",
      "2024-05-19 02:51:20,834 INFO: You can set load_aug=True in a trainer to augment your dataset (English only yet) and improve performance.\n"
     ]
    },
    {
     "name": "stderr",
     "output_type": "stream",
     "text": [
      "Using eos_token, but it is not set yet.\n"
     ]
    },
    {
     "name": "stdout",
     "output_type": "stream",
     "text": [
      "2024-05-19 02:51:23,542 INFO: Load dataset from integrated_datasets\\aste_datasets\\100.seribu_data\\train.dat.apc\n"
     ]
    },
    {
     "name": "stderr",
     "output_type": "stream",
     "text": [
      "preparing dataloader:   2%|▏         | 14/704 [00:00<00:14, 46.35it/s]"
     ]
    },
    {
     "name": "stdout",
     "output_type": "stream",
     "text": [
      "narasi sesat!  baca putusan pn. jakpus nomor 130/pid.sus/tpk/2017/pn.jkt.pst tgl 24/04/2018 kasus korupsi setya novanto.  seperti kata budiman : placeholder prabowo? produk gagal manusia indonesia. placeholder syarat ndukung prabowo adalah harus bodoh.  .\n",
      "narasi sesat!  baca putusan pn. jakpus nomor 130/pid.sus/tpk/2017/pn.jkt.pst tgl 24/04/2018 kasus korupsi setya novanto.  seperti kata budiman : - prabowo? produk gagal manusia indonesia. - syarat ndukung prabowo adalah harus bodoh.  .####[([0], [1], 'NEG'), ([22], [24, 25], 'NEG'), ([30, 31], [34, 35], 'NEG')]\n",
      "[([0], [1], 'NEG'), ([22], [24, 25], 'NEG'), ([30, 31], [34, 35], 'NEG')]\n",
      "masya allah..keberanian dan ketekunan anies dalam menghadapi tantangan hidupnya membuatnya menjadi inspirasi bagi banyak orang yang ingin mencapai kesuksesan dengan usaha dan kerja keras.  anies menginspirasi  .\n",
      "masya allah..keberanian dan ketekunan anies dalam menghadapi tantangan hidupnya membuatnya menjadi inspirasi bagi banyak orang yang ingin mencapai kesuksesan dengan usaha dan kerja keras.  anies menginspirasi  .####[([6], [28], 'POS'), ([6], [5], 'POS'), ([6], [3], 'POS'), ([9, 10], [12, 13], 'POS')]\n",
      "[([6], [28], 'POS'), ([6], [5], 'POS'), ([6], [3], 'POS'), ([9, 10], [12, 13], 'POS')]\n",
      "soal proyek apbn di solo, rudy: lebih besar mas gibran karena anak presiden   .\n",
      "soal proyek apbn di solo, rudy: lebih besar mas gibran karena anak presiden   .####[([11], [13, 14], 'NEU')]\n",
      "[([11], [13, 14], 'NEU')]\n"
     ]
    },
    {
     "name": "stderr",
     "output_type": "stream",
     "text": [
      "preparing dataloader:   9%|▉         | 66/704 [00:01<00:15, 41.42it/s]"
     ]
    },
    {
     "name": "stdout",
     "output_type": "stream",
     "text": [
      "pasangan anies placeholder cak imin (amin) memalukan, daftar capres dan cawapres naik mobil gak bayar pajak      .\n",
      "pasangan anies - cak imin (amin) memalukan, daftar capres dan cawapres naik mobil gak bayar pajak      .####[([1], [8], 'NEG'), ([3, 4], [8], 'NEG'), ([10, 11, 12, 13], [14, 15, 16, 17, 18], 'NEG')]\n",
      "[([1], [8], 'NEG'), ([3, 4], [8], 'NEG'), ([10, 11, 12, 13], [14, 15, 16, 17, 18], 'NEG')]\n"
     ]
    },
    {
     "name": "stderr",
     "output_type": "stream",
     "text": [
      "preparing dataloader:  13%|█▎        | 92/704 [00:02<00:14, 43.43it/s]"
     ]
    },
    {
     "name": "stdout",
     "output_type": "stream",
     "text": [
      "kalau dilihat dari arah politik,  placeholder prabowo cenderung konservatif (melanjutkan hasil kerja petahana, sempurnakan yang masih kurang).  placeholder anies cenderung progresif (mengusung perubahan).  placeholder ganjar kalau mau aman, mending main di arah moderat sentris aja. .\n",
      "kalau dilihat dari arah politik,  - prabowo cenderung konservatif (melanjutkan hasil kerja petahana, sempurnakan yang masih kurang).  - anies cenderung progresif (mengusung perubahan).  - ganjar kalau mau aman, mending main di arah moderat-sentris aja. .####[([3, 4], [8, 9], 'NEU'), ([3, 4], [8, 25], 'NEU'), ([3, 4], [27, 28], 'NEU'), ([3, 4], [41], 'NEU'), ([7], [8, 9], 'NEU'), ([7], [11, 12, 13, 14], 'NEU'), ([7], [16, 17, 18, 19], 'POS'), ([23], [8, 25], 'NEU'), ([23], [27, 28], 'NEU'), ([32], [41], 'NEU')]\n",
      "[([3, 4], [8, 9], 'NEU'), ([3, 4], [8, 25], 'NEU'), ([3, 4], [27, 28], 'NEU'), ([3, 4], [41], 'NEU'), ([7], [8, 9], 'NEU'), ([7], [11, 12, 13, 14], 'NEU'), ([7], [16, 17, 18, 19], 'POS'), ([23], [8, 25], 'NEU'), ([23], [27, 28], 'NEU'), ([32], [41], 'NEU')]\n"
     ]
    },
    {
     "name": "stderr",
     "output_type": "stream",
     "text": [
      "preparing dataloader:  18%|█▊        | 126/704 [00:03<00:14, 39.44it/s]"
     ]
    },
    {
     "name": "stdout",
     "output_type": "stream",
     "text": [
      "ini yg aq suka dari seorang ahok beliau tidak suka bermain sandiwara..benar beliau dibilang benar salah ya dibilang salah pak ahok..kekhawatiran bapak memang sangat masuk akal dan; sangat mewakili suara kami.. tapi maaf bapak udah salah nyebut..bukan gabrin tapi gibran..  .\n",
      "ini yg aq suka dari seorang ahok beliau tidak suka bermain sandiwara..benar beliau dibilang benar salah ya dibilang salah pak ahok..kekhawatiran bapak memang sangat masuk akal dan; sangat mewakili suara kami.. tapi maaf bapak udah salah nyebut..bukan gabrin tapi gibran..  .####[([6], [8, 3, 10, 11], 'POS'), ([6], [17, 42], 'NEG')]\n",
      "[([6], [8, 3, 10, 11], 'POS'), ([6], [17, 42], 'NEG')]\n"
     ]
    },
    {
     "name": "stderr",
     "output_type": "stream",
     "text": [
      "preparing dataloader:  20%|██        | 142/704 [00:03<00:12, 43.66it/s]"
     ]
    },
    {
     "name": "stdout",
     "output_type": "stream",
     "text": [
      "kekayaan mas ganjarpranowo dan pak mohmahfudmd berdua tidak sampai 50 milyar. padahal pak mahfud pernah menjadi menteri pertahanan ketua mahkamah konstitusi anggota dpr dan menko. mas ganjar 2 periode jadi gubernur. mereka layak mendapatkan amanat menjadi pelayan rakyat. .\n",
      "kekayaan mas ganjarpranowo dan pak mohmahfudmd berdua tidak sampai 50 milyar. padahal pak mahfud pernah menjadi menteri pertahanan ketua mahkamah konstitusi anggota dpr dan menko. mas ganjar 2 periode jadi gubernur. mereka layak mendapatkan amanat menjadi pelayan rakyat. .####[([39, 40], [35, 36, 37], 'POS')]\n",
      "[([39, 40], [35, 36, 37], 'POS')]\n"
     ]
    },
    {
     "name": "stderr",
     "output_type": "stream",
     "text": [
      "preparing dataloader:  23%|██▎       | 162/704 [00:03<00:12, 42.72it/s]"
     ]
    },
    {
     "name": "stdout",
     "output_type": "stream",
     "text": [
      "kepanikan timses prabowo (habiburrahman)  tabrak sana.... tabrak sini  .\n",
      "kepanikan timses prabowo (habiburrahman)  tabrak sana.... tabrak sini  .####[([1, 2], [0], 'NEG'), ([1, 2], [6, 7], 'NEG'), ([1, 2], [6, 10], 'NEG')]\n",
      "[([1, 2], [0], 'NEG'), ([1, 2], [6, 7], 'NEG'), ([1, 2], [6, 10], 'NEG')]\n"
     ]
    },
    {
     "name": "stderr",
     "output_type": "stream",
     "text": [
      "preparing dataloader:  25%|██▍       | 173/704 [00:04<00:12, 41.10it/s]"
     ]
    },
    {
     "name": "stdout",
     "output_type": "stream",
     "text": [
      "saran kang fahrihamzah ini akan menjadi kenyataan,krn ini kemurnian saran dri pemikiran yg benar,tulisan ini jg akan jdi saksi di akhirat,dn sy meng amin kan pak aniesbaswedan menjadi presiden 2024 2029, .\n",
      "saran kang fahrihamzah ini akan menjadi kenyataan,krn ini kemurnian saran dri pemikiran yg benar,tulisan ini jg akan jdi saksi di akhirat,dn sy meng amin kan pak aniesbaswedan menjadi presiden 2024-2029, .####[([32], [5, 34], 'POS')]\n",
      "[([32], [5, 34], 'POS')]\n",
      "saat debat cawapres nanti, posisi cakiminow underdog. dia akan jadi bulan2an gibran karena ketidaksesuaian pendapat cak imin dan anies, terutama soal ikn dan  posisi politik dia dan  pkb saat ini.  pendukungnya saja yg over estimate. .\n",
      "saat debat cawapres nanti, posisi cakiminow underdog. dia akan jadi bulan2an gibran karena ketidaksesuaian pendapat cak imin dan anies, terutama soal ikn dan  posisi politik dia dan  pkb saat ini.  pendukungnya saja yg over estimate. .####[([5, 6], [7], 'POS'), ([34], [37, 38], 'NEU')]\n",
      "[([5, 6], [7], 'POS'), ([34], [37, 38], 'NEU')]\n",
      "buat kpu, pilpres 2024 ini sekedar lucu lucuan aja. yang penting gimana caranya prabowo dan anak jokowi bisa jadi penguasa. bodo amat dibilang curang.  .\n",
      "buat kpu, pilpres 2024 ini sekedar lucu-lucuan aja. yang penting gimana caranya prabowo dan anak jokowi bisa jadi penguasa. bodo amat dibilang curang.  .####[([1], [6, 7], 'NEU'), ([1], [10, 11, 12, 13, 14, 15, 16, 17, 18, 19, 20], 'NEU'), ([1], [25], 'NEG')]\n",
      "[([1], [6, 7], 'NEU'), ([1], [10, 11, 12, 13, 14, 15, 16, 17, 18, 19, 20], 'NEU'), ([1], [25], 'NEG')]\n"
     ]
    },
    {
     "name": "stderr",
     "output_type": "stream",
     "text": [
      "preparing dataloader:  26%|██▌       | 183/704 [00:04<00:12, 40.18it/s]"
     ]
    },
    {
     "name": "stdout",
     "output_type": "stream",
     "text": [
      "anies baswedan dilahirkan dari keluarga pengajar. ayahnya, adalah dosen universitas islam indonesia. sedangkan ibunya, tercatat sebagai guru besar dan dosen di universitas negeri yogyakarta. anies terpelajar  .\n",
      "anies baswedan dilahirkan dari keluarga pengajar. ayahnya, adalah dosen universitas islam indonesia. sedangkan ibunya, tercatat sebagai guru besar dan dosen di universitas negeri yogyakarta. anies terpelajar  .####[([0], [30], 'POS')]\n",
      "[([0], [30], 'POS')]\n"
     ]
    },
    {
     "name": "stderr",
     "output_type": "stream",
     "text": [
      "preparing dataloader:  27%|██▋       | 189/704 [00:04<00:11, 45.15it/s]"
     ]
    },
    {
     "name": "stdout",
     "output_type": "stream",
     "text": [
      "hadiri kongres pemuda perubahan, cak imin: saingan kita logistiknya besar, tapi kita tidak takut    .\n",
      "hadiri kongres pemuda perubahan, cak imin: saingan kita logistiknya besar, tapi kita tidak takut    .####[([5, 6], [15, 16], 'POS'), ([8], [10, 11], 'NEU')]\n",
      "[([5, 6], [15, 16], 'POS'), ([8], [10, 11], 'NEU')]\n"
     ]
    },
    {
     "name": "stderr",
     "output_type": "stream",
     "text": [
      "preparing dataloader:  30%|██▉       | 209/704 [00:05<00:12, 38.97it/s]"
     ]
    },
    {
     "name": "stdout",
     "output_type": "stream",
     "text": [
      "21 program unggulam ganjar placeholder mahfud ini, peluru untuk mengetuk pintu hati masyarakat, agar mereka tdk terjebak dengan narasi kebohongan makan siang gratis yg merencanakan 450 t hanya 1 program saja, masyarakat bukan cuman butuh makan tetapi pekerjaan yg layak  .\n",
      "21 program unggulam ganjar - mahfud ini, peluru untuk mengetuk pintu hati masyarakat, agar mereka tdk terjebak dengan narasi kebohongan makan siang gratis yg merencanakan 450 t hanya 1 program saja, masyarakat bukan cuman butuh makan tetapi pekerjaan yg layak  .####[([0, 1, 2, 3, 4, 5], [8, 9, 10, 11, 12, 13], 'POS'), ([13], [17, 18, 19, 20, 21], 'POS'), ([13], [37, 22], 'NEU'), ([13], [40, 25, 42], 'POS'), ([22, 23, 24], [20, 21], 'NEG')]\n",
      "[([0, 1, 2, 3, 4, 5], [8, 9, 10, 11, 12, 13], 'POS'), ([13], [17, 18, 19, 20, 21], 'POS'), ([13], [37, 22], 'NEU'), ([13], [40, 25, 42], 'POS'), ([22, 23, 24], [20, 21], 'NEG')]\n"
     ]
    },
    {
     "name": "stderr",
     "output_type": "stream",
     "text": [
      "preparing dataloader:  34%|███▍      | 238/704 [00:06<00:17, 26.31it/s]"
     ]
    },
    {
     "name": "stdout",
     "output_type": "stream",
     "text": [
      "kisah inspiratif anies tak pernah mati. bisa banget bikin kita semangat untuk berjuang demi pendidikan. anies menginspirasi   .\n",
      "kisah inspiratif anies tak pernah mati. bisa banget bikin kita semangat untuk berjuang demi pendidikan. anies menginspirasi   .####[([0, 1, 2], [3, 4, 5], 'NEU'), ([2], [18], 'POS')]\n",
      "[([0, 1, 2], [3, 4, 5], 'NEU'), ([2], [18], 'POS')]\n",
      "nah benerkan. bayangin 01 punya anies yg mantan rektor dosen dan; gubernur. 03 punya mahfud md yg juga sebagai akademisi. terus di 01 ada cak imin yang pernah di dpr. 03 juga punya pak ganjar yg pernah di dpr dan gubernur. gua yakin kalo ini debat ngsh pandangan bukan cringe. .\n",
      "nah benerkan. bayangin 01 punya anies yg mantan rektor dosen dan; gubernur. 03 punya mahfud md yg juga sebagai akademisi. terus di 01 ada cak imin yang pernah di dpr. 03 juga punya pak ganjar yg pernah di dpr dan gubernur. gua yakin kalo ini debat ngsh pandangan bukan cringe. .####[([51], [52, 53], 'POS')]\n",
      "[([51], [52, 53], 'POS')]\n"
     ]
    },
    {
     "name": "stderr",
     "output_type": "stream",
     "text": [
      "preparing dataloader:  35%|███▍      | 245/704 [00:06<00:16, 27.11it/s]"
     ]
    },
    {
     "name": "stdout",
     "output_type": "stream",
     "text": [
      "serem banget nih pendukung pak aniesbaswedan nyerang pak prabowo sampai ngedit2 video lalu ditambahi dgn rekayasa menjulurkan lidah segala.  ingat2lah kata2 pak anies sendiri: pendukung mencerminkan yg didukung. .\n",
      "serem banget nih pendukung pak aniesbaswedan nyerang pak prabowo sampai ngedit2 video lalu ditambahi dgn rekayasa menjulurkan lidah segala.  ingat2lah kata2 pak anies sendiri: pendukung mencerminkan yg didukung. .####[([3, 4, 5], [0, 1], 'NEG'), ([3, 4, 5], [6, 4, 8], 'NEG'), ([3], [27, 28, 29], 'NEU')]\n",
      "[([3, 4, 5], [0, 1], 'NEG'), ([3, 4, 5], [6, 4, 8], 'NEG'), ([3], [27, 28, 29], 'NEU')]\n"
     ]
    },
    {
     "name": "stderr",
     "output_type": "stream",
     "text": [
      "preparing dataloader:  37%|███▋      | 260/704 [00:06<00:15, 29.51it/s]"
     ]
    },
    {
     "name": "stdout",
     "output_type": "stream",
     "text": [
      "gw suka cara pdi_perjuangan yg tdk terpancing utk memecat gr. hal ini sdh perhitungkan dg matang efek negatifnya, yaitu akan dijdkan senjata: seolah didzolimi (playing victim) utk meraih suara   pdip: keanggotaan gibran di partai otomatis telah berakhir  .\n",
      "gw suka cara pdi_perjuangan yg tdk terpancing utk memecat gr. hal ini sdh perhitungkan dg matang efek negatifnya, yaitu akan dijdkan senjata: seolah didzolimi (playing victim) utk meraih suara   pdip: keanggotaan gibran di partai otomatis telah berakhir  .####[([3], [5, 6], 'NEU'), ([36, 37], [41, 42], 'NEG')]\n",
      "[([3], [5, 6], 'NEU'), ([36, 37], [41, 42], 'NEG')]\n"
     ]
    },
    {
     "name": "stderr",
     "output_type": "stream",
     "text": [
      "preparing dataloader:  38%|███▊      | 267/704 [00:07<00:15, 28.89it/s]"
     ]
    },
    {
     "name": "stdout",
     "output_type": "stream",
     "text": [
      "berdasarkan video ini...... gak boleh gitu maennya wo....... wo wo prabowo  konsultan lu gimana sih?kacau amat  .\n",
      "berdasarkan video ini...... gak boleh gitu maennya wo....... wo wo prabowo  konsultan lu gimana sih?kacau amat  .####[([13], [18], 'NEG')]\n",
      "[([13], [18], 'NEG')]\n"
     ]
    },
    {
     "name": "stderr",
     "output_type": "stream",
     "text": [
      "preparing dataloader:  41%|████      | 288/704 [00:08<00:15, 27.16it/s]"
     ]
    },
    {
     "name": "stdout",
     "output_type": "stream",
     "text": [
      "tanggapi dinasti politik jokowi, prabowo: semua dinasti kok, cari positifnya  cari pembenaran atas dinasti politik, padahal dinasti politik itu jelas merusak kualitas demokrasi.  semua orang memiliki hak yang sama dalam berpolitik. nilai demokrasi terancam terhapus ketika ada  .\n",
      "tanggapi dinasti politik jokowi, prabowo: semua dinasti kok, cari positifnya  cari pembenaran atas dinasti politik, padahal dinasti politik itu jelas merusak kualitas demokrasi.  semua orang memiliki hak yang sama dalam berpolitik. nilai demokrasi terancam terhapus ketika ada  .####[([1, 2], [24, 25, 26], 'NEG'), ([37, 26], [39, 40], 'NEG')]\n",
      "[([1, 2], [24, 25, 26], 'NEG'), ([37, 26], [39, 40], 'NEG')]\n",
      "3 pasangan di dukung yg namanya presiden.  , prabowo didukung presiden sby dn jokowi.  ganjar didukung presiden megawati.  anies jg didukung presiden yaitu presiden pks. wkwkwkw  .\n",
      "3 pasangan di dukung yg namanya presiden.  , prabowo didukung presiden sby dn jokowi.  ganjar didukung presiden megawati.  anies jg didukung presiden yaitu presiden pks. wkwkwkw  .####[([9], [10, 6, 12, 13, 14], 'POS'), ([16], [10, 6, 19], 'POS'), ([21], [10, 6, 25, 6, 27], 'NEU')]\n",
      "[([9], [10, 6, 12, 13, 14], 'POS'), ([16], [10, 6, 19], 'POS'), ([21], [10, 6, 25, 6, 27], 'NEU')]\n"
     ]
    },
    {
     "name": "stderr",
     "output_type": "stream",
     "text": [
      "preparing dataloader:  44%|████▍     | 308/704 [00:08<00:12, 32.59it/s]"
     ]
    },
    {
     "name": "stdout",
     "output_type": "stream",
     "text": [
      "cawapres kim wewenang mutlak capres, ahy: demokrat usulkan khofifah cawapres prabowo.. zmu  agusyudhoyono pdemokrat demokrat bareng rakyat  .\n",
      "cawapres kim wewenang mutlak capres, ahy: demokrat usulkan khofifah cawapres prabowo.. zmu  agusyudhoyono pdemokrat demokrat bareng rakyat  .####[([8], [18, 19], 'POS')]\n",
      "[([8], [18, 19], 'POS')]\n",
      "apa gak malu nie dgn laporan nya..? padahal thn 2019 ini pernah terjadi dlm debat pilpres jg dan di benar kan oleh omon omon... seorang pak anies gak akan berbicara tanpa data.. .\n",
      "apa gak malu nie dgn laporan nya..? padahal thn 2019 ini pernah terjadi dlm debat pilpres jg dan di benar kan oleh omon omon... seorang pak anies gak akan berbicara tanpa data.. .####[([29], [1, 31, 32, 33, 34], 'POS')]\n",
      "[([29], [1, 31, 32, 33, 34], 'POS')]\n"
     ]
    },
    {
     "name": "stderr",
     "output_type": "stream",
     "text": [
      "preparing dataloader:  46%|████▌     | 324/704 [00:09<00:08, 44.55it/s]"
     ]
    },
    {
     "name": "stdout",
     "output_type": "stream",
     "text": [
      "saya pendukung 01, saya akui cak imin itu badut. mari menjadi kesatria yng mengakui kesalahan, jgn jadi kesatria yg sibuk dicebokin.   .\n",
      "saya pendukung 01, saya akui cak imin itu badut. mari menjadi kesatria yng mengakui kesalahan, jgn jadi kesatria yg sibuk dicebokin.   .####[([1, 2], [6, 7, 8, 9], 'NEG'), ([13], [15, 16], 'POS'), ([13], [22, 23], 'NEG')]\n",
      "[([1, 2], [6, 7, 8, 9], 'NEG'), ([13], [15, 16], 'POS'), ([13], [22, 23], 'NEG')]\n",
      "ingat pesan pakde jokowi: jangan pilih pemimpin yang melanggar ham.. tanggal 14 februari 2024 jangan pilih prabowo gibran  .\n",
      "ingat pesan pakde jokowi: jangan pilih pemimpin yang melanggar ham.. tanggal 14 februari 2024 jangan pilih prabowo gibran  .####[([1], [5, 6, 7, 8, 9, 10], 'NEG'), ([18, 19], [5, 6], 'NEG')]\n",
      "[([1], [5, 6, 7, 8, 9, 10], 'NEG'), ([18, 19], [5, 6], 'NEG')]\n"
     ]
    },
    {
     "name": "stderr",
     "output_type": "stream",
     "text": [
      "preparing dataloader:  51%|█████     | 360/704 [00:09<00:05, 57.85it/s]"
     ]
    },
    {
     "name": "stdout",
     "output_type": "stream",
     "text": [
      "dengan adanya kolaborasi antara usia matang dan generasi muda akan semakin memperkuat negeri ini, pak prabowo gibran gaspol ,semua memberikan dukungannya untuk menjalankan  dan dukungan pun terus mengalir untuk capres terbaik,   .\n",
      "dengan adanya kolaborasi antara usia matang dan generasi muda akan semakin memperkuat negeri ini, pak prabowo gibran gaspol ,semua memberikan dukungannya untuk menjalankan  dan dukungan pun terus mengalir untuk capres terbaik,   .####[([2, 3, 4, 5, 6, 7, 8], [10, 11, 12, 13], 'POS'), ([16], [18], 'POS'), ([17], [18], 'POS'), ([31], [32], 'POS')]\n",
      "[([2, 3, 4, 5, 6, 7, 8], [10, 11, 12, 13], 'POS'), ([16], [18], 'POS'), ([17], [18], 'POS'), ([31], [32], 'POS')]\n"
     ]
    },
    {
     "name": "stderr",
     "output_type": "stream",
     "text": [
      "preparing dataloader:  56%|█████▌    | 394/704 [00:10<00:08, 36.49it/s]"
     ]
    },
    {
     "name": "stdout",
     "output_type": "stream",
     "text": [
      "tidak takut punya jabatan. tapi takut jika tdk dekat pemerintahan. ini riil dari omongan pak prabowo .\n",
      "tidak takut punya jabatan. tapi takut jika tdk dekat pemerintahan. ini riil dari omongan pak prabowo .####[([17], [0, 1, 2, 3], 'POS'), ([17], [1, 7, 8, 9, 10], 'NEG')]\n",
      "[([17], [0, 1, 2, 3], 'POS'), ([17], [1, 7, 8, 9, 10], 'NEG')]\n",
      "tak hanya kesetaraan gender, prabowo gibran juga dorong perlindungan anak, perempuan, dan disabilitas.  komitmen ini merupakan bagian dari program kerja asta cita prabowo gibran untuk membangun masyarakat yang adil dan inklusif.  gibran terus maju    .\n",
      "tak hanya kesetaraan gender, prabowo-gibran juga dorong perlindungan anak, perempuan, dan disabilitas.  komitmen ini merupakan bagian dari program kerja asta cita prabowo-gibran untuk membangun masyarakat yang adil dan inklusif.  gibran terus maju    .####[([5], [7], 'POS'), ([8, 9], [7], 'POS'), ([11], [7], 'POS'), ([14], [7], 'POS'), ([21, 22, 23, 24], [27, 28, 29, 30, 13, 32], 'POS'), ([34], [35, 36], 'POS')]\n",
      "[([5], [7], 'POS'), ([8, 9], [7], 'POS'), ([11], [7], 'POS'), ([14], [7], 'POS'), ([21, 22, 23, 24], [27, 28, 29, 30, 13, 32], 'POS'), ([34], [35, 36], 'POS')]\n",
      "kpu, kpu, debat cawapres diapus, gibran senang, rakyat bertanya tanya. kinbadboy        .\n",
      "kpu, kpu, debat cawapres diapus, gibran senang, rakyat bertanya-tanya. kinbadboy        .####[([8], [9], 'POS'), ([11], [12], 'NEG')]\n",
      "[([8], [9], 'POS'), ([11], [12], 'NEG')]\n"
     ]
    },
    {
     "name": "stderr",
     "output_type": "stream",
     "text": [
      "preparing dataloader:  61%|██████    | 431/704 [00:11<00:06, 40.11it/s]"
     ]
    },
    {
     "name": "stdout",
     "output_type": "stream",
     "text": [
      "mahfud md dicurhati investor: kalau tak menyuap proyek kami dibunuh, kalau menyuap kami dipenjarakan  .\n",
      "mahfud md dicurhati investor: kalau tak menyuap proyek kami dibunuh, kalau menyuap kami dipenjarakan  .####[([6, 7, 8], [9, 10], 'NEG'), ([7], [9, 15], 'NEG')]\n",
      "[([6, 7, 8], [9, 10], 'NEG'), ([7], [9, 15], 'NEG')]\n"
     ]
    },
    {
     "name": "stderr",
     "output_type": "stream",
     "text": [
      "preparing dataloader:  63%|██████▎   | 447/704 [00:12<00:05, 43.04it/s]"
     ]
    },
    {
     "name": "stdout",
     "output_type": "stream",
     "text": [
      "bjir kolom ig pak anies dispam buzzer 02. kalo di twitter udah dimasak bareng2 tuh buzzer geblek. ga kebayang tiktok yang katanya kasta terendah medsos. emang main twitter udah paling bener .\n",
      "bjir kolom ig pak anies dispam buzzer 02. kalo di twitter udah dimasak bareng2 tuh buzzer geblek. ga kebayang tiktok yang katanya kasta terendah medsos. emang main twitter udah paling bener .####[([1, 2], [5, 6], 'NEG'), ([6], [16], 'NEG'), ([10], [31, 32], 'POS')]\n",
      "[([1, 2], [5, 6], 'NEG'), ([6], [16], 'NEG'), ([10], [31, 32], 'POS')]\n"
     ]
    },
    {
     "name": "stderr",
     "output_type": "stream",
     "text": [
      "preparing dataloader:  66%|██████▋   | 468/704 [00:12<00:05, 44.85it/s]"
     ]
    },
    {
     "name": "stdout",
     "output_type": "stream",
     "text": [
      "pesandan;pesan positif dan semangat juang ganjar pranowodan;mahfud md terus mengalun di kampany3 akbar menyebar ke seluruh penjuru stadion dengan cepat. ganjar pranowo placeholder hanya dia yang betul merakyat dan akan berbuat lebih demi     .\n",
      "pesandan;pesan positif dan semangat juang ganjar pranowodan;mahfud md terus mengalun di kampany3 akbar menyebar ke seluruh penjuru stadion dengan cepat. ganjar pranowo - hanya dia yang betul merakyat dan akan berbuat lebih demi     .####[([7, 26], [32], 'POS'), ([7, 26], [35, 36], 'POS')]\n",
      "[([7, 26], [32], 'POS'), ([7, 26], [35, 36], 'POS')]\n"
     ]
    },
    {
     "name": "stderr",
     "output_type": "stream",
     "text": [
      "preparing dataloader:  68%|██████▊   | 482/704 [00:13<00:05, 37.18it/s]"
     ]
    },
    {
     "name": "stdout",
     "output_type": "stream",
     "text": [
      "rezim bikin lumbung ngibul... sudah hampir 10 th mereka ngapain saja... prabowo jg ga beres bikin food estate .\n",
      "rezim bikin lumbung ngibul... sudah hampir 10 th mereka ngapain saja... prabowo jg ga beres bikin food estate .####[([0], [2, 3], 'NEG'), ([13], [15, 16, 1, 18, 19], 'NEG'), ([18, 19], [15, 16], 'NEG')]\n",
      "[([0], [2, 3], 'NEG'), ([13], [15, 16, 1, 18, 19], 'NEG'), ([18, 19], [15, 16], 'NEG')]\n"
     ]
    },
    {
     "name": "stderr",
     "output_type": "stream",
     "text": [
      "preparing dataloader:  71%|███████▏  | 503/704 [00:13<00:04, 40.91it/s]"
     ]
    },
    {
     "name": "stdout",
     "output_type": "stream",
     "text": [
      "pak jokowi gak mungkin netral. dia selalu kampanye utk gibran dan kaesang. masa pemilu ini dia sibuk hanya untuk kemenangan anaknya. .\n",
      "pak jokowi gak mungkin netral. dia selalu kampanye utk gibran dan kaesang. masa pemilu ini dia sibuk hanya untuk kemenangan anaknya. .####[([1], [2, 3, 4], 'NEG'), ([14, 15], [18, 19, 20, 21, 22], 'NEG')]\n",
      "[([1], [2, 3, 4], 'NEG'), ([14, 15], [18, 19, 20, 21, 22], 'NEG')]\n"
     ]
    },
    {
     "name": "stderr",
     "output_type": "stream",
     "text": [
      "preparing dataloader:  74%|███████▍  | 522/704 [00:14<00:04, 38.38it/s]"
     ]
    },
    {
     "name": "stdout",
     "output_type": "stream",
     "text": [
      "pak ganjar konsistensi dan keberanian kalian patut diacungi jempol. mari bersama sama mendukung capr3s dan cawapres 2024 untuk indonesia yang lebih baik!. ganjar pranowo karena kamu berhak mendapatkan yang terbaik      .\n",
      "pak ganjar konsistensi dan keberanian kalian patut diacungi jempol. mari bersama-sama mendukung capr3s dan cawapres 2024 untuk indonesia yang lebih baik!. ganjar pranowo karena kamu berhak mendapatkan yang terbaik      .####[([1], [2], 'POS'), ([1], [4], 'POS'), ([1], [6, 7, 8], 'POS'), ([1, 25], [28, 29, 19, 31], 'POS')]\n",
      "[([1], [2], 'POS'), ([1], [4], 'POS'), ([1], [6, 7, 8], 'POS'), ([1, 25], [28, 29, 19, 31], 'POS')]\n",
      "hebat ya efek live tiktok abah anies trending di twitter dg : anies bubble park ahn nice abah kita semua emang seh seorang pemimpin hrs dekat dg rakyat disemua sektor lapisan masyarakat. dan abah anies coba lakukan hal itu. keren...!!!    .\n",
      "hebat ya efek live tiktok abah anies trending di twitter dg : anies bubble park ahn nice abah kita semua emang seh seorang pemimpin hrs dekat dg rakyat disemua sektor lapisan masyarakat. dan abah anies coba lakukan hal itu. keren...!!!    .####[([3, 4], [7], 'NEU'), ([6], [7], 'NEU'), ([6], [23, 24, 25, 10, 27], 'POS'), ([6], [41], 'POS')]\n",
      "[([3, 4], [7], 'NEU'), ([6], [7], 'NEU'), ([6], [23, 24, 25, 10, 27], 'POS'), ([6], [41], 'POS')]\n"
     ]
    },
    {
     "name": "stderr",
     "output_type": "stream",
     "text": [
      "preparing dataloader:  78%|███████▊  | 551/704 [00:14<00:03, 39.62it/s]"
     ]
    },
    {
     "name": "stdout",
     "output_type": "stream",
     "text": [
      "tentu nya pak anies ingin masyarakat indonesia ini merasakan nya,kesetaraan dan juga kesempatan. anies mengabdi   .\n",
      "tentu nya pak anies ingin masyarakat indonesia ini merasakan nya,kesetaraan dan juga kesempatan. anies mengabdi   .####[([3], [4, 5, 6, 7, 8, 1, 10, 11, 12, 13, 14], 'POS'), ([3], [17], 'POS')]\n",
      "[([3], [4, 5, 6, 7, 8, 1, 10, 11, 12, 13, 14], 'POS'), ([3], [17], 'POS')]\n",
      "dalam acara konsolidasi 45 hari menuju kemenangan ganjar mahfud (30/12/2023), cawapres 03 mahfud md berkomitmen akan hadirkan 21 program unggulan demi terwujudnya kesejahteraan rakyat indonesia.  .\n",
      "dalam acara konsolidasi 45 hari menuju kemenangan ganjar-mahfud (30/12/2023), cawapres 03 mahfud md berkomitmen akan hadirkan 21 program unggulan demi terwujudnya kesejahteraan rakyat indonesia.  .####[([19, 20, 21], [22, 23, 24, 25, 26], 'POS')]\n",
      "[([19, 20, 21], [22, 23, 24, 25, 26], 'POS')]\n",
      "udah pakai cara order baru, main aniaya, ntar juga main culik. ngeri coy.   katanya ciptakan pemilu damai, tapi apa buktinya sampai ada korban jiwa.  asal bukan prabowo  .\n",
      "udah pakai cara order baru, main aniaya, ntar juga main culik. ngeri coy.   katanya ciptakan pemilu damai, tapi apa buktinya sampai ada korban jiwa.  asal bukan prabowo  .####[([32], [30, 31], 'NEG')]\n",
      "[([32], [30, 31], 'NEG')]\n"
     ]
    },
    {
     "name": "stderr",
     "output_type": "stream",
     "text": [
      "preparing dataloader:  88%|████████▊ | 616/704 [00:16<00:02, 40.49it/s]"
     ]
    },
    {
     "name": "stdout",
     "output_type": "stream",
     "text": [
      "prabowo beri peringatan keras soal upah kepada buruh  karena bbm kita dari dalam negeri. jadi kita bantu pengusaha dan buruh. ke buruh, hai buruh, angkutan akan kita bebaskan supaya kerja ringan. jadi jangan kau tuntut pengusaha, nanti . waduh..! prabowo anti buruh  .\n",
      "prabowo beri peringatan keras soal upah kepada buruh  karena bbm kita dari dalam negeri. jadi kita bantu pengusaha dan buruh. ke buruh, hai buruh, angkutan akan kita bebaskan supaya kerja ringan. jadi jangan kau tuntut pengusaha, nanti . waduh..! prabowo anti buruh  .####[([0], [48, 7], 'NEG')]\n",
      "[([0], [48, 7], 'NEG')]\n"
     ]
    },
    {
     "name": "stderr",
     "output_type": "stream",
     "text": [
      "preparing dataloader:  91%|█████████ | 642/704 [00:17<00:01, 45.83it/s]"
     ]
    },
    {
     "name": "stdout",
     "output_type": "stream",
     "text": [
      "mantab bener ini. hai jokowi prabowo gibran_tweet kurawa psi_id dll anda jgn main dg rakyat. rakyat sdh mulai bergerak utk menghancurkan ambisi kalian rebut demokrasi dr para politisi busuk! .\n",
      "mantab bener ini. hai jokowi prabowo gibran_tweet kurawa psi_id dll anda jgn main dg rakyat. rakyat sdh mulai bergerak utk menghancurkan ambisi kalian rebut demokrasi dr para politisi busuk! .####[([15], [19, 20, 21, 22, 23], 'NEG'), ([29], [30], 'NEG')]\n",
      "[([15], [19, 20, 21, 22, 23], 'NEG'), ([29], [30], 'NEG')]\n",
      "mas anies dan gus imin (amin)  menilai pemerintah perlu menciptakan dan menguatkan sistem perlindungan sosial, sehingga kemiskinan, pengangguran dan ketimpangan bisa turun secara signifikan      .\n",
      "mas anies dan gus imin (amin)  menilai pemerintah perlu menciptakan dan menguatkan sistem perlindungan sosial, sehingga kemiskinan, pengangguran dan ketimpangan bisa turun secara signifikan      .####[([14, 15, 16], [13], 'POS'), ([19], [25, 26, 27], 'POS'), ([21], [25, 26, 27], 'POS'), ([23], [25, 26, 27], 'POS')]\n",
      "[([14, 15, 16], [13], 'POS'), ([19], [25, 26, 27], 'POS'), ([21], [25, 26, 27], 'POS'), ([23], [25, 26, 27], 'POS')]\n"
     ]
    },
    {
     "name": "stderr",
     "output_type": "stream",
     "text": [
      "preparing dataloader:  96%|█████████▌| 675/704 [00:17<00:00, 44.41it/s]"
     ]
    },
    {
     "name": "stdout",
     "output_type": "stream",
     "text": [
      "cebong dan oposisi sama sama mengkritisi pencawapresan gibran prabowo . cebong mengkritisi bahkan menghina ps, krn takut jagoannya tersaingi. sedang oposisi mengkritisi krn ada hukum yg di buat mainan oleh mk .  cebong memuja seseorang atau golongan . oposisi memuja nkri tegak.  .\n",
      "cebong dan oposisi sama sama mengkritisi pencawapresan gibran prabowo . cebong mengkritisi bahkan menghina ps, krn takut jagoannya tersaingi. sedang oposisi mengkritisi krn ada hukum yg di buat mainan oleh mk .  cebong memuja seseorang atau golongan . oposisi memuja nkri tegak.  .####[([0], [5, 6, 7, 8], 'NEU'), ([0], [35, 36, 37, 38], 'POS'), ([2], [5, 6, 7, 8], 'NEU'), ([2], [5, 16, 25, 26, 27, 28, 29, 30, 31, 32], 'NEG'), ([2], [35, 42, 43], 'POS')]\n",
      "[([0], [5, 6, 7, 8], 'NEU'), ([0], [35, 36, 37, 38], 'POS'), ([2], [5, 6, 7, 8], 'NEU'), ([2], [5, 16, 25, 26, 27, 28, 29, 30, 31, 32], 'NEG'), ([2], [35, 42, 43], 'POS')]\n"
     ]
    },
    {
     "name": "stderr",
     "output_type": "stream",
     "text": [
      "preparing dataloader: 100%|██████████| 704/704 [00:18<00:00, 37.64it/s]\n"
     ]
    },
    {
     "name": "stdout",
     "output_type": "stream",
     "text": [
      "2024-05-19 02:51:44,990 INFO: Load dataset from integrated_datasets\\aste_datasets\\100.seribu_data\\test.dat.apc\n"
     ]
    },
    {
     "name": "stderr",
     "output_type": "stream",
     "text": [
      "preparing dataloader:  11%|█         | 17/152 [00:00<00:03, 34.51it/s]"
     ]
    },
    {
     "name": "stdout",
     "output_type": "stream",
     "text": [
      "dukung pak ganjar dan mahfud md mereka adalah pemimpin yang sederhana, kerjanya luar biasa, berprestasi, siap untuk indonesia     .\n",
      "dukung pak ganjar dan mahfud md mereka adalah pemimpin yang sederhana, kerjanya luar biasa, berprestasi, siap untuk indonesia     .####[([8], [10], 'POS'), ([8], [12, 13, 14], 'POS'), ([8], [16], 'POS'), ([8], [18, 19, 20], 'POS')]\n",
      "[([8], [10], 'POS'), ([8], [12, 13, 14], 'POS'), ([8], [16], 'POS'), ([8], [18, 19, 20], 'POS')]\n"
     ]
    },
    {
     "name": "stderr",
     "output_type": "stream",
     "text": [
      "preparing dataloader:  32%|███▏      | 49/152 [00:01<00:02, 40.37it/s]"
     ]
    },
    {
     "name": "stdout",
     "output_type": "stream",
     "text": [
      "blt dan bansos itu duit negara, bukan diambil dari kantongnya jokowi dan prabowo. ini cara2 kampanye intimidatif dan membodohi masyarakat .\n",
      "blt dan bansos itu duit negara, bukan diambil dari kantongnya jokowi dan prabowo. ini cara2 kampanye intimidatif dan membodohi masyarakat .####[([17], [18], 'NEG'), ([17], [20, 21], 'POS')]\n",
      "[([17], [18], 'NEG'), ([17], [20, 21], 'POS')]\n"
     ]
    },
    {
     "name": "stderr",
     "output_type": "stream",
     "text": [
      "preparing dataloader:  39%|███▉      | 59/152 [00:01<00:02, 37.63it/s]"
     ]
    },
    {
     "name": "stdout",
     "output_type": "stream",
     "text": [
      "bangun pagi buka tiktok liat tanggapan capres semalem. dan liat mba nana sendiri bilang ada apa dengan pak anies baswedan selalu memancing pak prabowo subianto padahal beliau dulu pernah nolong pak anies. kenapa pak anies ke pak prabowo se begitu ingin menjatuhkan. .\n",
      "bangun pagi buka tiktok liat tanggapan capres semalem. dan liat mba nana sendiri bilang ada apa dengan pak anies baswedan selalu memancing pak prabowo subianto padahal beliau dulu pernah nolong pak anies. kenapa pak anies ke pak prabowo se begitu ingin menjatuhkan. .####[([19, 20], [22, 18, 24, 25], 'NEU'), ([19], [43], 'NEG')]\n",
      "[([19, 20], [22, 18, 24, 25], 'NEU'), ([19], [43], 'NEG')]\n",
      "pengalaman dan kompetensi: anies baswedan telah memiliki pengalaman dalam kepemimpinan sebagai gubernur dki jakarta dan memiliki latar belakang pendidikan yg kuat. sementara itu, cak imin memiliki pengalaman politik yg luas sebagai ketua umum partai politik besar   .\n",
      "pengalaman dan kompetensi: anies baswedan telah memiliki pengalaman dalam kepemimpinan sebagai gubernur dki jakarta dan memiliki latar belakang pendidikan yg kuat. sementara itu, cak imin memiliki pengalaman politik yg luas sebagai ketua umum partai politik besar   .####[([0, 30], [32], 'POS'), ([4, 5], [7, 0], 'POS'), ([10], [7, 0], 'POS'), ([12, 13, 14], [7, 0], 'POS'), ([17, 18, 19], [21], 'POS'), ([26, 27], [7, 0, 30], 'POS'), ([34, 35, 36, 30, 38], [7, 0, 30], 'POS')]\n",
      "[([0, 30], [32], 'POS'), ([4, 5], [7, 0], 'POS'), ([10], [7, 0], 'POS'), ([12, 13, 14], [7, 0], 'POS'), ([17, 18, 19], [21], 'POS'), ([26, 27], [7, 0, 30], 'POS'), ([34, 35, 36, 30, 38], [7, 0, 30], 'POS')]\n",
      "owhh ini ..yaa hahahaa... gibran_tweet wkwkwwkwkwk ....pembual .\n",
      "owhh ini ..yaa hahahaa... gibran_tweet wkwkwwkwkwk ....pembual .####[([6], [9], 'NEG')]\n",
      "[([6], [9], 'NEG')]\n"
     ]
    },
    {
     "name": "stderr",
     "output_type": "stream",
     "text": [
      "preparing dataloader:  53%|█████▎    | 81/152 [00:02<00:01, 36.57it/s]"
     ]
    },
    {
     "name": "stdout",
     "output_type": "stream",
     "text": [
      "semangat muda menyala di kampany3 akbar untuk ganjar pranowodan;mahfud md. ganjar pranowo terbukti mensejahterakan rsydnrdn     .\n",
      "semangat muda menyala di kampany3 akbar untuk ganjar pranowodan;mahfud md. ganjar pranowo terbukti mensejahterakan rsydnrdn     .####[([4, 5], [2], 'POS'), ([7, 14], [16], 'POS')]\n",
      "[([4, 5], [2], 'POS'), ([7, 14], [16], 'POS')]\n"
     ]
    },
    {
     "name": "stderr",
     "output_type": "stream",
     "text": [
      "preparing dataloader:  64%|██████▍   | 98/152 [00:02<00:01, 35.78it/s]"
     ]
    },
    {
     "name": "stdout",
     "output_type": "stream",
     "text": [
      "katanya elektabilitas prabowo placeholder gibran 50,2%. tapi sampai hari ini saya tdk melihat kelompok pemilih pemula yg bergabung dgn kubu mereka atau sekedar menyatakan dukungan. padahal suara pemilih pemula mencapai angka 32% dari total 215 juta pemilih. 02 makin kesini makin gak jelas! .\n",
      "katanya elektabilitas prabowo - gibran 50,2%. tapi sampai hari ini saya tdk melihat kelompok pemilih pemula yg bergabung dgn kubu mereka atau sekedar menyatakan dukungan. padahal suara pemilih pemula mencapai angka 32% dari total 215 juta pemilih. 02 makin kesini makin gak jelas! .####[([1], [13, 14, 15, 16, 17, 18, 19], 'NEG'), ([42], [43, 46, 47], 'NEG')]\n",
      "[([1], [13, 14, 15, 16, 17, 18, 19], 'NEG'), ([42], [43, 46, 47], 'NEG')]\n",
      "plis cak cakiminow sudahin dan stop yang beginian, mari lebih seriusan sekarang. kasihan pak anies yang sudah mulai mengawali dengan sentimen positif baik di medsos maupun langsung di tengah masyarakat. nggak perlu niru paslon sebelah yang norak itu  .\n",
      "plis cak cakiminow sudahin dan stop yang beginian, mari lebih seriusan sekarang. kasihan pak anies yang sudah mulai mengawali dengan sentimen positif baik di medsos maupun langsung di tengah masyarakat. nggak perlu niru paslon sebelah yang norak itu  .####[([16], [14], 'NEU'), ([16], [22, 23], 'POS'), ([26], [22, 23], 'POS'), ([30, 31], [22, 23], 'POS'), ([36, 37], [39], 'NEG')]\n",
      "[([16], [14], 'NEU'), ([16], [22, 23], 'POS'), ([26], [22, 23], 'POS'), ([30, 31], [22, 23], 'POS'), ([36, 37], [39], 'NEG')]\n"
     ]
    },
    {
     "name": "stderr",
     "output_type": "stream",
     "text": [
      "preparing dataloader:  72%|███████▏  | 110/152 [00:03<00:01, 35.49it/s]"
     ]
    },
    {
     "name": "stdout",
     "output_type": "stream",
     "text": [
      "viral!!! gaya berpakaian gibran menuai sorotan, karena memakai produk lokal, support umkm   gibran melesat gibran terus maju      .\n",
      "viral!!! gaya berpakaian gibran menuai sorotan, karena memakai produk lokal, support umkm   gibran melesat gibran terus maju      .####[([4, 5, 6], [7, 8], 'POS'), ([15, 16], [6, 18], 'POS'), ([15, 16], [6, 20, 21], 'POS')]\n",
      "[([4, 5, 6], [7, 8], 'POS'), ([15, 16], [6, 18], 'POS'), ([15, 16], [6, 20, 21], 'POS')]\n"
     ]
    },
    {
     "name": "stderr",
     "output_type": "stream",
     "text": [
      "preparing dataloader:  84%|████████▎ | 127/152 [00:03<00:00, 35.74it/s]"
     ]
    },
    {
     "name": "stdout",
     "output_type": "stream",
     "text": [
      "mulai gk sadar diri cakiminow  ini. trus dpp_pkb  bukankah salah satu yg mendorong hal tak berguna ini jd prolegnas, dan pkb jg setuju u/ uu ikn? jgn nyampah cak.  memang serendah ini kah cak imin yg diusung pksejahtera  ini? sementara dpp_pkb hanya pelengkap syarat kursi. .\n",
      "mulai gk sadar diri cakiminow  ini. trus dpp_pkb  bukankah salah satu yg mendorong hal tak berguna ini jd prolegnas, dan pkb jg setuju u/ uu ikn? jgn nyampah cak.  memang serendah ini kah cak imin yg diusung pksejahtera  ini? sementara dpp_pkb hanya pelengkap syarat kursi. .####[([4], [1, 2, 3], 'NEG'), ([8], [46, 47, 48, 49], 'NEG'), ([31, 38], [34], 'NEG')]\n",
      "[([4], [1, 2, 3], 'NEG'), ([8], [46, 47, 48, 49], 'NEG'), ([31, 38], [34], 'NEG')]\n",
      "10 th lalu bikin hoax mudah sex; cari kebenaran sukar; 5 th lalu bikin hoax n sebarkan sama mudah n cepat; skrg sebar hoax n bongkarnya sama cepat. bbrp media saji facts checks . demokratisasi informasi sdh meratakan lapangan. krn itu kita rakyat bisa lawan prabowo gibran. .\n",
      "10 th lalu bikin hoax mudah sex; cari kebenaran sukar; 5 th lalu bikin hoax n sebarkan sama mudah n cepat; skrg sebar hoax n bongkarnya sama cepat. bbrp media saji facts checks . demokratisasi informasi sdh meratakan lapangan. krn itu kita rakyat bisa lawan prabowo-gibran. .####[([47], [48, 49, 50], 'NEG')]\n",
      "[([47], [48, 49, 50], 'NEG')]\n",
      "pak anies memang keren!!  anies menginspirasi  .\n",
      "pak anies memang keren!!  anies menginspirasi  .####[([1], [3], 'POS'), ([1], [7], 'POS')]\n",
      "[([1], [3], 'POS'), ([1], [7], 'POS')]\n"
     ]
    },
    {
     "name": "stderr",
     "output_type": "stream",
     "text": [
      "preparing dataloader: 100%|██████████| 152/152 [00:04<00:00, 35.31it/s]\n"
     ]
    },
    {
     "name": "stdout",
     "output_type": "stream",
     "text": [
      "2024-05-19 02:51:51,722 INFO: Load dataset from integrated_datasets\\aste_datasets\\100.seribu_data\\dev.dat.apc\n"
     ]
    },
    {
     "name": "stderr",
     "output_type": "stream",
     "text": [
      "preparing dataloader:  52%|█████▏    | 78/151 [00:01<00:01, 37.18it/s]"
     ]
    },
    {
     "name": "stdout",
     "output_type": "stream",
     "text": [
      "sementara prof jimly adalah pendukung prabowo.  ya pada akhirnya tetap patut diduga keputusannya akan bias..   contohnya prof yusril, bilang bhw keputusan mk ttg batas bawah umur capres cawapres cacat hukum, tapi sosok hasil cacat hukum tsb tetap dia dukung.   proses yg jorok !  .\n",
      "sementara prof jimly adalah pendukung prabowo.  ya pada akhirnya tetap patut diduga keputusannya akan bias..   contohnya prof yusril, bilang bhw keputusan mk ttg batas bawah umur capres cawapres cacat hukum, tapi sosok hasil cacat hukum tsb tetap dia dukung.   proses yg jorok !  .####[([23, 24, 25, 26, 27, 28], [31, 32], 'NEG'), ([35, 36, 31, 32], [10, 41, 42], 'NEU'), ([44], [46], 'NEG')]\n",
      "[([23, 24, 25, 26, 27, 28], [31, 32], 'NEG'), ([35, 36, 31, 32], [10, 41, 42], 'NEU'), ([44], [46], 'NEG')]\n",
      "menurut aniesbaswedan, pendidikan berkualitas menjadi jalan jangka panjang untuk bisa meningkatkan tingkat kehidupan warga jakarta.  anies cerdas  .\n",
      "menurut aniesbaswedan, pendidikan berkualitas menjadi jalan jangka panjang untuk bisa meningkatkan tingkat kehidupan warga jakarta.  anies cerdas  .####[([3], [4], 'POS'), ([3], [10, 11, 12, 13, 14, 15], 'POS'), ([17], [18], 'POS')]\n",
      "[([3], [4], 'POS'), ([3], [10, 11, 12, 13, 14, 15], 'POS'), ([17], [18], 'POS')]\n"
     ]
    },
    {
     "name": "stderr",
     "output_type": "stream",
     "text": [
      "preparing dataloader:  60%|█████▉    | 90/151 [00:02<00:01, 34.24it/s]"
     ]
    },
    {
     "name": "stdout",
     "output_type": "stream",
     "text": [
      "soal investasi, cak imin waktu acara debat menyatakan harus ada kepastian hukum, dia menyebut omnibuslaw cipta kerja. kalau masih mau pakai uu ck, apakah itu yang dikatakan pembaruan? uu ck itu petaka bos!! .\n",
      "soal investasi, cak imin waktu acara debat menyatakan harus ada kepastian hukum, dia menyebut omnibuslaw cipta kerja. kalau masih mau pakai uu ck, apakah itu yang dikatakan pembaruan? uu ck itu petaka bos!! .####[([3, 4], [8, 9, 10, 11, 12], 'POS'), ([16, 17, 18], [36], 'NEG'), ([24, 25], [36], 'NEG'), ([24, 25], [36], 'NEG')]\n",
      "[([3, 4], [8, 9, 10, 11, 12], 'POS'), ([16, 17, 18], [36], 'NEG'), ([24, 25], [36], 'NEG'), ([24, 25], [36], 'NEG')]\n"
     ]
    },
    {
     "name": "stderr",
     "output_type": "stream",
     "text": [
      "preparing dataloader:  65%|██████▍   | 98/151 [00:02<00:01, 32.34it/s]"
     ]
    },
    {
     "name": "stdout",
     "output_type": "stream",
     "text": [
      "tugas dari paman selesai. sebelumnya gibran lolos cawapres. hari ini giliran prabowo.  putusan mk dinilai tak lazim dan sarat konflik kepentingan.   .\n",
      "tugas dari paman selesai. sebelumnya gibran lolos cawapres. hari ini giliran prabowo.  putusan mk dinilai tak lazim dan sarat konflik kepentingan.   .####[([15, 16], [17, 18, 19], 'NEG'), ([15, 16], [21, 22, 23], 'NEG')]\n",
      "[([15, 16], [17, 18, 19], 'NEG'), ([15, 16], [21, 22, 23], 'NEG')]\n"
     ]
    },
    {
     "name": "stderr",
     "output_type": "stream",
     "text": [
      "preparing dataloader:  97%|█████████▋| 146/151 [00:04<00:00, 30.49it/s]"
     ]
    },
    {
     "name": "stdout",
     "output_type": "stream",
     "text": [
      "alasanku mendukung pasangan calon presiden anies baswedan dan calon wakil presiden muhaimin iskandar (cak imin) atau amin karna pasangan itu dinilai tepat mewujudkan perubahan.   .\n",
      "alasanku mendukung pasangan calon presiden anies baswedan dan calon wakil presiden muhaimin iskandar (cak imin) atau amin karna pasangan itu dinilai tepat mewujudkan perubahan.   .####[([2, 21], [22, 23, 24, 25], 'POS')]\n",
      "[([2, 21], [22, 23, 24, 25], 'POS')]\n",
      "sudah terbaca kalau ganjarpranowo placeholder mohmahfudmd yang akan memenangkan pilpres 2024 nanti, tidak bisa dibantah, mari kita kuatkan dukungan kpd orang baik, orang baik lah yang pantas pemimpin indonesia 5 thn ke depan, brantas korupsi merampas semua asetnya kembalikan kpd negara.  .\n",
      "sudah terbaca kalau ganjarpranowo - mohmahfudmd yang akan memenangkan pilpres 2024 nanti, tidak bisa dibantah, mari kita kuatkan dukungan kpd orang baik, orang baik lah yang pantas pemimpin indonesia 5 thn ke depan, brantas korupsi merampas semua asetnya kembalikan kpd negara.  .####[([3], [7, 8, 9], 'POS'), ([3], [22, 23], 'POS'), ([5], [7, 8, 9], 'POS'), ([5], [22, 23], 'POS'), ([22, 23], [29, 30, 31], 'POS'), ([22, 23], [37, 38, 39, 40, 41, 42, 21, 44], 'POS')]\n",
      "[([3], [7, 8, 9], 'POS'), ([3], [22, 23], 'POS'), ([5], [7, 8, 9], 'POS'), ([5], [22, 23], 'POS'), ([22, 23], [29, 30, 31], 'POS'), ([22, 23], [37, 38, 39, 40, 41, 42, 21, 44], 'POS')]\n"
     ]
    },
    {
     "name": "stderr",
     "output_type": "stream",
     "text": [
      "preparing dataloader: 100%|██████████| 151/151 [00:04<00:00, 35.80it/s]\n"
     ]
    },
    {
     "name": "stdout",
     "output_type": "stream",
     "text": [
      "building vocab...\n"
     ]
    },
    {
     "name": "stderr",
     "output_type": "stream",
     "text": [
      "converting data to features:   4%|▎         | 24/661 [00:02<01:03, 10.09it/s]"
     ]
    },
    {
     "name": "stdout",
     "output_type": "stream",
     "text": [
      "[2024-05-19 02:51:59] (2.3.4) Processing error for: kesehatan masyarakat diperhatikan dengan baik oleh ganjar mahfud lewat program 1 desa 1 nakes 1 faskes. semangat terus, pak ganjar! ilybylher1  satset bareng gama  .. Exception: list index out of range\n"
     ]
    },
    {
     "name": "stderr",
     "output_type": "stream",
     "text": [
      "converting data to features:   9%|▉         | 58/661 [00:07<01:23,  7.22it/s]"
     ]
    },
    {
     "name": "stdout",
     "output_type": "stream",
     "text": [
      "[2024-05-19 02:52:03] (2.3.4) Processing error for: cak imin, ngomongnya aja udah bikin ketawa, gak cocok jadi wakil presiden! prameswari097  prabowo gibran berprestasi | bem ui | samsul ndasmu | min mau min    .. Exception: list index out of range\n"
     ]
    },
    {
     "name": "stderr",
     "output_type": "stream",
     "text": [
      "converting data to features:  12%|█▏        | 80/661 [00:09<00:55, 10.48it/s]"
     ]
    },
    {
     "name": "stdout",
     "output_type": "stream",
     "text": [
      "[2024-05-19 02:52:05] (2.3.4) Processing error for: wah luar biasa pasangan prabowo gibran, selalu unggul dalam survei, terbaru pasangan ini unggul 43,5% dri lawan lawanya  gibran terus maju tokyo dome kedokteran kami muak  .. Exception: list index out of range\n"
     ]
    },
    {
     "name": "stderr",
     "output_type": "stream",
     "text": [
      "converting data to features:  14%|█▍        | 94/661 [00:11<00:49, 11.45it/s]"
     ]
    },
    {
     "name": "stdout",
     "output_type": "stream",
     "text": [
      "[2024-05-19 02:52:07] (2.3.4) Processing error for: tbh tim2 buzzer ganjar ini mainnya belakangan kurang cantik,,yg tadinya suka ganjar bisa jadi benci,banyak banget kontroversinya,info2 salah yg disebarkan,menjelek2an,,ayolah fokus pada pak ganjar untuk menang,,pemilih yg masi belum menentukan suara ky sy ini jadi jauhin ganjar .. Exception: list index out of range\n"
     ]
    },
    {
     "name": "stderr",
     "output_type": "stream",
     "text": [
      "converting data to features:  17%|█▋        | 110/661 [00:12<00:35, 15.37it/s]"
     ]
    },
    {
     "name": "stdout",
     "output_type": "stream",
     "text": [
      "[2024-05-19 02:52:08] (2.3.4) Processing error for: lembaga survei indonesia (lsi) merilis survei terbaru elektabilitas capres 2024. siapa lebih unggul antara prabowo, ganjar, anies?  .. Exception: list index out of range\n"
     ]
    },
    {
     "name": "stderr",
     "output_type": "stream",
     "text": [
      "converting data to features:  18%|█▊        | 121/661 [00:13<00:40, 13.38it/s]"
     ]
    },
    {
     "name": "stdout",
     "output_type": "stream",
     "text": [
      "[2024-05-19 02:52:09] (2.3.4) Processing error for: yes keren, makinyakin ayahbowogibran akan mengkaji untuk menjaga hak kita2, termasuk hak atas hidup dan keadilan yg setara.     yespakbowo emangmumpuni prabowo gerindra .. Exception: list index out of range\n"
     ]
    },
    {
     "name": "stderr",
     "output_type": "stream",
     "text": [
      "converting data to features:  28%|██▊       | 188/661 [00:19<00:40, 11.56it/s]"
     ]
    },
    {
     "name": "stdout",
     "output_type": "stream",
     "text": [
      "[2024-05-19 02:52:16] (2.3.4) Processing error for: dukungan bagi calon presiden (capres) ganjar pranowo terus berdatangan. kali ini datang dari sejumlah ketua adat papua yang menyatakan sikap untuk mendukung kepada capres berambut putih ini.  pada hari ini, sabtu, 21 oktober, sejumlah ketua adat papua menemui ganjar pranowo di  .. Exception: list index out of range\n"
     ]
    },
    {
     "name": "stderr",
     "output_type": "stream",
     "text": [
      "converting data to features:  30%|██▉       | 196/661 [00:21<00:54,  8.53it/s]"
     ]
    },
    {
     "name": "stdout",
     "output_type": "stream",
     "text": [
      "[2024-05-19 02:52:17] (2.3.4) Processing error for: mas anies mas anies  jangan jadi kacang lupa kulit dong. - bilang ga maju capres selama pak prabowo ikut, ternyata maju. - ga percaya demokrasi. dateng malam malam ke rumah pak prabowo jadi gubernur di usung gerindra - nyentil ranah pribadi urusah usaha  .. Exception: list index out of range\n"
     ]
    },
    {
     "name": "stderr",
     "output_type": "stream",
     "text": [
      "converting data to features:  33%|███▎      | 220/661 [00:23<00:41, 10.50it/s]"
     ]
    },
    {
     "name": "stdout",
     "output_type": "stream",
     "text": [
      "[2024-05-19 02:52:20] (2.3.4) Processing error for: peningkatan investasi riset akan menciptakan lapangan kerja baru dan meningkatkan daya saing ekonomi. saya yakin ganjar pranowo dan mahfud md dapat mewujudkannya. _dapane happy new year      .. Exception: list index out of range\n"
     ]
    },
    {
     "name": "stderr",
     "output_type": "stream",
     "text": [
      "converting data to features:  39%|███▊      | 255/661 [00:27<00:38, 10.48it/s]"
     ]
    },
    {
     "name": "stdout",
     "output_type": "stream",
     "text": [
      "[2024-05-19 02:52:23] (2.3.4) Processing error for: raja dan ibu suri baperan, elektabilitas anaknya nyungsep kita lawan tirani dengan suara satu ke ganjar mahfud, capres pilihan rakyat timnya solid, beda sama tim prabowo dan anies yang berantakan renanda2506 ?t=valh squki1 jv8f8xndsqdan s=09  .. Exception: list index out of range\n",
      "[2024-05-19 02:52:23] (2.3.4) Processing error for: catatan: sy nggak percaya pd survei manapun. cuma kalau itu dikhawatirkan aniesbaswedan en tim. saran saya cakiminow harus segera out dr rezim kkn jokowi. itu akan membangkitkan marwah perjuangan perubahan. .. Exception: list index out of range\n"
     ]
    },
    {
     "name": "stderr",
     "output_type": "stream",
     "text": [
      "converting data to features:  50%|█████     | 331/661 [00:33<00:30, 10.87it/s]"
     ]
    },
    {
     "name": "stdout",
     "output_type": "stream",
     "text": [
      "[2024-05-19 02:52:29] (2.3.4) Processing error for: ganjar mahfud memastikan melanjutkan program bansos. program yang disetujui dpr dan telah dianggarkan di kementrian keuangan ini, ke depan akan disalurkan dengan lebih tepat sasaran.  ganjar mahfud akan menyempurnakan penyaluran bansos dengan program ktp sakti  .. Exception: list index out of range\n"
     ]
    },
    {
     "name": "stderr",
     "output_type": "stream",
     "text": [
      "converting data to features:  51%|█████     | 337/661 [00:34<00:31, 10.22it/s]"
     ]
    },
    {
     "name": "stdout",
     "output_type": "stream",
     "text": [
      "[2024-05-19 02:52:30] (2.3.4) Processing error for: 14 tahun kami mengenal pak prabowo , beliau sosok yg tegas, bukan type pura pura dan ketika beliau sudah berkomitmen maka akan memegang teguh kesetiaan!! itulah pak prabowo  .. Exception: list index out of range\n"
     ]
    },
    {
     "name": "stderr",
     "output_type": "stream",
     "text": [
      "converting data to features:  54%|█████▍    | 359/661 [00:37<00:38,  7.78it/s]"
     ]
    },
    {
     "name": "stdout",
     "output_type": "stream",
     "text": [
      "[2024-05-19 02:52:33] (2.3.4) Processing error for: di tengah penetrasi masif prabowo gibran, anies muhaimin dan ganjar mahfud masih dominan menguasai wilayah basis pendukungnya.  bahkan, beberapa daerah yang dalam pemilu 2019 menjadi benteng prabowo kini dapat dikuasai.     .. Exception: list index out of range\n",
      "[2024-05-19 02:52:33] (2.3.4) Processing error for: kata adalah doa. pemimpin yang pandai merangkai kata adalah dia yang piawai membingkai doa. anies intelektualnya teruji dan religiusnya terbukti. kalo bisa dapat paket komplit kenapa milih yang paket hemat?   .. Exception: list index out of range\n"
     ]
    },
    {
     "name": "stderr",
     "output_type": "stream",
     "text": [
      "converting data to features:  55%|█████▌    | 365/661 [00:38<00:43,  6.83it/s]"
     ]
    },
    {
     "name": "stdout",
     "output_type": "stream",
     "text": [
      "[2024-05-19 02:52:34] (2.3.4) Processing error for: mas ganjar, anak muda jateng dukung ganjar mahfud, bukan prabowo gibran. ganjar presiden, wujudkan perubahan positif! 419tajul  kami muak atas ketidakadilandankeserakahan  .. Exception: list index out of range\n"
     ]
    },
    {
     "name": "stderr",
     "output_type": "stream",
     "text": [
      "converting data to features:  62%|██████▏   | 407/661 [00:42<00:20, 12.22it/s]"
     ]
    },
    {
     "name": "stdout",
     "output_type": "stream",
     "text": [
      "[2024-05-19 02:52:39] (2.3.4) Processing error for: iya sih, ayah bowogibran terbaik makin diyakini jadi capres sebab bisa mengelola kerja terbaik, integritas, dan keahliannya untuk nkri.  ayah bowogibran terbaik   prabowo gerindra  .. Exception: list index out of range\n"
     ]
    },
    {
     "name": "stderr",
     "output_type": "stream",
     "text": [
      "converting data to features:  64%|██████▍   | 426/661 [00:44<00:16, 14.19it/s]"
     ]
    },
    {
     "name": "stdout",
     "output_type": "stream",
     "text": [
      "[2024-05-19 02:52:40] (2.3.4) Processing error for: ganjar pranowo dan mahfud md mendengarkan suara rakyat, dan itu sangat positif __xxwa  ganjar mahfud m3nang  .. Exception: list index out of range\n"
     ]
    },
    {
     "name": "stderr",
     "output_type": "stream",
     "text": [
      "converting data to features:  70%|███████   | 465/661 [00:47<00:20,  9.51it/s]"
     ]
    },
    {
     "name": "stdout",
     "output_type": "stream",
     "text": [
      "[2024-05-19 02:52:44] (2.3.4) Processing error for: fakta mahfud md sebagai cawapres pilihan! megawati soekarnoputri, presiden ri kelima, menegaskan bahwa mahfud md adalah sosok yang telah mengakumulasi pengalaman luas di berbagai lembaga pemerintahan seperti legislatif, eksekutif, dan yudikatif. tak hanya itu, mahfud md juga  .. Exception: list index out of range\n"
     ]
    },
    {
     "name": "stderr",
     "output_type": "stream",
     "text": [
      "converting data to features:  72%|███████▏  | 476/661 [00:49<00:18,  9.94it/s]"
     ]
    },
    {
     "name": "stdout",
     "output_type": "stream",
     "text": [
      "[2024-05-19 02:52:45] (2.3.4) Processing error for: jangankan hasil survey, prabowo sejak 2014 - 2019 sudah klaim menang pilpres dengan sujud syukurnya live di tv ! lu pada masih percaya ??? memang jadi pengikut dan pendukung nya itu mudah saja : cukup bodoh saja, maka anda sah sebagai pendukungnya !!!  .. Exception: list index out of range\n"
     ]
    },
    {
     "name": "stderr",
     "output_type": "stream",
     "text": [
      "converting data to features:  74%|███████▎  | 486/661 [00:50<00:18,  9.38it/s]"
     ]
    },
    {
     "name": "stdout",
     "output_type": "stream",
     "text": [
      "[2024-05-19 02:52:46] (2.3.4) Processing error for: cawapres mahfud md seorang akademisi, hakim, dan politisi dengan segudang prestasi yang telah diberikan kepada bangsa indonesia  tokoh yang pernah menjabat di legislatif, yudikatif, eksekutif terakhir mejabat menkopolhukam.  ada yg tahu md nya nama mahfud??    .. Exception: list index out of range\n"
     ]
    },
    {
     "name": "stderr",
     "output_type": "stream",
     "text": [
      "converting data to features:  78%|███████▊  | 516/661 [00:53<00:15,  9.65it/s]"
     ]
    },
    {
     "name": "stdout",
     "output_type": "stream",
     "text": [
      "[2024-05-19 02:52:50] (2.3.4) Processing error for: setelah debat ke 3 ada kata maaf dari paslon 02 dan ajakan untuk bersatu. respect pak prabowo. timeline di x masih banyak yang bully tindakan tersebut. konten tiktoklah minta maaf ke aktivis lah bawaslu lah dll padahal sikap prabowo itu sangat jarang kita temui pd paslon lain .. Exception: list index out of range\n",
      "[2024-05-19 02:52:50] (2.3.4) Processing error for: gus miftah bagi bagi uang di pulau madura maksa rakyat dukung prabowo..!!  miftah pramugari bella jijik selingkuh elmer unhcr  .. Exception: list index out of range\n"
     ]
    },
    {
     "name": "stderr",
     "output_type": "stream",
     "text": [
      "converting data to features:  79%|███████▊  | 519/661 [00:54<00:16,  8.58it/s]"
     ]
    },
    {
     "name": "stdout",
     "output_type": "stream",
     "text": [
      "[2024-05-19 02:52:50] (2.3.4) Processing error for: cawapres nomor urut 1, muhaimin iskandar, menjadi sorotan seusai mengaku tak paham pertanyaan gibran rakabuming soal sgie (state of global islamic enonomy). cak imin pun buka suara merespons hal tersebut.  .. Exception: list index out of range\n"
     ]
    },
    {
     "name": "stderr",
     "output_type": "stream",
     "text": [
      "converting data to features:  79%|███████▉  | 523/661 [00:54<00:20,  6.82it/s]"
     ]
    },
    {
     "name": "stdout",
     "output_type": "stream",
     "text": [
      "[2024-05-19 02:52:51] (2.3.4) Processing error for: kondisi real di lapangan nih.. secara random yg di kampung kampung suara prabowo ini lumayan.. walaupun itu bukan jadi patokan ya. jadi strategi amin yg sudah bagus di kelas tertentu harus ditambah strategi untuk kelas middle low. cc abu_waras bospurwa aniesbaswedan .. Exception: list index out of range\n"
     ]
    },
    {
     "name": "stderr",
     "output_type": "stream",
     "text": [
      "converting data to features:  80%|████████  | 531/661 [00:55<00:16,  7.95it/s]"
     ]
    },
    {
     "name": "stdout",
     "output_type": "stream",
     "text": [
      "[2024-05-19 02:52:52] (2.3.4) Processing error for: sehat terus pak aniesbaswedan n cakiminow .jgn lupakan rakyat arus bawah(akar rumput),mereka masih banyak yg buta info ttg paslon no 1. krn mereka selama ini selalu dibodohi oleh para perampok nkri yg mengatasnamakan rakyat,dg sembako n uang sedikit. .. Exception: list index out of range\n"
     ]
    },
    {
     "name": "stderr",
     "output_type": "stream",
     "text": [
      "converting data to features:  84%|████████▎ | 553/661 [00:58<00:11,  9.09it/s]"
     ]
    },
    {
     "name": "stdout",
     "output_type": "stream",
     "text": [
      "[2024-05-19 02:52:54] (2.3.4) Processing error for: pak prabowo unggul telak di survei  indikatorcoid tapi para pembuat dan penyebar fitnah terus bergerak, mereka mengabaikan persatuan, bagi mereka yang penting suara prabowo gibran bisa diturunkan. mari sabar, kita hadapi dengan semangat persaudaraan dan persatuan. waspadalah.  .. Exception: list index out of range\n"
     ]
    },
    {
     "name": "stderr",
     "output_type": "stream",
     "text": [
      "converting data to features:  84%|████████▍ | 558/661 [00:58<00:08, 11.96it/s]"
     ]
    },
    {
     "name": "stdout",
     "output_type": "stream",
     "text": [
      "[2024-05-19 02:52:54] (2.3.4) Processing error for: memilih prabowo gibran sama saja dengan menambah jokowi 3 periode. tapi pendukung ayah rata rata keras kepala, mereka lebih dari sekedar jokower. the real jokower garis keras   .. Exception: list index out of range\n"
     ]
    },
    {
     "name": "stderr",
     "output_type": "stream",
     "text": [
      "converting data to features:  90%|████████▉ | 593/661 [01:02<00:06, 10.33it/s]"
     ]
    },
    {
     "name": "stdout",
     "output_type": "stream",
     "text": [
      "[2024-05-19 02:52:58] (2.3.4) Processing error for: soal drama pencalonan gibran, wapres maruf amin: jangan melampaui batas.  telat yai, pesawatnya sudah lepas landas!    .. Exception: list index out of range\n"
     ]
    },
    {
     "name": "stderr",
     "output_type": "stream",
     "text": [
      "converting data to features:  91%|█████████▏| 604/661 [01:03<00:07,  7.95it/s]"
     ]
    },
    {
     "name": "stdout",
     "output_type": "stream",
     "text": [
      "[2024-05-19 02:52:59] (2.3.4) Processing error for: masya allah, membludaknya sambutan dr warga kampung tirip, bolali, klaten (26/12/2023) saat menyambut kehadiran ganjar pranowo. suasana kemeriahan sekaligus kekeluargaan kental terasa ketika ganjar bersalam sapa dg warga.      .. Exception: list index out of range\n"
     ]
    },
    {
     "name": "stderr",
     "output_type": "stream",
     "text": [
      "converting data to features:  97%|█████████▋| 639/661 [01:07<00:01, 12.30it/s]"
     ]
    },
    {
     "name": "stdout",
     "output_type": "stream",
     "text": [
      "[2024-05-19 02:53:03] (2.3.4) Processing error for: jadi sebenarnya apa sih yg bisa di jual dari partai golkar,pan,demokrat? 3 partai besar ini tdk memiliki kader unggul yg bisa meraup suara? sehingga harus mengemis ke seorang gibran?? .. Exception: list index out of range\n"
     ]
    },
    {
     "name": "stderr",
     "output_type": "stream",
     "text": [
      "converting data to features:  98%|█████████▊| 648/661 [01:08<00:01,  8.25it/s]"
     ]
    },
    {
     "name": "stdout",
     "output_type": "stream",
     "text": [
      "[2024-05-19 02:53:04] (2.3.4) Processing error for: elektabilitas prabowo gibran selalu unggul, ahy: jangan sampai kita sudah merasa menang. pz]  pdemokrat agusyudhoyono demokrat bela rakyat  .. Exception: list index out of range\n"
     ]
    },
    {
     "name": "stderr",
     "output_type": "stream",
     "text": [
      "converting data to features: 100%|██████████| 661/661 [01:10<00:00,  9.39it/s]\n",
      "converting data to features:   4%|▍         | 6/140 [00:00<00:12, 10.82it/s]"
     ]
    },
    {
     "name": "stdout",
     "output_type": "stream",
     "text": [
      "[2024-05-19 02:53:07] (2.3.4) Processing error for: anies hobinya mencibir paslon lain dengan sindiran kasar dan menyakitkan..!!  asal bukan prabowo desak anies 13 bom di jakarta ahok cut mini mcdonald giselle  .. Exception: list index out of range\n",
      "[2024-05-19 02:53:07] (2.3.4) Processing error for: pengusaha rasa kutu loncat, selalu berada disetiap denyut kekuasaan. hari ini di anies, besok di jokowi, lusa di prabowo, di otak dia hanya keuntungan semata siapapun presidennya.  .. Exception: list index out of range\n"
     ]
    },
    {
     "name": "stderr",
     "output_type": "stream",
     "text": [
      "converting data to features:  12%|█▏        | 17/140 [00:02<00:17,  7.11it/s]"
     ]
    },
    {
     "name": "stdout",
     "output_type": "stream",
     "text": [
      "[2024-05-19 02:53:08] (2.3.4) Processing error for: ini baru keren, untuk mencegah kurang gizi pada batita, yes masbowogibran mantap siapkan program nutrisi agar bisa berakibat pada perkembangan batita.    efekdahsyat makangratis prabowo gerindra  .. Exception: list index out of range\n"
     ]
    },
    {
     "name": "stderr",
     "output_type": "stream",
     "text": [
      "converting data to features:  48%|████▊     | 67/140 [00:07<00:08,  8.35it/s]"
     ]
    },
    {
     "name": "stdout",
     "output_type": "stream",
     "text": [
      "[2024-05-19 02:53:13] (2.3.4) Processing error for: statement anies relevan untuk masa itu tapi mungkin gak untuk saat ini. sama kayak sikap bang fahri dll terhadap gibran, beda waktu dan kondisi beda sikap. gak ada yang salah, yang salah cuma fans kagetan hehe .. Exception: list index out of range\n"
     ]
    },
    {
     "name": "stderr",
     "output_type": "stream",
     "text": [
      "converting data to features:  61%|██████    | 85/140 [00:09<00:07,  7.59it/s]"
     ]
    },
    {
     "name": "stdout",
     "output_type": "stream",
     "text": [
      "[2024-05-19 02:53:16] (2.3.4) Processing error for: di tiktok buzzer paslon no 02 sring bgt memfitnah dan  menghina ganjar mahfud. serta menggiring opini agar publik berpikiran negatif trhdp 03. coba di tiktok bnykin buat video2 prestasi2 ganjar di jateng dan  mahfud di bidang hukum. krna bnyk orng awam yg kemakan hoax tpnganjarmahfud  .. Exception: list index out of range\n",
      "[2024-05-19 02:53:16] (2.3.4) Processing error for: cak imin saat debat antar cawapres menyempaikan keinginan membangun 40 kota baru selevel jakarta. gibran: aneh ya! mahfud md: luar biasa!  .. Exception: list index out of range\n"
     ]
    },
    {
     "name": "stderr",
     "output_type": "stream",
     "text": [
      "converting data to features:  82%|████████▏ | 115/140 [00:13<00:02,  8.51it/s]"
     ]
    },
    {
     "name": "stdout",
     "output_type": "stream",
     "text": [
      "[2024-05-19 02:53:19] (2.3.4) Processing error for: ga ada hub dia diperpanjang dg dia bagus rakyat suka rakyat jkt suka anies. anies ya selesai sesuai masanya. rakyat jateng suka ganjar ganjar ya selesai di masanya dilanjutkan pj dmn mn yg padahal ditunjuk pemerintah jg. ini sdh ga pakai malu mnggunakan kekuasaan memenangkan .. Exception: list index out of range\n"
     ]
    },
    {
     "name": "stderr",
     "output_type": "stream",
     "text": [
      "converting data to features:  87%|████████▋ | 122/140 [00:13<00:01, 11.17it/s]"
     ]
    },
    {
     "name": "stdout",
     "output_type": "stream",
     "text": [
      "[2024-05-19 02:53:20] (2.3.4) Processing error for: baru sempat nonton  hasil pngamatan: capres prabowo diserang tanpa henti oleh capres anies dan; ganjar. prabowo dikeroyok dua orang capres yg di berbagai survey elektabilitasnya masih anjlok. sebuah usaha yg cuma omon omon .. Exception: list index out of range\n"
     ]
    },
    {
     "name": "stderr",
     "output_type": "stream",
     "text": [
      "converting data to features: 100%|██████████| 140/140 [00:15<00:00,  9.09it/s]\n",
      "converting data to features:  14%|█▍        | 20/145 [00:01<00:09, 12.57it/s]"
     ]
    },
    {
     "name": "stdout",
     "output_type": "stream",
     "text": [
      "[2024-05-19 02:53:23] (2.3.4) Processing error for: kalau anies ada program membangun 14 kota jadi makin maju. monggo jalankan.  bayangkan, dulu jika bapak sy yg hanya seorang sopir berhenti bercita2 anaknya bisa sarjana semua karena makan yg masih sulit, rumah yg tak ada, mungkin sy dan saudara2 sy smp saja maksimal. .. Exception: list index out of range\n"
     ]
    },
    {
     "name": "stderr",
     "output_type": "stream",
     "text": [
      "converting data to features:  28%|██▊       | 40/145 [00:03<00:11,  9.30it/s]"
     ]
    },
    {
     "name": "stdout",
     "output_type": "stream",
     "text": [
      "[2024-05-19 02:53:25] (2.3.4) Processing error for: sejumlah partai dari tim pendukung ganjar dan  prabowo tampak solid menyebar poster/spanduk/baliho sampai ke pelosok desa...  partai pendukung anies masih malu malu dan segan menyegani, hingga akhirnya tak ada sama sekali di sejumlah pelosok desa.... .. Exception: list index out of range\n",
      "[2024-05-19 02:53:25] (2.3.4) Processing error for: riset continuum indef, penampilan gibran rakabuming berhasil mencuri perhatian publik mengantongi sentimen positif sebesar 77,69% dan sentimen negatif 22,31%  kontras dengan cak imin yang justru banyak mendapatkan sentimen negatif dari para warganet.   .. Exception: list index out of range\n"
     ]
    },
    {
     "name": "stderr",
     "output_type": "stream",
     "text": [
      "converting data to features:  43%|████▎     | 62/145 [00:06<00:09,  8.53it/s]"
     ]
    },
    {
     "name": "stdout",
     "output_type": "stream",
     "text": [
      "[2024-05-19 02:53:28] (2.3.4) Processing error for: gaya kampanye capres nomor urut 1 anies baswedan aniesbaswedan memang terbilang unik. gaya kampanye unik anies ini ternyata mulai diikuti pasangan capres cawapres kubu sebelah yang juga ikutan live tiktok dan menggelar forum diskusi. download  di app store dan; play  .. Exception: list index out of range\n"
     ]
    },
    {
     "name": "stderr",
     "output_type": "stream",
     "text": [
      "converting data to features:  53%|█████▎    | 77/145 [00:07<00:06,  9.90it/s]"
     ]
    },
    {
     "name": "stdout",
     "output_type": "stream",
     "text": [
      "[2024-05-19 02:53:29] (2.3.4) Processing error for: sifat asli prabowo kelihatan. hoax adlh senjata pamungkas utk merebut kekuasaan. pilpres 2024 akan sama seperti pilpres 2014 dan 2019.  bedanya, org yg difitnah kmrn skrg justru bergabung dgn tukang hoax   .. Exception: list index out of range\n",
      "[2024-05-19 02:53:29] (2.3.4) Processing error for: cak imin ini bener bener drama, dulu nggak akur, sekarang manis manisan. adinos8   amin anies dalang politik  ulama  pemilu 2024 ijtima ulama prabowo   .. Exception: list index out of range\n"
     ]
    },
    {
     "name": "stderr",
     "output_type": "stream",
     "text": [
      "converting data to features:  58%|█████▊    | 84/145 [00:08<00:05, 10.91it/s]"
     ]
    },
    {
     "name": "stdout",
     "output_type": "stream",
     "text": [
      "[2024-05-19 02:53:30] (2.3.4) Processing error for: mahasiswa ini sungguh peka dan menguasai konflik israel palestina dan kritik anies yg jualan bebaskan palestina  emangnya palestina tdk bebas? di mananya dijajah? kata membebaskn adalah pengusiran israel dari wilayah timteng  resolusi 2 negara adalah ideal, bkn bebaskan palestina  .. Exception: list index out of range\n"
     ]
    },
    {
     "name": "stderr",
     "output_type": "stream",
     "text": [
      "converting data to features:  64%|██████▍   | 93/145 [00:09<00:04, 10.52it/s]"
     ]
    },
    {
     "name": "stdout",
     "output_type": "stream",
     "text": [
      "[2024-05-19 02:53:31] (2.3.4) Processing error for: rumput jis di pildun u 17 tuai kritik, anies: tanya ke fifa  anies menanggapi kritik terhadap rumput jis di ajang piala dunia u 17. anies pun menyerahkan hal itu kepada fifa.     .. Exception: list index out of range\n",
      "[2024-05-19 02:53:31] (2.3.4) Processing error for: namanya survey itu fluktuatif. cuma sekedar angka angka. jadi ga usah baper lalu menuduh diintervensi. riilnya nanti saat rakyat dah menentukannya dalam bilik tps. semoga saja semua dgn ending yg baik prabowo gibran_tweet satu putaran ! .. Exception: list index out of range\n"
     ]
    },
    {
     "name": "stderr",
     "output_type": "stream",
     "text": [
      "converting data to features:  68%|██████▊   | 99/145 [00:09<00:04,  9.66it/s]"
     ]
    },
    {
     "name": "stdout",
     "output_type": "stream",
     "text": [
      "[2024-05-19 02:53:31] (2.3.4) Processing error for: bingung saya, kenapa warga se rt saya pilih anies, saya tanya semua nya senyum riang gembira,  anies manis anies ganteng anies rendah hati anies jujur anies taqwa anies sekolah nya dan agama tinggi anies di akui dunia wah banyak katanya, pokok nya anies, aamiin ya allah .. Exception: list index out of range\n"
     ]
    },
    {
     "name": "stderr",
     "output_type": "stream",
     "text": [
      "converting data to features: 100%|██████████| 145/145 [00:16<00:00,  8.74it/s]"
     ]
    },
    {
     "name": "stdout",
     "output_type": "stream",
     "text": [
      "2024-05-19 02:53:38,707 INFO: Save cache dataset to emcgcn.aste_datasets.dataset.3c2bc3337f407e24eebfb65d03ac6627e411d8f573e5927b0e40335fc0b56b61.cache\n"
     ]
    },
    {
     "name": "stderr",
     "output_type": "stream",
     "text": [
      "\n"
     ]
    },
    {
     "name": "stdout",
     "output_type": "stream",
     "text": [
      "[2024-05-19 02:54:34] (2.3.4) ABSADatasetsVersion:None\t-->\tCalling Count:0\n",
      "[2024-05-19 02:54:34] (2.3.4) MV:<metric_visualizer.metric_visualizer.MetricVisualizer object at 0x000001B1EA7D8B90>\t-->\tCalling Count:0\n",
      "[2024-05-19 02:54:34] (2.3.4) PyABSAVersion:2.3.4\t-->\tCalling Count:1\n",
      "[2024-05-19 02:54:34] (2.3.4) SRD:3\t-->\tCalling Count:0\n",
      "[2024-05-19 02:54:34] (2.3.4) TorchVersion:2.1.1+cpu+cudaNone\t-->\tCalling Count:1\n",
      "[2024-05-19 02:54:34] (2.3.4) TransformersVersion:4.32.1\t-->\tCalling Count:1\n",
      "[2024-05-19 02:54:34] (2.3.4) adam_epsilon:1e-08\t-->\tCalling Count:1\n",
      "[2024-05-19 02:54:34] (2.3.4) auto_device:True\t-->\tCalling Count:2\n",
      "[2024-05-19 02:54:34] (2.3.4) batch_size:16\t-->\tCalling Count:0\n",
      "[2024-05-19 02:54:34] (2.3.4) cache_dataset:True\t-->\tCalling Count:1\n",
      "[2024-05-19 02:54:34] (2.3.4) checkpoint_save_mode:1\t-->\tCalling Count:4\n",
      "[2024-05-19 02:54:34] (2.3.4) cross_validate_fold:-1\t-->\tCalling Count:0\n",
      "[2024-05-19 02:54:34] (2.3.4) dataset_file:{'train': ['integrated_datasets\\\\aste_datasets\\\\100.seribu_data\\\\train.dat.apc'], 'test': ['integrated_datasets\\\\aste_datasets\\\\100.seribu_data\\\\test.dat.apc'], 'valid': ['integrated_datasets\\\\aste_datasets\\\\100.seribu_data\\\\dev.dat.apc']}\t-->\tCalling Count:17\n",
      "[2024-05-19 02:54:34] (2.3.4) dataset_name:aste_datasets\t-->\tCalling Count:3\n",
      "[2024-05-19 02:54:34] (2.3.4) dca_layer:3\t-->\tCalling Count:0\n",
      "[2024-05-19 02:54:34] (2.3.4) dca_p:1\t-->\tCalling Count:0\n",
      "[2024-05-19 02:54:34] (2.3.4) deep_ensemble:False\t-->\tCalling Count:0\n",
      "[2024-05-19 02:54:34] (2.3.4) deprel_size:39\t-->\tCalling Count:1\n",
      "[2024-05-19 02:54:34] (2.3.4) deprel_vocab:<pyabsa.tasks.AspectSentimentTripletExtraction.dataset_utils.aste_utils.VocabHelp object at 0x000001B1F1B2D810>\t-->\tCalling Count:946\n",
      "[2024-05-19 02:54:34] (2.3.4) device:cpu\t-->\tCalling Count:2\n",
      "[2024-05-19 02:54:34] (2.3.4) device_name:Unknown\t-->\tCalling Count:1\n",
      "[2024-05-19 02:54:34] (2.3.4) dlcf_a:2\t-->\tCalling Count:0\n",
      "[2024-05-19 02:54:34] (2.3.4) dropout:0.5\t-->\tCalling Count:0\n",
      "[2024-05-19 02:54:34] (2.3.4) dynamic_truncate:True\t-->\tCalling Count:0\n",
      "[2024-05-19 02:54:34] (2.3.4) emb_dropout:0.5\t-->\tCalling Count:1\n",
      "[2024-05-19 02:54:34] (2.3.4) embed_dim:1024\t-->\tCalling Count:0\n",
      "[2024-05-19 02:54:34] (2.3.4) epochs:100\t-->\tCalling Count:0\n",
      "[2024-05-19 02:54:34] (2.3.4) eta:1\t-->\tCalling Count:0\n",
      "[2024-05-19 02:54:34] (2.3.4) eta_lr:0.1\t-->\tCalling Count:0\n",
      "[2024-05-19 02:54:34] (2.3.4) evaluate_begin:0\t-->\tCalling Count:0\n",
      "[2024-05-19 02:54:34] (2.3.4) from_checkpoint:None\t-->\tCalling Count:0\n",
      "[2024-05-19 02:54:34] (2.3.4) gcn_dim:300\t-->\tCalling Count:6\n",
      "[2024-05-19 02:54:34] (2.3.4) hidden_dim:1024\t-->\tCalling Count:4\n",
      "[2024-05-19 02:54:34] (2.3.4) index_to_label:OrderedDict([(0, 'N'), (1, 'B-A'), (2, 'I-A'), (3, 'A'), (4, 'B-O'), (5, 'I-O'), (6, 'O'), (7, 'Negative'), (8, 'Neutral'), (9, 'Positive')])\t-->\tCalling Count:0\n",
      "[2024-05-19 02:54:34] (2.3.4) inference_model:None\t-->\tCalling Count:0\n",
      "[2024-05-19 02:54:34] (2.3.4) initializer:xavier_uniform_\t-->\tCalling Count:0\n",
      "[2024-05-19 02:54:34] (2.3.4) l2reg:1e-06\t-->\tCalling Count:3\n",
      "[2024-05-19 02:54:34] (2.3.4) label_to_index:OrderedDict([('N', 0), ('B-A', 1), ('I-A', 2), ('A', 3), ('B-O', 4), ('I-O', 5), ('O', 6), ('Negative', 7), ('Neutral', 8), ('Positive', 9)])\t-->\tCalling Count:0\n",
      "[2024-05-19 02:54:34] (2.3.4) lcf:cdw\t-->\tCalling Count:0\n",
      "[2024-05-19 02:54:34] (2.3.4) learning_rate:2e-05\t-->\tCalling Count:3\n",
      "[2024-05-19 02:54:34] (2.3.4) load_aug:False\t-->\tCalling Count:1\n",
      "[2024-05-19 02:54:34] (2.3.4) log_step:-1\t-->\tCalling Count:0\n",
      "[2024-05-19 02:54:34] (2.3.4) logger:<Logger emcgcn (INFO)>\t-->\tCalling Count:10\n",
      "[2024-05-19 02:54:34] (2.3.4) lsa:False\t-->\tCalling Count:0\n",
      "[2024-05-19 02:54:34] (2.3.4) max_seq_len:80\t-->\tCalling Count:35294\n",
      "[2024-05-19 02:54:34] (2.3.4) model:<class 'pyabsa.tasks.AspectSentimentTripletExtraction.models.model.EMCGCN'>\t-->\tCalling Count:5\n",
      "[2024-05-19 02:54:34] (2.3.4) model_name:emcgcn\t-->\tCalling Count:2\n",
      "[2024-05-19 02:54:34] (2.3.4) model_path_to_save:checkpoints\t-->\tCalling Count:0\n",
      "[2024-05-19 02:54:34] (2.3.4) notice:This is an training example for aspect term extraction\t-->\tCalling Count:0\n",
      "[2024-05-19 02:54:34] (2.3.4) num_epoch:10\t-->\tCalling Count:0\n",
      "[2024-05-19 02:54:34] (2.3.4) num_layers:1\t-->\tCalling Count:1\n",
      "[2024-05-19 02:54:34] (2.3.4) optimizer:adamw\t-->\tCalling Count:1\n",
      "[2024-05-19 02:54:34] (2.3.4) output_dim:10\t-->\tCalling Count:7\n",
      "[2024-05-19 02:54:34] (2.3.4) overwrite_cache:False\t-->\tCalling Count:0\n",
      "[2024-05-19 02:54:34] (2.3.4) path_to_save:None\t-->\tCalling Count:1\n",
      "[2024-05-19 02:54:34] (2.3.4) patience:999\t-->\tCalling Count:0\n",
      "[2024-05-19 02:54:34] (2.3.4) pooling:avg\t-->\tCalling Count:1\n",
      "[2024-05-19 02:54:34] (2.3.4) post_size:54\t-->\tCalling Count:1\n",
      "[2024-05-19 02:54:34] (2.3.4) post_vocab:<pyabsa.tasks.AspectSentimentTripletExtraction.dataset_utils.aste_utils.VocabHelp object at 0x000001B1E985EB90>\t-->\tCalling Count:946\n",
      "[2024-05-19 02:54:34] (2.3.4) postag_size:125\t-->\tCalling Count:1\n",
      "[2024-05-19 02:54:34] (2.3.4) postag_vocab:<pyabsa.tasks.AspectSentimentTripletExtraction.dataset_utils.aste_utils.VocabHelp object at 0x000001B1F4C6FA10>\t-->\tCalling Count:946\n",
      "[2024-05-19 02:54:34] (2.3.4) pretrained_bert:indobenchmark/indobert-large-p2\t-->\tCalling Count:6\n",
      "[2024-05-19 02:54:34] (2.3.4) relation_constraint:True\t-->\tCalling Count:0\n",
      "[2024-05-19 02:54:34] (2.3.4) save_mode:1\t-->\tCalling Count:0\n",
      "[2024-05-19 02:54:34] (2.3.4) seed:1\t-->\tCalling Count:6\n",
      "[2024-05-19 02:54:34] (2.3.4) sigma:0.3\t-->\tCalling Count:0\n",
      "[2024-05-19 02:54:34] (2.3.4) similarity_threshold:1\t-->\tCalling Count:0\n",
      "[2024-05-19 02:54:34] (2.3.4) spacy_model:en_core_web_sm\t-->\tCalling Count:5\n",
      "[2024-05-19 02:54:34] (2.3.4) srd_alignment:True\t-->\tCalling Count:0\n",
      "[2024-05-19 02:54:34] (2.3.4) symmetry_decoding:False\t-->\tCalling Count:0\n",
      "[2024-05-19 02:54:34] (2.3.4) syn_post_vocab:<pyabsa.tasks.AspectSentimentTripletExtraction.dataset_utils.aste_utils.VocabHelp object at 0x000001B1F3A77B10>\t-->\tCalling Count:948\n",
      "[2024-05-19 02:54:34] (2.3.4) synpost_size:7\t-->\tCalling Count:1\n",
      "[2024-05-19 02:54:34] (2.3.4) task:triplet\t-->\tCalling Count:43064\n",
      "[2024-05-19 02:54:34] (2.3.4) task_code:ASTE\t-->\tCalling Count:2\n",
      "[2024-05-19 02:54:34] (2.3.4) task_name:Aspect Sentiment Triple Extraction\t-->\tCalling Count:0\n",
      "[2024-05-19 02:54:34] (2.3.4) token_vocab:<pyabsa.tasks.AspectSentimentTripletExtraction.dataset_utils.aste_utils.VocabHelp object at 0x000001B1F396C990>\t-->\tCalling Count:0\n",
      "[2024-05-19 02:54:34] (2.3.4) tokenizer:<pyabsa.framework.tokenizer_class.tokenizer_class.PretrainedTokenizer object at 0x000001B1EA7AF2D0>\t-->\tCalling Count:0\n",
      "[2024-05-19 02:54:34] (2.3.4) use_amp:False\t-->\tCalling Count:1\n",
      "[2024-05-19 02:54:34] (2.3.4) use_bert_spc:True\t-->\tCalling Count:0\n",
      "[2024-05-19 02:54:34] (2.3.4) use_syntax_based_SRD:False\t-->\tCalling Count:0\n",
      "[2024-05-19 02:54:34] (2.3.4) verbose:False\t-->\tCalling Count:3\n",
      "[2024-05-19 02:54:34] (2.3.4) warmup_step:-1\t-->\tCalling Count:0\n",
      "[2024-05-19 02:54:34] (2.3.4) weight_decay:0.0\t-->\tCalling Count:0\n",
      "[2024-05-19 02:54:34] (2.3.4) window:lr\t-->\tCalling Count:0\n",
      "2024-05-19 02:54:34,759 INFO: ***** Running training for Aspect Sentiment Triple Extraction *****\n",
      "2024-05-19 02:54:34,826 INFO: Training set examples = 629\n",
      "2024-05-19 02:54:34,843 INFO: Valid set examples = 135\n",
      "2024-05-19 02:54:34,846 INFO: Test set examples = 132\n",
      "2024-05-19 02:54:34,848 INFO: Total params = 337073106, Trainable params = 337073106, Non-trainable params = 0\n",
      "2024-05-19 02:54:34,850 INFO: Batch size = 16\n",
      "2024-05-19 02:54:34,852 INFO: Num steps = 400\n"
     ]
    },
    {
     "name": "stderr",
     "output_type": "stream",
     "text": [
      "Epoch:  0 | Smooth Loss: 0.8104: 100%|██████████| 40/40 [9:24:02<00:00, 846.05s/it, Dev F1:0.00(max:0.00)]\n",
      "Epoch:1 | Loss:0:   0%|          | 0/40 [00:56<?, ?it/s]\n",
      "\n",
      "KeyboardInterrupt\n",
      "\n"
     ]
    }
   ],
   "source": [
    "trainer = ASTE.ASTETrainer(\n",
    "    config=config,\n",
    "    dataset=dataset,\n",
    "    # from_checkpoint=\"english\",  # if you want to resume training from our pretrained checkpoints, you can pass the checkpoint name here\n",
    "    auto_device=DeviceTypeOption.AUTO,  # use cuda if available\n",
    "    checkpoint_save_mode=ModelSaveOption.SAVE_MODEL_STATE_DICT,  # save state dict only instead of the whole model\n",
    "    load_aug=False,  # there are some augmentation dataset for integrated datasets, you use them by setting load_aug=True to improve performance\n",
    ")"
   ]
  },
  {
   "cell_type": "code",
   "execution_count": 6,
   "metadata": {},
   "outputs": [
    {
     "name": "stdout",
     "output_type": "stream",
     "text": [
      "[2024-05-09 13:35:18] (2.3.4) Set Model Device: cpu\n",
      "[2024-05-09 13:35:18] (2.3.4) Device Name: Unknown\n",
      "2024-05-09 13:35:19,670 INFO: PyABSA version: 2.3.4\n",
      "2024-05-09 13:35:19,674 INFO: Transformers version: 4.35.2\n",
      "2024-05-09 13:35:19,678 INFO: Torch version: 2.1.1+cpu+cudaNone\n",
      "2024-05-09 13:35:19,681 INFO: Device: Unknown\n",
      "2024-05-09 13:35:19,683 INFO: Laptop14 in the trainer is not a exact path, will search dataset in current working directory\n",
      "2024-05-09 13:35:28,205 INFO: You can set load_aug=True in a trainer to augment your dataset (English only yet) and improve performance.\n",
      "2024-05-09 13:35:28,215 INFO: Please DO NOT mix datasets with different sentiment labels for trainer & inference !\n",
      "[2024-05-09 13:35:28] (2.3.4) \u001b[33mUse torch.AMP for training! Please disable it if you encounter convergence problems.\u001b[0m\n"
     ]
    },
    {
     "name": "stderr",
     "output_type": "stream",
     "text": [
      "c:\\Users\\bahar\\anaconda3\\envs\\pyabsa\\lib\\site-packages\\torch\\cuda\\amp\\grad_scaler.py:125: UserWarning: torch.cuda.amp.GradScaler is enabled, but CUDA is not available.  Disabling.\n",
      "  warnings.warn(\n",
      "c:\\Users\\bahar\\anaconda3\\envs\\pyabsa\\lib\\site-packages\\transformers\\convert_slow_tokenizer.py:473: UserWarning: The sentencepiece tokenizer that you are converting to a fast tokenizer uses the byte fallback option which is not implemented in the fast tokenizers. In practice this means that the fast version of the tokenizer can produce unknown tokens whereas the sentencepiece version would have converted these unknown tokens into a sequence of byte tokens matching the original piece of text.\n",
      "  warnings.warn(\n"
     ]
    },
    {
     "name": "stdout",
     "output_type": "stream",
     "text": [
      "2024-05-09 13:35:34,517 INFO: Load dataset from integrated_datasets\\aste_datasets\\400.SemEval\\401.Laptop14\\train.dat.apc\n"
     ]
    },
    {
     "name": "stderr",
     "output_type": "stream",
     "text": [
      "preparing dataloader: 100%|██████████| 906/906 [00:28<00:00, 31.54it/s]\n"
     ]
    },
    {
     "name": "stdout",
     "output_type": "stream",
     "text": [
      "2024-05-09 13:36:05,602 INFO: train data examples:\n",
      " [{'id': tensor(0), 'sentence': 'I charge it at night and skip taking the cord with me because of the good battery life .', 'postag': ['PRON', 'VERB', 'PRON', 'ADP', 'NOUN', 'CCONJ', 'NOUN', 'VERB', 'DET', 'NOUN', 'ADP', 'PRON', 'SCONJ', 'ADP', 'DET', 'ADJ', 'NOUN', 'NOUN', 'PUNCT'], 'head': tensor([ 1,  1,  1,  1,  3,  1,  1,  6,  9,  7,  7, 10,  7, 12, 17, 17, 17, 12,\n",
      "         1]), 'deprel': ['nsubj', 'ROOT', 'dobj', 'prep', 'pobj', 'cc', 'conj', 'xcomp', 'det', 'dobj', 'prep', 'pobj', 'prep', 'pcomp', 'det', 'amod', 'compound', 'pobj', 'punct'], 'triples': [{'uid': '0-0', 'target_tags': 'I\\\\O charge\\\\O it\\\\O at\\\\O night\\\\O and\\\\O skip\\\\O taking\\\\O the\\\\O cord\\\\O with\\\\O me\\\\O because\\\\O of\\\\O the\\\\O good\\\\O battery\\\\B life\\\\I .\\\\O', 'opinion_tags': 'I\\\\O charge\\\\O it\\\\O at\\\\O night\\\\O and\\\\O skip\\\\O taking\\\\O the\\\\O cord\\\\O with\\\\O me\\\\O because\\\\O of\\\\O the\\\\O good\\\\B battery\\\\O life\\\\O .\\\\O', 'sentiment': 'Positive'}]}, {'id': tensor(1), 'sentence': 'it is of high quality , has a killer GUI , is extremely stable , is highly expandable , is bundled with lots of very good applications , is easy to use , and is absolutely gorgeous .', 'postag': ['PRON', 'AUX', 'ADP', 'ADJ', 'NOUN', 'PUNCT', 'VERB', 'DET', 'NOUN', 'PROPN', 'PUNCT', 'AUX', 'ADV', 'ADJ', 'PUNCT', 'AUX', 'ADV', 'ADJ', 'PUNCT', 'AUX', 'VERB', 'ADP', 'NOUN', 'ADP', 'ADV', 'ADJ', 'NOUN', 'PUNCT', 'AUX', 'ADJ', 'PART', 'VERB', 'PUNCT', 'CCONJ', 'AUX', 'ADV', 'ADJ', 'PUNCT'], 'head': tensor([ 1, 20,  1,  4,  2,  6,  1,  8,  6,  8, 11,  1, 13, 11, 11, 11, 17, 15,\n",
      "        20, 20, 20, 20, 21, 22, 25, 26, 23, 28, 20, 28, 31, 29, 28, 28, 28, 36,\n",
      "        34, 20]), 'deprel': ['nsubj', 'ccomp', 'prep', 'amod', 'pobj', 'punct', 'conj', 'det', 'dobj', 'appos', 'punct', 'conj', 'advmod', 'acomp', 'punct', 'conj', 'advmod', 'acomp', 'punct', 'auxpass', 'ROOT', 'prep', 'pobj', 'prep', 'advmod', 'amod', 'pobj', 'punct', 'conj', 'acomp', 'aux', 'xcomp', 'punct', 'cc', 'conj', 'advmod', 'acomp', 'punct'], 'triples': [{'uid': '0-0', 'target_tags': 'it\\\\O is\\\\O of\\\\O high\\\\O quality\\\\B ,\\\\O has\\\\O a\\\\O killer\\\\O GUI\\\\O ,\\\\O is\\\\O extremely\\\\O stable\\\\O ,\\\\O is\\\\O highly\\\\O expandable\\\\O ,\\\\O is\\\\O bundled\\\\O with\\\\O lots\\\\O of\\\\O very\\\\O good\\\\O applications\\\\O ,\\\\O is\\\\O easy\\\\O to\\\\O use\\\\O ,\\\\O and\\\\O is\\\\O absolutely\\\\O gorgeous\\\\O .\\\\O', 'opinion_tags': 'it\\\\O is\\\\O of\\\\O high\\\\B quality\\\\O ,\\\\O has\\\\O a\\\\O killer\\\\O GUI\\\\O ,\\\\O is\\\\O extremely\\\\O stable\\\\O ,\\\\O is\\\\O highly\\\\O expandable\\\\O ,\\\\O is\\\\O bundled\\\\O with\\\\O lots\\\\O of\\\\O very\\\\O good\\\\O applications\\\\O ,\\\\O is\\\\O easy\\\\O to\\\\O use\\\\O ,\\\\O and\\\\O is\\\\O absolutely\\\\O gorgeous\\\\O .\\\\O', 'sentiment': 'Positive'}, {'uid': '0-1', 'target_tags': 'it\\\\O is\\\\O of\\\\O high\\\\O quality\\\\B ,\\\\O has\\\\O a\\\\O killer\\\\O GUI\\\\O ,\\\\O is\\\\O extremely\\\\O stable\\\\O ,\\\\O is\\\\O highly\\\\O expandable\\\\O ,\\\\O is\\\\O bundled\\\\O with\\\\O lots\\\\O of\\\\O very\\\\O good\\\\O applications\\\\O ,\\\\O is\\\\O easy\\\\O to\\\\O use\\\\O ,\\\\O and\\\\O is\\\\O absolutely\\\\O gorgeous\\\\O .\\\\O', 'opinion_tags': 'it\\\\O is\\\\O of\\\\O high\\\\O quality\\\\O ,\\\\O has\\\\O a\\\\O killer\\\\B GUI\\\\O ,\\\\O is\\\\O extremely\\\\O stable\\\\O ,\\\\O is\\\\O highly\\\\O expandable\\\\O ,\\\\O is\\\\O bundled\\\\O with\\\\O lots\\\\O of\\\\O very\\\\O good\\\\O applications\\\\O ,\\\\O is\\\\O easy\\\\O to\\\\O use\\\\O ,\\\\O and\\\\O is\\\\O absolutely\\\\O gorgeous\\\\O .\\\\O', 'sentiment': 'Positive'}, {'uid': '0-2', 'target_tags': 'it\\\\O is\\\\O of\\\\O high\\\\O quality\\\\B ,\\\\O has\\\\O a\\\\O killer\\\\O GUI\\\\O ,\\\\O is\\\\O extremely\\\\O stable\\\\O ,\\\\O is\\\\O highly\\\\O expandable\\\\O ,\\\\O is\\\\O bundled\\\\O with\\\\O lots\\\\O of\\\\O very\\\\O good\\\\O applications\\\\O ,\\\\O is\\\\O easy\\\\O to\\\\O use\\\\O ,\\\\O and\\\\O is\\\\O absolutely\\\\O gorgeous\\\\O .\\\\O', 'opinion_tags': 'it\\\\O is\\\\O of\\\\O high\\\\O quality\\\\O ,\\\\O has\\\\O a\\\\O killer\\\\O GUI\\\\O ,\\\\O is\\\\O extremely\\\\O stable\\\\O ,\\\\O is\\\\O highly\\\\O expandable\\\\O ,\\\\O is\\\\O bundled\\\\O with\\\\O lots\\\\O of\\\\O very\\\\O good\\\\B applications\\\\O ,\\\\O is\\\\O easy\\\\O to\\\\O use\\\\O ,\\\\O and\\\\O is\\\\O absolutely\\\\O gorgeous\\\\O .\\\\O', 'sentiment': 'Positive'}, {'uid': '0-3', 'target_tags': 'it\\\\O is\\\\O of\\\\O high\\\\O quality\\\\B ,\\\\O has\\\\O a\\\\O killer\\\\O GUI\\\\O ,\\\\O is\\\\O extremely\\\\O stable\\\\O ,\\\\O is\\\\O highly\\\\O expandable\\\\O ,\\\\O is\\\\O bundled\\\\O with\\\\O lots\\\\O of\\\\O very\\\\O good\\\\O applications\\\\O ,\\\\O is\\\\O easy\\\\O to\\\\O use\\\\O ,\\\\O and\\\\O is\\\\O absolutely\\\\O gorgeous\\\\O .\\\\O', 'opinion_tags': 'it\\\\O is\\\\O of\\\\O high\\\\O quality\\\\O ,\\\\O has\\\\O a\\\\O killer\\\\O GUI\\\\O ,\\\\O is\\\\O extremely\\\\O stable\\\\O ,\\\\O is\\\\O highly\\\\O expandable\\\\O ,\\\\O is\\\\O bundled\\\\O with\\\\O lots\\\\O of\\\\O very\\\\O good\\\\O applications\\\\O ,\\\\O is\\\\O easy\\\\B to\\\\O use\\\\O ,\\\\O and\\\\O is\\\\O absolutely\\\\O gorgeous\\\\O .\\\\O', 'sentiment': 'Positive'}, {'uid': '1-0', 'target_tags': 'it\\\\O is\\\\O of\\\\O high\\\\O quality\\\\O ,\\\\O has\\\\O a\\\\O killer\\\\O GUI\\\\B ,\\\\O is\\\\O extremely\\\\O stable\\\\O ,\\\\O is\\\\O highly\\\\O expandable\\\\O ,\\\\O is\\\\O bundled\\\\O with\\\\O lots\\\\O of\\\\O very\\\\O good\\\\O applications\\\\O ,\\\\O is\\\\O easy\\\\O to\\\\O use\\\\O ,\\\\O and\\\\O is\\\\O absolutely\\\\O gorgeous\\\\O .\\\\O', 'opinion_tags': 'it\\\\O is\\\\O of\\\\O high\\\\B quality\\\\O ,\\\\O has\\\\O a\\\\O killer\\\\O GUI\\\\O ,\\\\O is\\\\O extremely\\\\O stable\\\\O ,\\\\O is\\\\O highly\\\\O expandable\\\\O ,\\\\O is\\\\O bundled\\\\O with\\\\O lots\\\\O of\\\\O very\\\\O good\\\\O applications\\\\O ,\\\\O is\\\\O easy\\\\O to\\\\O use\\\\O ,\\\\O and\\\\O is\\\\O absolutely\\\\O gorgeous\\\\O .\\\\O', 'sentiment': 'Positive'}, {'uid': '1-1', 'target_tags': 'it\\\\O is\\\\O of\\\\O high\\\\O quality\\\\O ,\\\\O has\\\\O a\\\\O killer\\\\O GUI\\\\B ,\\\\O is\\\\O extremely\\\\O stable\\\\O ,\\\\O is\\\\O highly\\\\O expandable\\\\O ,\\\\O is\\\\O bundled\\\\O with\\\\O lots\\\\O of\\\\O very\\\\O good\\\\O applications\\\\O ,\\\\O is\\\\O easy\\\\O to\\\\O use\\\\O ,\\\\O and\\\\O is\\\\O absolutely\\\\O gorgeous\\\\O .\\\\O', 'opinion_tags': 'it\\\\O is\\\\O of\\\\O high\\\\O quality\\\\O ,\\\\O has\\\\O a\\\\O killer\\\\B GUI\\\\O ,\\\\O is\\\\O extremely\\\\O stable\\\\O ,\\\\O is\\\\O highly\\\\O expandable\\\\O ,\\\\O is\\\\O bundled\\\\O with\\\\O lots\\\\O of\\\\O very\\\\O good\\\\O applications\\\\O ,\\\\O is\\\\O easy\\\\O to\\\\O use\\\\O ,\\\\O and\\\\O is\\\\O absolutely\\\\O gorgeous\\\\O .\\\\O', 'sentiment': 'Positive'}, {'uid': '1-2', 'target_tags': 'it\\\\O is\\\\O of\\\\O high\\\\O quality\\\\O ,\\\\O has\\\\O a\\\\O killer\\\\O GUI\\\\B ,\\\\O is\\\\O extremely\\\\O stable\\\\O ,\\\\O is\\\\O highly\\\\O expandable\\\\O ,\\\\O is\\\\O bundled\\\\O with\\\\O lots\\\\O of\\\\O very\\\\O good\\\\O applications\\\\O ,\\\\O is\\\\O easy\\\\O to\\\\O use\\\\O ,\\\\O and\\\\O is\\\\O absolutely\\\\O gorgeous\\\\O .\\\\O', 'opinion_tags': 'it\\\\O is\\\\O of\\\\O high\\\\O quality\\\\O ,\\\\O has\\\\O a\\\\O killer\\\\O GUI\\\\O ,\\\\O is\\\\O extremely\\\\O stable\\\\O ,\\\\O is\\\\O highly\\\\O expandable\\\\O ,\\\\O is\\\\O bundled\\\\O with\\\\O lots\\\\O of\\\\O very\\\\O good\\\\B applications\\\\O ,\\\\O is\\\\O easy\\\\O to\\\\O use\\\\O ,\\\\O and\\\\O is\\\\O absolutely\\\\O gorgeous\\\\O .\\\\O', 'sentiment': 'Positive'}, {'uid': '1-3', 'target_tags': 'it\\\\O is\\\\O of\\\\O high\\\\O quality\\\\O ,\\\\O has\\\\O a\\\\O killer\\\\O GUI\\\\B ,\\\\O is\\\\O extremely\\\\O stable\\\\O ,\\\\O is\\\\O highly\\\\O expandable\\\\O ,\\\\O is\\\\O bundled\\\\O with\\\\O lots\\\\O of\\\\O very\\\\O good\\\\O applications\\\\O ,\\\\O is\\\\O easy\\\\O to\\\\O use\\\\O ,\\\\O and\\\\O is\\\\O absolutely\\\\O gorgeous\\\\O .\\\\O', 'opinion_tags': 'it\\\\O is\\\\O of\\\\O high\\\\O quality\\\\O ,\\\\O has\\\\O a\\\\O killer\\\\O GUI\\\\O ,\\\\O is\\\\O extremely\\\\O stable\\\\O ,\\\\O is\\\\O highly\\\\O expandable\\\\O ,\\\\O is\\\\O bundled\\\\O with\\\\O lots\\\\O of\\\\O very\\\\O good\\\\O applications\\\\O ,\\\\O is\\\\O easy\\\\B to\\\\O use\\\\O ,\\\\O and\\\\O is\\\\O absolutely\\\\O gorgeous\\\\O .\\\\O', 'sentiment': 'Positive'}, {'uid': '2-0', 'target_tags': 'it\\\\O is\\\\O of\\\\O high\\\\O quality\\\\O ,\\\\O has\\\\O a\\\\O killer\\\\O GUI\\\\O ,\\\\O is\\\\O extremely\\\\O stable\\\\O ,\\\\O is\\\\O highly\\\\O expandable\\\\O ,\\\\O is\\\\O bundled\\\\O with\\\\O lots\\\\O of\\\\O very\\\\O good\\\\O applications\\\\B ,\\\\O is\\\\O easy\\\\O to\\\\O use\\\\O ,\\\\O and\\\\O is\\\\O absolutely\\\\O gorgeous\\\\O .\\\\O', 'opinion_tags': 'it\\\\O is\\\\O of\\\\O high\\\\B quality\\\\O ,\\\\O has\\\\O a\\\\O killer\\\\O GUI\\\\O ,\\\\O is\\\\O extremely\\\\O stable\\\\O ,\\\\O is\\\\O highly\\\\O expandable\\\\O ,\\\\O is\\\\O bundled\\\\O with\\\\O lots\\\\O of\\\\O very\\\\O good\\\\O applications\\\\O ,\\\\O is\\\\O easy\\\\O to\\\\O use\\\\O ,\\\\O and\\\\O is\\\\O absolutely\\\\O gorgeous\\\\O .\\\\O', 'sentiment': 'Positive'}, {'uid': '2-1', 'target_tags': 'it\\\\O is\\\\O of\\\\O high\\\\O quality\\\\O ,\\\\O has\\\\O a\\\\O killer\\\\O GUI\\\\O ,\\\\O is\\\\O extremely\\\\O stable\\\\O ,\\\\O is\\\\O highly\\\\O expandable\\\\O ,\\\\O is\\\\O bundled\\\\O with\\\\O lots\\\\O of\\\\O very\\\\O good\\\\O applications\\\\B ,\\\\O is\\\\O easy\\\\O to\\\\O use\\\\O ,\\\\O and\\\\O is\\\\O absolutely\\\\O gorgeous\\\\O .\\\\O', 'opinion_tags': 'it\\\\O is\\\\O of\\\\O high\\\\O quality\\\\O ,\\\\O has\\\\O a\\\\O killer\\\\B GUI\\\\O ,\\\\O is\\\\O extremely\\\\O stable\\\\O ,\\\\O is\\\\O highly\\\\O expandable\\\\O ,\\\\O is\\\\O bundled\\\\O with\\\\O lots\\\\O of\\\\O very\\\\O good\\\\O applications\\\\O ,\\\\O is\\\\O easy\\\\O to\\\\O use\\\\O ,\\\\O and\\\\O is\\\\O absolutely\\\\O gorgeous\\\\O .\\\\O', 'sentiment': 'Positive'}, {'uid': '2-2', 'target_tags': 'it\\\\O is\\\\O of\\\\O high\\\\O quality\\\\O ,\\\\O has\\\\O a\\\\O killer\\\\O GUI\\\\O ,\\\\O is\\\\O extremely\\\\O stable\\\\O ,\\\\O is\\\\O highly\\\\O expandable\\\\O ,\\\\O is\\\\O bundled\\\\O with\\\\O lots\\\\O of\\\\O very\\\\O good\\\\O applications\\\\B ,\\\\O is\\\\O easy\\\\O to\\\\O use\\\\O ,\\\\O and\\\\O is\\\\O absolutely\\\\O gorgeous\\\\O .\\\\O', 'opinion_tags': 'it\\\\O is\\\\O of\\\\O high\\\\O quality\\\\O ,\\\\O has\\\\O a\\\\O killer\\\\O GUI\\\\O ,\\\\O is\\\\O extremely\\\\O stable\\\\O ,\\\\O is\\\\O highly\\\\O expandable\\\\O ,\\\\O is\\\\O bundled\\\\O with\\\\O lots\\\\O of\\\\O very\\\\O good\\\\B applications\\\\O ,\\\\O is\\\\O easy\\\\O to\\\\O use\\\\O ,\\\\O and\\\\O is\\\\O absolutely\\\\O gorgeous\\\\O .\\\\O', 'sentiment': 'Positive'}, {'uid': '2-3', 'target_tags': 'it\\\\O is\\\\O of\\\\O high\\\\O quality\\\\O ,\\\\O has\\\\O a\\\\O killer\\\\O GUI\\\\O ,\\\\O is\\\\O extremely\\\\O stable\\\\O ,\\\\O is\\\\O highly\\\\O expandable\\\\O ,\\\\O is\\\\O bundled\\\\O with\\\\O lots\\\\O of\\\\O very\\\\O good\\\\O applications\\\\B ,\\\\O is\\\\O easy\\\\O to\\\\O use\\\\O ,\\\\O and\\\\O is\\\\O absolutely\\\\O gorgeous\\\\O .\\\\O', 'opinion_tags': 'it\\\\O is\\\\O of\\\\O high\\\\O quality\\\\O ,\\\\O has\\\\O a\\\\O killer\\\\O GUI\\\\O ,\\\\O is\\\\O extremely\\\\O stable\\\\O ,\\\\O is\\\\O highly\\\\O expandable\\\\O ,\\\\O is\\\\O bundled\\\\O with\\\\O lots\\\\O of\\\\O very\\\\O good\\\\O applications\\\\O ,\\\\O is\\\\O easy\\\\B to\\\\O use\\\\O ,\\\\O and\\\\O is\\\\O absolutely\\\\O gorgeous\\\\O .\\\\O', 'sentiment': 'Positive'}, {'uid': '3-0', 'target_tags': 'it\\\\O is\\\\O of\\\\O high\\\\O quality\\\\O ,\\\\O has\\\\O a\\\\O killer\\\\O GUI\\\\O ,\\\\O is\\\\O extremely\\\\O stable\\\\O ,\\\\O is\\\\O highly\\\\O expandable\\\\O ,\\\\O is\\\\O bundled\\\\O with\\\\O lots\\\\O of\\\\O very\\\\O good\\\\O applications\\\\O ,\\\\O is\\\\O easy\\\\O to\\\\O use\\\\B ,\\\\O and\\\\O is\\\\O absolutely\\\\O gorgeous\\\\O .\\\\O', 'opinion_tags': 'it\\\\O is\\\\O of\\\\O high\\\\B quality\\\\O ,\\\\O has\\\\O a\\\\O killer\\\\O GUI\\\\O ,\\\\O is\\\\O extremely\\\\O stable\\\\O ,\\\\O is\\\\O highly\\\\O expandable\\\\O ,\\\\O is\\\\O bundled\\\\O with\\\\O lots\\\\O of\\\\O very\\\\O good\\\\O applications\\\\O ,\\\\O is\\\\O easy\\\\O to\\\\O use\\\\O ,\\\\O and\\\\O is\\\\O absolutely\\\\O gorgeous\\\\O .\\\\O', 'sentiment': 'Positive'}, {'uid': '3-1', 'target_tags': 'it\\\\O is\\\\O of\\\\O high\\\\O quality\\\\O ,\\\\O has\\\\O a\\\\O killer\\\\O GUI\\\\O ,\\\\O is\\\\O extremely\\\\O stable\\\\O ,\\\\O is\\\\O highly\\\\O expandable\\\\O ,\\\\O is\\\\O bundled\\\\O with\\\\O lots\\\\O of\\\\O very\\\\O good\\\\O applications\\\\O ,\\\\O is\\\\O easy\\\\O to\\\\O use\\\\B ,\\\\O and\\\\O is\\\\O absolutely\\\\O gorgeous\\\\O .\\\\O', 'opinion_tags': 'it\\\\O is\\\\O of\\\\O high\\\\O quality\\\\O ,\\\\O has\\\\O a\\\\O killer\\\\B GUI\\\\O ,\\\\O is\\\\O extremely\\\\O stable\\\\O ,\\\\O is\\\\O highly\\\\O expandable\\\\O ,\\\\O is\\\\O bundled\\\\O with\\\\O lots\\\\O of\\\\O very\\\\O good\\\\O applications\\\\O ,\\\\O is\\\\O easy\\\\O to\\\\O use\\\\O ,\\\\O and\\\\O is\\\\O absolutely\\\\O gorgeous\\\\O .\\\\O', 'sentiment': 'Positive'}, {'uid': '3-2', 'target_tags': 'it\\\\O is\\\\O of\\\\O high\\\\O quality\\\\O ,\\\\O has\\\\O a\\\\O killer\\\\O GUI\\\\O ,\\\\O is\\\\O extremely\\\\O stable\\\\O ,\\\\O is\\\\O highly\\\\O expandable\\\\O ,\\\\O is\\\\O bundled\\\\O with\\\\O lots\\\\O of\\\\O very\\\\O good\\\\O applications\\\\O ,\\\\O is\\\\O easy\\\\O to\\\\O use\\\\B ,\\\\O and\\\\O is\\\\O absolutely\\\\O gorgeous\\\\O .\\\\O', 'opinion_tags': 'it\\\\O is\\\\O of\\\\O high\\\\O quality\\\\O ,\\\\O has\\\\O a\\\\O killer\\\\O GUI\\\\O ,\\\\O is\\\\O extremely\\\\O stable\\\\O ,\\\\O is\\\\O highly\\\\O expandable\\\\O ,\\\\O is\\\\O bundled\\\\O with\\\\O lots\\\\O of\\\\O very\\\\O good\\\\B applications\\\\O ,\\\\O is\\\\O easy\\\\O to\\\\O use\\\\O ,\\\\O and\\\\O is\\\\O absolutely\\\\O gorgeous\\\\O .\\\\O', 'sentiment': 'Positive'}, {'uid': '3-3', 'target_tags': 'it\\\\O is\\\\O of\\\\O high\\\\O quality\\\\O ,\\\\O has\\\\O a\\\\O killer\\\\O GUI\\\\O ,\\\\O is\\\\O extremely\\\\O stable\\\\O ,\\\\O is\\\\O highly\\\\O expandable\\\\O ,\\\\O is\\\\O bundled\\\\O with\\\\O lots\\\\O of\\\\O very\\\\O good\\\\O applications\\\\O ,\\\\O is\\\\O easy\\\\O to\\\\O use\\\\B ,\\\\O and\\\\O is\\\\O absolutely\\\\O gorgeous\\\\O .\\\\O', 'opinion_tags': 'it\\\\O is\\\\O of\\\\O high\\\\O quality\\\\O ,\\\\O has\\\\O a\\\\O killer\\\\O GUI\\\\O ,\\\\O is\\\\O extremely\\\\O stable\\\\O ,\\\\O is\\\\O highly\\\\O expandable\\\\O ,\\\\O is\\\\O bundled\\\\O with\\\\O lots\\\\O of\\\\O very\\\\O good\\\\O applications\\\\O ,\\\\O is\\\\O easy\\\\B to\\\\O use\\\\O ,\\\\O and\\\\O is\\\\O absolutely\\\\O gorgeous\\\\O .\\\\O', 'sentiment': 'Positive'}]}]\n",
      "2024-05-09 13:36:08,493 INFO: Load dataset from integrated_datasets\\aste_datasets\\400.SemEval\\401.Laptop14\\test.dat.epc\n"
     ]
    },
    {
     "name": "stderr",
     "output_type": "stream",
     "text": [
      "preparing dataloader: 100%|██████████| 328/328 [00:09<00:00, 35.94it/s]\n"
     ]
    },
    {
     "name": "stdout",
     "output_type": "stream",
     "text": [
      "2024-05-09 13:36:18,052 INFO: test data examples:\n",
      " [{'id': tensor(0), 'sentence': 'Boot time is super fast , around anywhere from 35 seconds to 1 minute .', 'postag': ['ADJ', 'NOUN', 'AUX', 'ADV', 'ADV', 'PUNCT', 'ADV', 'ADV', 'ADP', 'NUM', 'NOUN', 'PART', 'NUM', 'NOUN', 'PUNCT'], 'head': tensor([ 1,  2,  2,  4,  2,  2, 13, 12, 12, 10,  8, 12, 13,  2,  2]), 'deprel': ['amod', 'nsubj', 'ROOT', 'advmod', 'acomp', 'punct', 'advmod', 'advmod', 'quantmod', 'nummod', 'pobj', 'quantmod', 'nummod', 'npadvmod', 'punct'], 'triples': [{'uid': '0-0', 'target_tags': 'Boot\\\\B time\\\\I is\\\\O super\\\\O fast\\\\O ,\\\\O around\\\\O anywhere\\\\O from\\\\O 35\\\\O seconds\\\\O to\\\\O 1\\\\O minute\\\\O .\\\\O', 'opinion_tags': 'Boot\\\\O time\\\\O is\\\\O super\\\\O fast\\\\B ,\\\\O around\\\\O anywhere\\\\O from\\\\O 35\\\\O seconds\\\\O to\\\\O 1\\\\O minute\\\\O .\\\\O', 'sentiment': 'Positive'}]}, {'id': tensor(1), 'sentence': 'tech support would not fix the problem unless I bought your plan for $ 150 plus .', 'postag': ['NOUN', 'NOUN', 'AUX', 'PART', 'VERB', 'DET', 'NOUN', 'SCONJ', 'PRON', 'VERB', 'PRON', 'NOUN', 'ADP', 'SYM', 'NUM', 'CCONJ', 'PUNCT'], 'head': tensor([ 1,  4,  4,  4,  4,  6,  4,  9,  9,  4, 11,  9,  9, 14, 12,  9,  4]), 'deprel': ['compound', 'nsubj', 'aux', 'neg', 'ROOT', 'det', 'dobj', 'mark', 'nsubj', 'advcl', 'poss', 'dobj', 'prep', 'nmod', 'pobj', 'cc', 'punct'], 'triples': [{'uid': '0-0', 'target_tags': 'tech\\\\B support\\\\I would\\\\O not\\\\O fix\\\\O the\\\\O problem\\\\O unless\\\\O I\\\\O bought\\\\O your\\\\O plan\\\\O for\\\\O $\\\\O 150\\\\O plus\\\\O .\\\\O', 'opinion_tags': 'tech\\\\O support\\\\O would\\\\O not\\\\B fix\\\\I the\\\\O problem\\\\O unless\\\\O I\\\\O bought\\\\O your\\\\O plan\\\\O for\\\\O $\\\\O 150\\\\O plus\\\\O .\\\\O', 'sentiment': 'Negative'}]}]\n",
      "2024-05-09 13:36:19,300 INFO: Load dataset from integrated_datasets\\aste_datasets\\400.SemEval\\401.Laptop14\\dev.dat.epc\n"
     ]
    },
    {
     "name": "stderr",
     "output_type": "stream",
     "text": [
      "preparing dataloader:  81%|████████▏ | 178/219 [00:08<00:01, 23.90it/s]"
     ]
    },
    {
     "name": "stdout",
     "output_type": "stream",
     "text": [
      "Great value , fast delivery    Computer works as if brand new , no problems , very pleased\n",
      "Great value , fast delivery -- Computer works as if brand new , no problems , very pleased####[([4], [3], 'POS'), ([4], [17], 'POS'), ([1], [0], 'POS'), ([1], [17], 'POS')]\n",
      "[([4], [3], 'POS'), ([4], [17], 'POS'), ([1], [0], 'POS'), ([1], [17], 'POS')]\n"
     ]
    },
    {
     "name": "stderr",
     "output_type": "stream",
     "text": [
      "preparing dataloader:  95%|█████████▍| 208/219 [00:09<00:00, 30.66it/s]"
     ]
    },
    {
     "name": "stdout",
     "output_type": "stream",
     "text": [
      "Overall : Poor , Features : Average , Performance : Poor , Battery Life : Excellent , Price    Value : Poor\n",
      "Overall : Poor , Features : Average , Performance : Poor , Battery Life : Excellent , Price -- Value : Poor####[([4], [6], 'NEU'), ([8], [10], 'NEG'), ([12, 13], [15], 'POS'), ([17], [21], 'NEG'), ([19], [21], 'NEG')]\n",
      "[([4], [6], 'NEU'), ([8], [10], 'NEG'), ([12, 13], [15], 'POS'), ([17], [21], 'NEG'), ([19], [21], 'NEG')]\n"
     ]
    },
    {
     "name": "stderr",
     "output_type": "stream",
     "text": [
      "preparing dataloader: 100%|██████████| 219/219 [00:09<00:00, 23.14it/s]\n"
     ]
    },
    {
     "name": "stdout",
     "output_type": "stream",
     "text": [
      "2024-05-09 13:36:29,103 INFO: valid data examples:\n",
      " [{'id': tensor(0), 'sentence': 'In the shop , these MacBooks are encased in a soft rubber enclosure - so you will never know about the razor edge until you buy it , get it home , break the seal and use it ( very clever con ) .', 'postag': ['ADP', 'DET', 'NOUN', 'PUNCT', 'DET', 'PROPN', 'AUX', 'VERB', 'ADP', 'DET', 'ADJ', 'NOUN', 'NOUN', 'NOUN', 'SCONJ', 'PRON', 'AUX', 'ADV', 'VERB', 'ADP', 'DET', 'NOUN', 'NOUN', 'SCONJ', 'PRON', 'VERB', 'PRON', 'PUNCT', 'VERB', 'PRON', 'ADV', 'PUNCT', 'VERB', 'DET', 'NOUN', 'CCONJ', 'VERB', 'PRON', 'PUNCT', 'ADV', 'ADJ', 'NOUN', 'PUNCT', 'PUNCT'], 'head': tensor([ 7,  2,  0,  7,  5,  7,  7,  7,  7, 13, 13, 12, 13,  8, 18, 18, 18, 18,\n",
      "         7, 18, 22, 22, 19, 25, 25, 18, 25, 28,  7, 28, 28, 28, 28, 34, 32, 32,\n",
      "        32, 36, 41, 40, 41, 36, 28,  7]), 'deprel': ['prep', 'det', 'pobj', 'punct', 'det', 'nsubjpass', 'auxpass', 'ROOT', 'prep', 'det', 'amod', 'compound', 'compound', 'pobj', 'mark', 'nsubj', 'aux', 'neg', 'advcl', 'prep', 'det', 'compound', 'pobj', 'mark', 'nsubj', 'advcl', 'dobj', 'punct', 'conj', 'dobj', 'advmod', 'punct', 'conj', 'det', 'dobj', 'cc', 'conj', 'dobj', 'punct', 'advmod', 'amod', 'dobj', 'punct', 'punct'], 'triples': [{'uid': '0-0', 'target_tags': 'In\\\\O the\\\\O shop\\\\O ,\\\\O these\\\\O MacBooks\\\\O are\\\\O encased\\\\O in\\\\O a\\\\O soft\\\\O rubber\\\\B enclosure\\\\I placeholder\\\\O so\\\\O you\\\\O will\\\\O never\\\\O know\\\\O about\\\\O the\\\\O razor\\\\O edge\\\\O until\\\\O you\\\\O buy\\\\O it\\\\O ,\\\\O get\\\\O it\\\\O home\\\\O ,\\\\O break\\\\O the\\\\O seal\\\\O and\\\\O use\\\\O it\\\\O (\\\\O very\\\\O clever\\\\O con\\\\O )\\\\O .\\\\O', 'opinion_tags': 'In\\\\O the\\\\O shop\\\\O ,\\\\O these\\\\O MacBooks\\\\O are\\\\O encased\\\\O in\\\\O a\\\\O soft\\\\B rubber\\\\O enclosure\\\\O placeholder\\\\O so\\\\O you\\\\O will\\\\O never\\\\O know\\\\O about\\\\O the\\\\O razor\\\\O edge\\\\O until\\\\O you\\\\O buy\\\\O it\\\\O ,\\\\O get\\\\O it\\\\O home\\\\O ,\\\\O break\\\\O the\\\\O seal\\\\O and\\\\O use\\\\O it\\\\O (\\\\O very\\\\O clever\\\\O con\\\\O )\\\\O .\\\\O', 'sentiment': 'Positive'}]}, {'id': tensor(1), 'sentence': 'This laptop meets every expectation and Windows 7 is great !', 'postag': ['DET', 'NOUN', 'VERB', 'DET', 'NOUN', 'CCONJ', 'PROPN', 'NUM', 'AUX', 'ADJ', 'PUNCT'], 'head': tensor([1, 2, 2, 4, 2, 4, 4, 6, 2, 8, 2]), 'deprel': ['det', 'nsubj', 'ROOT', 'det', 'dobj', 'cc', 'conj', 'nummod', 'conj', 'acomp', 'punct'], 'triples': [{'uid': '0-0', 'target_tags': 'This\\\\O laptop\\\\O meets\\\\O every\\\\O expectation\\\\O and\\\\O Windows\\\\B 7\\\\I is\\\\O great\\\\O !\\\\O', 'opinion_tags': 'This\\\\O laptop\\\\O meets\\\\O every\\\\O expectation\\\\O and\\\\O Windows\\\\O 7\\\\O is\\\\O great\\\\B !\\\\O', 'sentiment': 'Positive'}]}]\n",
      "building vocab...\n"
     ]
    },
    {
     "name": "stderr",
     "output_type": "stream",
     "text": [
      "converting data to features: 100%|██████████| 906/906 [02:24<00:00,  6.27it/s]\n",
      "converting data to features: 100%|██████████| 328/328 [00:33<00:00,  9.81it/s]\n",
      "converting data to features: 100%|██████████| 217/217 [00:29<00:00,  7.33it/s]\n"
     ]
    },
    {
     "name": "stdout",
     "output_type": "stream",
     "text": [
      "[2024-05-09 13:40:21] (2.3.4) ABSADatasetsVersion:None\t-->\tCalling Count:0\n",
      "[2024-05-09 13:40:21] (2.3.4) MV:<metric_visualizer.metric_visualizer.MetricVisualizer object at 0x0000029A62AC7C40>\t-->\tCalling Count:0\n",
      "[2024-05-09 13:40:21] (2.3.4) PyABSAVersion:2.3.4\t-->\tCalling Count:1\n",
      "[2024-05-09 13:40:21] (2.3.4) SRD:3\t-->\tCalling Count:0\n",
      "[2024-05-09 13:40:21] (2.3.4) TorchVersion:2.1.1+cpu+cudaNone\t-->\tCalling Count:1\n",
      "[2024-05-09 13:40:21] (2.3.4) TransformersVersion:4.35.2\t-->\tCalling Count:1\n",
      "[2024-05-09 13:40:21] (2.3.4) adam_epsilon:1e-08\t-->\tCalling Count:1\n",
      "[2024-05-09 13:40:21] (2.3.4) auto_device:True\t-->\tCalling Count:2\n",
      "[2024-05-09 13:40:21] (2.3.4) batch_size:16\t-->\tCalling Count:0\n",
      "[2024-05-09 13:40:21] (2.3.4) cache_dataset:False\t-->\tCalling Count:1\n",
      "[2024-05-09 13:40:21] (2.3.4) checkpoint_save_mode:1\t-->\tCalling Count:4\n",
      "[2024-05-09 13:40:21] (2.3.4) cross_validate_fold:-1\t-->\tCalling Count:0\n",
      "[2024-05-09 13:40:21] (2.3.4) dataset_file:{'train': ['integrated_datasets\\\\aste_datasets\\\\400.SemEval\\\\401.Laptop14\\\\train.dat.apc'], 'test': ['integrated_datasets\\\\aste_datasets\\\\400.SemEval\\\\401.Laptop14\\\\test.dat.epc'], 'valid': ['integrated_datasets\\\\aste_datasets\\\\400.SemEval\\\\401.Laptop14\\\\dev.dat.epc']}\t-->\tCalling Count:17\n",
      "[2024-05-09 13:40:21] (2.3.4) dataset_name:custom_dataset\t-->\tCalling Count:3\n",
      "[2024-05-09 13:40:21] (2.3.4) dca_layer:3\t-->\tCalling Count:0\n",
      "[2024-05-09 13:40:21] (2.3.4) dca_p:1\t-->\tCalling Count:0\n",
      "[2024-05-09 13:40:21] (2.3.4) deep_ensemble:False\t-->\tCalling Count:0\n",
      "[2024-05-09 13:40:21] (2.3.4) deprel_size:47\t-->\tCalling Count:1\n",
      "[2024-05-09 13:40:21] (2.3.4) deprel_vocab:<pyabsa.tasks.AspectSentimentTripletExtraction.dataset_utils.aste_utils.VocabHelp object at 0x0000029A6EB62DF0>\t-->\tCalling Count:1451\n",
      "[2024-05-09 13:40:21] (2.3.4) device:cpu\t-->\tCalling Count:2\n",
      "[2024-05-09 13:40:21] (2.3.4) device_name:Unknown\t-->\tCalling Count:1\n",
      "[2024-05-09 13:40:21] (2.3.4) dlcf_a:2\t-->\tCalling Count:0\n",
      "[2024-05-09 13:40:21] (2.3.4) dropout:0.5\t-->\tCalling Count:0\n",
      "[2024-05-09 13:40:21] (2.3.4) dynamic_truncate:True\t-->\tCalling Count:0\n",
      "[2024-05-09 13:40:21] (2.3.4) emb_dropout:0.5\t-->\tCalling Count:1\n",
      "[2024-05-09 13:40:21] (2.3.4) embed_dim:768\t-->\tCalling Count:0\n",
      "[2024-05-09 13:40:21] (2.3.4) epochs:100\t-->\tCalling Count:0\n",
      "[2024-05-09 13:40:21] (2.3.4) eta:1\t-->\tCalling Count:0\n",
      "[2024-05-09 13:40:21] (2.3.4) eta_lr:0.1\t-->\tCalling Count:0\n",
      "[2024-05-09 13:40:21] (2.3.4) evaluate_begin:0\t-->\tCalling Count:0\n",
      "[2024-05-09 13:40:21] (2.3.4) from_checkpoint:None\t-->\tCalling Count:0\n",
      "[2024-05-09 13:40:21] (2.3.4) gcn_dim:300\t-->\tCalling Count:6\n",
      "[2024-05-09 13:40:21] (2.3.4) hidden_dim:768\t-->\tCalling Count:4\n",
      "[2024-05-09 13:40:21] (2.3.4) index_to_label:OrderedDict([(0, 'N'), (1, 'B-A'), (2, 'I-A'), (3, 'A'), (4, 'B-O'), (5, 'I-O'), (6, 'O'), (7, 'Negative'), (8, 'Neutral'), (9, 'Positive')])\t-->\tCalling Count:0\n",
      "[2024-05-09 13:40:21] (2.3.4) inference_model:None\t-->\tCalling Count:0\n",
      "[2024-05-09 13:40:21] (2.3.4) initializer:xavier_uniform_\t-->\tCalling Count:0\n",
      "[2024-05-09 13:40:21] (2.3.4) l2reg:1e-06\t-->\tCalling Count:3\n",
      "[2024-05-09 13:40:21] (2.3.4) label_to_index:OrderedDict([('N', 0), ('B-A', 1), ('I-A', 2), ('A', 3), ('B-O', 4), ('I-O', 5), ('O', 6), ('Negative', 7), ('Neutral', 8), ('Positive', 9)])\t-->\tCalling Count:0\n",
      "[2024-05-09 13:40:21] (2.3.4) lcf:cdw\t-->\tCalling Count:0\n",
      "[2024-05-09 13:40:21] (2.3.4) learning_rate:5e-05\t-->\tCalling Count:3\n",
      "[2024-05-09 13:40:21] (2.3.4) load_aug:False\t-->\tCalling Count:1\n",
      "[2024-05-09 13:40:21] (2.3.4) log_step:-1\t-->\tCalling Count:0\n",
      "[2024-05-09 13:40:21] (2.3.4) logger:<Logger emcgcn (INFO)>\t-->\tCalling Count:12\n",
      "[2024-05-09 13:40:21] (2.3.4) lsa:False\t-->\tCalling Count:0\n",
      "[2024-05-09 13:40:21] (2.3.4) max_seq_len:120\t-->\tCalling Count:51378\n",
      "[2024-05-09 13:40:21] (2.3.4) model:<class 'pyabsa.tasks.AspectSentimentTripletExtraction.models.model.EMCGCN'>\t-->\tCalling Count:5\n",
      "[2024-05-09 13:40:21] (2.3.4) model_name:emcgcn\t-->\tCalling Count:2\n",
      "[2024-05-09 13:40:21] (2.3.4) model_path_to_save:checkpoints\t-->\tCalling Count:0\n",
      "[2024-05-09 13:40:21] (2.3.4) num_epoch:10\t-->\tCalling Count:0\n",
      "[2024-05-09 13:40:21] (2.3.4) num_layers:1\t-->\tCalling Count:1\n",
      "[2024-05-09 13:40:21] (2.3.4) optimizer:adamw\t-->\tCalling Count:1\n",
      "[2024-05-09 13:40:21] (2.3.4) output_dim:10\t-->\tCalling Count:7\n",
      "[2024-05-09 13:40:21] (2.3.4) overwrite_cache:False\t-->\tCalling Count:0\n",
      "[2024-05-09 13:40:21] (2.3.4) path_to_save:None\t-->\tCalling Count:1\n",
      "[2024-05-09 13:40:21] (2.3.4) patience:99999\t-->\tCalling Count:0\n",
      "[2024-05-09 13:40:21] (2.3.4) pooling:avg\t-->\tCalling Count:1\n",
      "[2024-05-09 13:40:21] (2.3.4) post_size:85\t-->\tCalling Count:1\n",
      "[2024-05-09 13:40:21] (2.3.4) post_vocab:<pyabsa.tasks.AspectSentimentTripletExtraction.dataset_utils.aste_utils.VocabHelp object at 0x0000029A66264EE0>\t-->\tCalling Count:1451\n",
      "[2024-05-09 13:40:21] (2.3.4) postag_size:154\t-->\tCalling Count:1\n",
      "[2024-05-09 13:40:21] (2.3.4) postag_vocab:<pyabsa.tasks.AspectSentimentTripletExtraction.dataset_utils.aste_utils.VocabHelp object at 0x0000029A706B93D0>\t-->\tCalling Count:1451\n",
      "[2024-05-09 13:40:21] (2.3.4) pretrained_bert:microsoft/deberta-v3-base\t-->\tCalling Count:5\n",
      "[2024-05-09 13:40:21] (2.3.4) relation_constraint:True\t-->\tCalling Count:0\n",
      "[2024-05-09 13:40:21] (2.3.4) save_mode:1\t-->\tCalling Count:0\n",
      "[2024-05-09 13:40:21] (2.3.4) seed:52\t-->\tCalling Count:7\n",
      "[2024-05-09 13:40:21] (2.3.4) sigma:0.3\t-->\tCalling Count:0\n",
      "[2024-05-09 13:40:21] (2.3.4) similarity_threshold:1\t-->\tCalling Count:0\n",
      "[2024-05-09 13:40:21] (2.3.4) spacy_model:en_core_web_sm\t-->\tCalling Count:5\n",
      "[2024-05-09 13:40:21] (2.3.4) srd_alignment:True\t-->\tCalling Count:0\n",
      "[2024-05-09 13:40:21] (2.3.4) symmetry_decoding:False\t-->\tCalling Count:0\n",
      "[2024-05-09 13:40:21] (2.3.4) syn_post_vocab:<pyabsa.tasks.AspectSentimentTripletExtraction.dataset_utils.aste_utils.VocabHelp object at 0x0000029A6EB3F250>\t-->\tCalling Count:1453\n",
      "[2024-05-09 13:40:21] (2.3.4) synpost_size:7\t-->\tCalling Count:1\n",
      "[2024-05-09 13:40:21] (2.3.4) task:triplet\t-->\tCalling Count:17998\n",
      "[2024-05-09 13:40:21] (2.3.4) task_code:ASTE\t-->\tCalling Count:2\n",
      "[2024-05-09 13:40:21] (2.3.4) task_name:Aspect Sentiment Triple Extraction\t-->\tCalling Count:0\n",
      "[2024-05-09 13:40:21] (2.3.4) token_vocab:<pyabsa.tasks.AspectSentimentTripletExtraction.dataset_utils.aste_utils.VocabHelp object at 0x0000029A65F52AC0>\t-->\tCalling Count:0\n",
      "[2024-05-09 13:40:21] (2.3.4) tokenizer:<pyabsa.framework.tokenizer_class.tokenizer_class.PretrainedTokenizer object at 0x0000029A62AD5730>\t-->\tCalling Count:0\n",
      "[2024-05-09 13:40:21] (2.3.4) use_amp:True\t-->\tCalling Count:1\n",
      "[2024-05-09 13:40:21] (2.3.4) use_bert_spc:True\t-->\tCalling Count:0\n",
      "[2024-05-09 13:40:21] (2.3.4) use_syntax_based_SRD:False\t-->\tCalling Count:0\n",
      "[2024-05-09 13:40:21] (2.3.4) warmup_step:-1\t-->\tCalling Count:0\n",
      "[2024-05-09 13:40:21] (2.3.4) weight_decay:0.0\t-->\tCalling Count:0\n",
      "[2024-05-09 13:40:21] (2.3.4) window:lr\t-->\tCalling Count:0\n",
      "2024-05-09 13:40:22,005 INFO: ***** Running training for Aspect Sentiment Triple Extraction *****\n",
      "2024-05-09 13:40:23,629 INFO: Training set examples = 906\n",
      "2024-05-09 13:40:23,634 INFO: Valid set examples = 217\n",
      "2024-05-09 13:40:23,639 INFO: Test set examples = 328\n",
      "2024-05-09 13:40:23,643 INFO: Total params = 185532538, Trainable params = 185532538, Non-trainable params = 0\n",
      "2024-05-09 13:40:23,648 INFO: Batch size = 16\n",
      "2024-05-09 13:40:23,652 INFO: Num steps = 570\n"
     ]
    },
    {
     "name": "stderr",
     "output_type": "stream",
     "text": [
      "Epoch:0 | Loss:0:   0%|          | 0/57 [00:00<?, ?it/s]c:\\Users\\bahar\\anaconda3\\envs\\pyabsa\\lib\\site-packages\\torch\\amp\\autocast_mode.py:250: UserWarning: User provided device_type of 'cuda', but CUDA is not available. Disabling\n",
      "  warnings.warn(\n"
     ]
    },
    {
     "ename": "",
     "evalue": "",
     "output_type": "error",
     "traceback": [
      "\u001b[1;31mThe Kernel crashed while executing code in the current cell or a previous cell. \n",
      "\u001b[1;31mPlease review the code in the cell(s) to identify a possible cause of the failure. \n",
      "\u001b[1;31mClick <a href='https://aka.ms/vscodeJupyterKernelCrash'>here</a> for more info. \n",
      "\u001b[1;31mView Jupyter <a href='command:jupyter.viewOutput'>log</a> for further details."
     ]
    }
   ],
   "source": [
    "if __name__ == \"__main__\":\n",
    "    config = ASTE.ASTEConfigManager.get_aste_config_english()\n",
    "    config.max_seq_len = 120\n",
    "    config.log_step = -1\n",
    "    # config.pretrained_bert = \"microsoft/mdeberta-v3-base\"\n",
    "    config.pretrained_bert = \"microsoft/deberta-v3-base\"\n",
    "    # config.pretrained_bert = \"bert-base-chinese\"\n",
    "    config.num_epoch = 10\n",
    "    config.learning_rate = 5e-5\n",
    "    # config.cache_dataset = True\n",
    "    config.use_amp = True\n",
    "    config.cache_dataset = False\n",
    "    # config.spacy_model = \"zh_core_web_sm\"\n",
    "\n",
    "    dataset = \"Laptop14\"\n",
    "    # dataset = \"aste\"\n",
    "    # dataset = \"semeval\"\n",
    "    # dataset = \"chinese\"\n",
    "    trainer = ASTE.ASTETrainer(\n",
    "        config=config,\n",
    "        dataset=dataset,\n",
    "        # from_checkpoint='english',\n",
    "        checkpoint_save_mode=ModelSaveOption.SAVE_MODEL_STATE_DICT,\n",
    "        # checkpoint_save_mode=ModelSaveOption.DO_NOT_SAVE_MODEL,\n",
    "        auto_device=True,\n",
    "    )\n",
    "    triplet_extractor = trainer.load_trained_model()\n",
    "\n",
    "    examples = [\n",
    "        \"I love this laptop, it is very good.\",\n",
    "        \"I hate this laptop, it is very bad.\",\n",
    "        \"I like this laptop, it is very good.\",\n",
    "        \"I dislike this laptop, it is very bad.\",\n",
    "    ]\n",
    "    for example in examples:\n",
    "        triplet_extractor.predict(\"I love this laptop, it is very good.\")"
   ]
  },
  {
   "cell_type": "code",
   "execution_count": 2,
   "metadata": {},
   "outputs": [],
   "source": [
    "# prefix repro code from above with\n",
    "\n",
    "import faulthandler\n",
    "faulthandler.enable()"
   ]
  }
 ],
 "metadata": {
  "kernelspec": {
   "display_name": "pyabsa",
   "language": "python",
   "name": "python3"
  },
  "language_info": {
   "codemirror_mode": {
    "name": "ipython",
    "version": 3
   },
   "file_extension": ".py",
   "mimetype": "text/x-python",
   "name": "python",
   "nbconvert_exporter": "python",
   "pygments_lexer": "ipython3",
   "version": "3.11.5"
  }
 },
 "nbformat": 4,
 "nbformat_minor": 2
}
