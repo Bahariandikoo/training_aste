{
 "cells": [
  {
   "cell_type": "code",
   "execution_count": 1,
   "metadata": {},
   "outputs": [
    {
     "name": "stdout",
     "output_type": "stream",
     "text": [
      "Requirement already satisfied: pyabsa in c:\\users\\bahar\\anaconda3\\lib\\site-packages (2.4.1.post1)\n",
      "Requirement already satisfied: findfile>=2.0.0 in c:\\users\\bahar\\anaconda3\\lib\\site-packages (from pyabsa) (2.0.1)\n",
      "Requirement already satisfied: autocuda>=0.16 in c:\\users\\bahar\\anaconda3\\lib\\site-packages (from pyabsa) (0.16)\n",
      "Requirement already satisfied: metric-visualizer>=0.9.6 in c:\\users\\bahar\\anaconda3\\lib\\site-packages (from pyabsa) (0.9.9)\n",
      "Requirement already satisfied: boostaug>=2.3.5 in c:\\users\\bahar\\anaconda3\\lib\\site-packages (from pyabsa) (2.3.5)\n",
      "Requirement already satisfied: spacy in c:\\users\\bahar\\anaconda3\\lib\\site-packages (from pyabsa) (3.7.2)\n",
      "Requirement already satisfied: networkx in c:\\users\\bahar\\anaconda3\\lib\\site-packages (from pyabsa) (3.1)\n",
      "Requirement already satisfied: seqeval in c:\\users\\bahar\\anaconda3\\lib\\site-packages (from pyabsa) (1.2.2)\n",
      "Requirement already satisfied: update-checker in c:\\users\\bahar\\anaconda3\\lib\\site-packages (from pyabsa) (0.18.0)\n",
      "Requirement already satisfied: typing-extensions in c:\\users\\bahar\\anaconda3\\lib\\site-packages (from pyabsa) (4.7.1)\n",
      "Requirement already satisfied: tqdm in c:\\users\\bahar\\anaconda3\\lib\\site-packages (from pyabsa) (4.65.0)\n",
      "Requirement already satisfied: pytorch-warmup in c:\\users\\bahar\\anaconda3\\lib\\site-packages (from pyabsa) (0.1.1)\n",
      "Requirement already satisfied: termcolor in c:\\users\\bahar\\anaconda3\\lib\\site-packages (from pyabsa) (2.4.0)\n",
      "Requirement already satisfied: gitpython in c:\\users\\bahar\\anaconda3\\lib\\site-packages (from pyabsa) (3.1.40)\n",
      "Requirement already satisfied: transformers>=4.18.0 in c:\\users\\bahar\\anaconda3\\lib\\site-packages (from pyabsa) (4.32.1)\n",
      "Requirement already satisfied: torch>=1.0.0 in c:\\users\\bahar\\anaconda3\\lib\\site-packages (from pyabsa) (2.1.1)\n",
      "Requirement already satisfied: sentencepiece in c:\\users\\bahar\\anaconda3\\lib\\site-packages (from pyabsa) (0.1.99)\n",
      "Requirement already satisfied: protobuf<4.0.0 in c:\\users\\bahar\\anaconda3\\lib\\site-packages (from pyabsa) (3.20.3)\n",
      "Requirement already satisfied: pandas in c:\\users\\bahar\\anaconda3\\lib\\site-packages (from pyabsa) (2.0.3)\n",
      "Requirement already satisfied: matplotlib>=3.6.3 in c:\\users\\bahar\\anaconda3\\lib\\site-packages (from metric-visualizer>=0.9.6->pyabsa) (3.7.2)\n",
      "Requirement already satisfied: tikzplotlib in c:\\users\\bahar\\anaconda3\\lib\\site-packages (from metric-visualizer>=0.9.6->pyabsa) (0.10.1)\n",
      "Requirement already satisfied: scipy>=1.10.0 in c:\\users\\bahar\\anaconda3\\lib\\site-packages (from metric-visualizer>=0.9.6->pyabsa) (1.10.1)\n",
      "Requirement already satisfied: tabulate in c:\\users\\bahar\\anaconda3\\lib\\site-packages (from metric-visualizer>=0.9.6->pyabsa) (0.8.10)\n",
      "Requirement already satisfied: natsort in c:\\users\\bahar\\anaconda3\\lib\\site-packages (from metric-visualizer>=0.9.6->pyabsa) (8.4.0)\n",
      "Requirement already satisfied: numpy in c:\\users\\bahar\\anaconda3\\lib\\site-packages (from metric-visualizer>=0.9.6->pyabsa) (1.24.3)\n",
      "Requirement already satisfied: click in c:\\users\\bahar\\anaconda3\\lib\\site-packages (from metric-visualizer>=0.9.6->pyabsa) (8.0.4)\n",
      "Requirement already satisfied: openpyxl in c:\\users\\bahar\\anaconda3\\lib\\site-packages (from metric-visualizer>=0.9.6->pyabsa) (3.0.10)\n",
      "Requirement already satisfied: xlsxwriter in c:\\users\\bahar\\anaconda3\\lib\\site-packages (from metric-visualizer>=0.9.6->pyabsa) (3.1.9)\n",
      "Requirement already satisfied: scikit-learn<1.3.0 in c:\\users\\bahar\\anaconda3\\lib\\site-packages (from metric-visualizer>=0.9.6->pyabsa) (1.2.2)\n",
      "Requirement already satisfied: filelock in c:\\users\\bahar\\anaconda3\\lib\\site-packages (from torch>=1.0.0->pyabsa) (3.13.1)\n",
      "Requirement already satisfied: sympy in c:\\users\\bahar\\anaconda3\\lib\\site-packages (from torch>=1.0.0->pyabsa) (1.11.1)\n",
      "Requirement already satisfied: jinja2 in c:\\users\\bahar\\anaconda3\\lib\\site-packages (from torch>=1.0.0->pyabsa) (3.1.2)\n",
      "Requirement already satisfied: fsspec in c:\\users\\bahar\\anaconda3\\lib\\site-packages (from torch>=1.0.0->pyabsa) (2023.4.0)\n",
      "Requirement already satisfied: huggingface-hub<1.0,>=0.15.1 in c:\\users\\bahar\\anaconda3\\lib\\site-packages (from transformers>=4.18.0->pyabsa) (0.15.1)\n",
      "Requirement already satisfied: packaging>=20.0 in c:\\users\\bahar\\anaconda3\\lib\\site-packages (from transformers>=4.18.0->pyabsa) (23.1)\n",
      "Requirement already satisfied: pyyaml>=5.1 in c:\\users\\bahar\\anaconda3\\lib\\site-packages (from transformers>=4.18.0->pyabsa) (6.0)\n",
      "Requirement already satisfied: regex!=2019.12.17 in c:\\users\\bahar\\anaconda3\\lib\\site-packages (from transformers>=4.18.0->pyabsa) (2022.7.9)\n",
      "Requirement already satisfied: requests in c:\\users\\bahar\\anaconda3\\lib\\site-packages (from transformers>=4.18.0->pyabsa) (2.31.0)\n",
      "Requirement already satisfied: tokenizers!=0.11.3,<0.14,>=0.11.1 in c:\\users\\bahar\\anaconda3\\lib\\site-packages (from transformers>=4.18.0->pyabsa) (0.13.2)\n",
      "Requirement already satisfied: safetensors>=0.3.1 in c:\\users\\bahar\\anaconda3\\lib\\site-packages (from transformers>=4.18.0->pyabsa) (0.3.2)\n",
      "Requirement already satisfied: colorama in c:\\users\\bahar\\anaconda3\\lib\\site-packages (from tqdm->pyabsa) (0.4.6)\n",
      "Requirement already satisfied: gitdb<5,>=4.0.1 in c:\\users\\bahar\\anaconda3\\lib\\site-packages (from gitpython->pyabsa) (4.0.11)\n",
      "Requirement already satisfied: python-dateutil>=2.8.2 in c:\\users\\bahar\\anaconda3\\lib\\site-packages (from pandas->pyabsa) (2.8.2)\n",
      "Requirement already satisfied: pytz>=2020.1 in c:\\users\\bahar\\anaconda3\\lib\\site-packages (from pandas->pyabsa) (2022.7.1)\n",
      "Requirement already satisfied: tzdata>=2022.1 in c:\\users\\bahar\\anaconda3\\lib\\site-packages (from pandas->pyabsa) (2023.3)\n",
      "Requirement already satisfied: spacy-legacy<3.1.0,>=3.0.11 in c:\\users\\bahar\\anaconda3\\lib\\site-packages (from spacy->pyabsa) (3.0.12)\n",
      "Requirement already satisfied: spacy-loggers<2.0.0,>=1.0.0 in c:\\users\\bahar\\anaconda3\\lib\\site-packages (from spacy->pyabsa) (1.0.5)\n",
      "Requirement already satisfied: murmurhash<1.1.0,>=0.28.0 in c:\\users\\bahar\\anaconda3\\lib\\site-packages (from spacy->pyabsa) (1.0.10)\n",
      "Requirement already satisfied: cymem<2.1.0,>=2.0.2 in c:\\users\\bahar\\anaconda3\\lib\\site-packages (from spacy->pyabsa) (2.0.8)\n",
      "Requirement already satisfied: preshed<3.1.0,>=3.0.2 in c:\\users\\bahar\\anaconda3\\lib\\site-packages (from spacy->pyabsa) (3.0.9)\n",
      "Requirement already satisfied: thinc<8.3.0,>=8.1.8 in c:\\users\\bahar\\anaconda3\\lib\\site-packages (from spacy->pyabsa) (8.2.1)\n",
      "Requirement already satisfied: wasabi<1.2.0,>=0.9.1 in c:\\users\\bahar\\anaconda3\\lib\\site-packages (from spacy->pyabsa) (1.1.2)\n",
      "Requirement already satisfied: srsly<3.0.0,>=2.4.3 in c:\\users\\bahar\\anaconda3\\lib\\site-packages (from spacy->pyabsa) (2.4.8)\n",
      "Requirement already satisfied: catalogue<2.1.0,>=2.0.6 in c:\\users\\bahar\\anaconda3\\lib\\site-packages (from spacy->pyabsa) (2.0.10)\n",
      "Requirement already satisfied: weasel<0.4.0,>=0.1.0 in c:\\users\\bahar\\anaconda3\\lib\\site-packages (from spacy->pyabsa) (0.3.4)\n",
      "Requirement already satisfied: typer<0.10.0,>=0.3.0 in c:\\users\\bahar\\anaconda3\\lib\\site-packages (from spacy->pyabsa) (0.9.0)\n",
      "Requirement already satisfied: smart-open<7.0.0,>=5.2.1 in c:\\users\\bahar\\anaconda3\\lib\\site-packages (from spacy->pyabsa) (5.2.1)\n",
      "Requirement already satisfied: pydantic!=1.8,!=1.8.1,<3.0.0,>=1.7.4 in c:\\users\\bahar\\anaconda3\\lib\\site-packages (from spacy->pyabsa) (1.10.8)\n",
      "Requirement already satisfied: setuptools in c:\\users\\bahar\\anaconda3\\lib\\site-packages (from spacy->pyabsa) (68.0.0)\n",
      "Requirement already satisfied: langcodes<4.0.0,>=3.2.0 in c:\\users\\bahar\\anaconda3\\lib\\site-packages (from spacy->pyabsa) (3.3.0)\n",
      "Requirement already satisfied: smmap<6,>=3.0.1 in c:\\users\\bahar\\anaconda3\\lib\\site-packages (from gitdb<5,>=4.0.1->gitpython->pyabsa) (5.0.1)\n",
      "Requirement already satisfied: contourpy>=1.0.1 in c:\\users\\bahar\\anaconda3\\lib\\site-packages (from matplotlib>=3.6.3->metric-visualizer>=0.9.6->pyabsa) (1.0.5)\n",
      "Requirement already satisfied: cycler>=0.10 in c:\\users\\bahar\\anaconda3\\lib\\site-packages (from matplotlib>=3.6.3->metric-visualizer>=0.9.6->pyabsa) (0.11.0)\n",
      "Requirement already satisfied: fonttools>=4.22.0 in c:\\users\\bahar\\anaconda3\\lib\\site-packages (from matplotlib>=3.6.3->metric-visualizer>=0.9.6->pyabsa) (4.25.0)\n",
      "Requirement already satisfied: kiwisolver>=1.0.1 in c:\\users\\bahar\\anaconda3\\lib\\site-packages (from matplotlib>=3.6.3->metric-visualizer>=0.9.6->pyabsa) (1.4.4)\n",
      "Requirement already satisfied: pillow>=6.2.0 in c:\\users\\bahar\\anaconda3\\lib\\site-packages (from matplotlib>=3.6.3->metric-visualizer>=0.9.6->pyabsa) (10.0.1)\n",
      "Requirement already satisfied: pyparsing<3.1,>=2.3.1 in c:\\users\\bahar\\anaconda3\\lib\\site-packages (from matplotlib>=3.6.3->metric-visualizer>=0.9.6->pyabsa) (3.0.9)\n",
      "Requirement already satisfied: six>=1.5 in c:\\users\\bahar\\anaconda3\\lib\\site-packages (from python-dateutil>=2.8.2->pandas->pyabsa) (1.16.0)\n",
      "Requirement already satisfied: charset-normalizer<4,>=2 in c:\\users\\bahar\\anaconda3\\lib\\site-packages (from requests->transformers>=4.18.0->pyabsa) (2.0.4)\n",
      "Requirement already satisfied: idna<4,>=2.5 in c:\\users\\bahar\\anaconda3\\lib\\site-packages (from requests->transformers>=4.18.0->pyabsa) (3.4)\n",
      "Requirement already satisfied: urllib3<3,>=1.21.1 in c:\\users\\bahar\\anaconda3\\lib\\site-packages (from requests->transformers>=4.18.0->pyabsa) (1.26.16)\n",
      "Requirement already satisfied: certifi>=2017.4.17 in c:\\users\\bahar\\anaconda3\\lib\\site-packages (from requests->transformers>=4.18.0->pyabsa) (2023.11.17)\n",
      "Requirement already satisfied: joblib>=1.1.1 in c:\\users\\bahar\\anaconda3\\lib\\site-packages (from scikit-learn<1.3.0->metric-visualizer>=0.9.6->pyabsa) (1.2.0)\n",
      "Requirement already satisfied: threadpoolctl>=2.0.0 in c:\\users\\bahar\\anaconda3\\lib\\site-packages (from scikit-learn<1.3.0->metric-visualizer>=0.9.6->pyabsa) (2.2.0)\n",
      "Requirement already satisfied: blis<0.8.0,>=0.7.8 in c:\\users\\bahar\\anaconda3\\lib\\site-packages (from thinc<8.3.0,>=8.1.8->spacy->pyabsa) (0.7.11)\n",
      "Requirement already satisfied: confection<1.0.0,>=0.0.1 in c:\\users\\bahar\\anaconda3\\lib\\site-packages (from thinc<8.3.0,>=8.1.8->spacy->pyabsa) (0.1.4)\n",
      "Requirement already satisfied: cloudpathlib<0.17.0,>=0.7.0 in c:\\users\\bahar\\anaconda3\\lib\\site-packages (from weasel<0.4.0,>=0.1.0->spacy->pyabsa) (0.16.0)\n",
      "Requirement already satisfied: MarkupSafe>=2.0 in c:\\users\\bahar\\anaconda3\\lib\\site-packages (from jinja2->torch>=1.0.0->pyabsa) (2.1.1)\n",
      "Requirement already satisfied: et_xmlfile in c:\\users\\bahar\\anaconda3\\lib\\site-packages (from openpyxl->metric-visualizer>=0.9.6->pyabsa) (1.1.0)\n",
      "Requirement already satisfied: mpmath>=0.19 in c:\\users\\bahar\\anaconda3\\lib\\site-packages (from sympy->torch>=1.0.0->pyabsa) (1.3.0)\n",
      "Requirement already satisfied: webcolors in c:\\users\\bahar\\anaconda3\\lib\\site-packages (from tikzplotlib->metric-visualizer>=0.9.6->pyabsa) (1.13)\n",
      "Version 0.9.9 of metric_visualizer is outdated. Version 0.9.13 was released Wednesday May 01, 2024.\n",
      "No CUDA GPU found in your device\n",
      "[2024-05-27 14:37:38] (2.4.1.post1) \u001b[31mPyABSA(2.4.1.post1): If your code crashes on Colab, please use the GPU runtime. Then run \"pip install pyabsa[dev] -U\" and restart the kernel.\n",
      "Or if it does not work, you can use v1.x versions, e.g., pip install pyabsa<2.0 -U\n",
      "\n",
      "\n",
      "\n",
      "\n",
      "WARNING: When you fails to load a checkpoint, e.g., Unexpected key(s),\n",
      "Try to downgrade transformers<=4.29.0.\n",
      "\n",
      "\n",
      "\n",
      "\u001b[0m\n"
     ]
    },
    {
     "name": "stderr",
     "output_type": "stream",
     "text": [
      "c:\\Users\\bahar\\anaconda3\\Lib\\multiprocessing\\pool.py:268: ResourceWarning: unclosed running multiprocessing pool <multiprocessing.pool.Pool state=RUN pool_size=1>\n",
      "  _warn(f\"unclosed running multiprocessing pool {self!r}\",\n",
      "ResourceWarning: Enable tracemalloc to get the object allocation traceback\n"
     ]
    }
   ],
   "source": [
    "!pip install pyabsa -U\n",
    "from pyabsa import AspectSentimentTripletExtraction as ASTE"
   ]
  },
  {
   "cell_type": "code",
   "execution_count": 3,
   "metadata": {},
   "outputs": [],
   "source": [
    "from pyabsa import AspectSentimentTripletExtraction as ASTE"
   ]
  },
  {
   "cell_type": "code",
   "execution_count": 2,
   "metadata": {},
   "outputs": [
    {
     "name": "stderr",
     "output_type": "stream",
     "text": [
      "c:\\Users\\bahar\\anaconda3\\Lib\\multiprocessing\\pool.py:268: ResourceWarning: unclosed running multiprocessing pool <multiprocessing.pool.Pool state=RUN pool_size=1>\n",
      "  _warn(f\"unclosed running multiprocessing pool {self!r}\",\n",
      "ResourceWarning: Enable tracemalloc to get the object allocation traceback\n"
     ]
    }
   ],
   "source": [
    "config = (\n",
    "    ASTE.ASTEConfigManager.get_aste_config_english()\n",
    ")  # this config contains 'pretrained_bert', it is based on pretrained models"
   ]
  },
  {
   "cell_type": "code",
   "execution_count": 3,
   "metadata": {},
   "outputs": [],
   "source": [
    "config.model = ASTE.ASTEModelList.EMCGCN  # improved version of LCF-ATEPC\n",
    "config.pretrained_bert = 'indobenchmark/indobert-large-p2'"
   ]
  },
  {
   "cell_type": "code",
   "execution_count": 4,
   "metadata": {},
   "outputs": [
    {
     "data": {
      "text/plain": [
       "'indobenchmark/indobert-large-p2'"
      ]
     },
     "execution_count": 4,
     "metadata": {},
     "output_type": "execute_result"
    }
   ],
   "source": [
    "config.pretrained_bert"
   ]
  },
  {
   "cell_type": "code",
   "execution_count": 5,
   "metadata": {},
   "outputs": [],
   "source": [
    "from pyabsa import DatasetItem\n",
    "dataset = DatasetItem(\"aste_datasets\", \"100.seribu_data\")"
   ]
  },
  {
   "cell_type": "code",
   "execution_count": 6,
   "metadata": {},
   "outputs": [],
   "source": [
    "from pyabsa import ModelSaveOption, DeviceTypeOption\n",
    "import warnings\n",
    "warnings.filterwarnings(\"ignore\")\n",
    "config.batch_size = 16\n",
    "config.patience = 999\n",
    "config.log_step = -1\n",
    "config.seed = [1, 2, 3]\n",
    "config.verbose = False  # If verbose == True, PyABSA will output the model structure and several processed data examples\n",
    "config.notice = (\n",
    "    \"This is an training example for aspect term extraction\"  # for memos usage\n",
    ")"
   ]
  },
  {
   "cell_type": "code",
   "execution_count": 7,
   "metadata": {},
   "outputs": [
    {
     "name": "stdout",
     "output_type": "stream",
     "text": [
      "[2024-05-20 02:20:38] (2.4.1.post1) Set Model Device: cpu\n",
      "[2024-05-20 02:20:38] (2.4.1.post1) Device Name: Unknown\n",
      "2024-05-20 02:20:40,782 INFO: PyABSA version: 2.4.1.post1\n",
      "2024-05-20 02:20:40,784 INFO: Transformers version: 4.32.1\n",
      "2024-05-20 02:20:40,788 INFO: Torch version: 2.1.1+cpu+cudaNone\n",
      "2024-05-20 02:20:40,790 INFO: Device: Unknown\n",
      "2024-05-20 02:20:40,825 INFO: Searching dataset 100.seribu_data in local disk\n",
      "2024-05-20 02:21:03,675 INFO: You can set load_aug=True in a trainer to augment your dataset (English only yet) and improve performance.\n",
      "2024-05-20 02:21:03,676 INFO: Please use a new folder to perform new text augment if the former augment in integrated_datasets\\aste_datasets\\100.seribu_data errored unexpectedly\n"
     ]
    },
    {
     "name": "stderr",
     "output_type": "stream",
     "text": [
      "Using eos_token, but it is not set yet.\n"
     ]
    },
    {
     "name": "stdout",
     "output_type": "stream",
     "text": [
      "2024-05-20 02:21:06,760 INFO: Load dataset from integrated_datasets\\aste_datasets\\100.seribu_data\\train.dat.apc\n"
     ]
    },
    {
     "name": "stderr",
     "output_type": "stream",
     "text": [
      "preparing dataloader: 100%|██████████| 686/686 [00:18<00:00, 38.06it/s]\n"
     ]
    },
    {
     "name": "stdout",
     "output_type": "stream",
     "text": [
      "2024-05-20 02:21:28,042 INFO: Load dataset from integrated_datasets\\aste_datasets\\100.seribu_data\\test.dat.apc\n"
     ]
    },
    {
     "name": "stderr",
     "output_type": "stream",
     "text": [
      "preparing dataloader: 100%|██████████| 147/147 [00:04<00:00, 33.65it/s]\n"
     ]
    },
    {
     "name": "stdout",
     "output_type": "stream",
     "text": [
      "2024-05-20 02:21:34,881 INFO: Load dataset from integrated_datasets\\aste_datasets\\100.seribu_data\\dev.dat.apc\n"
     ]
    },
    {
     "name": "stderr",
     "output_type": "stream",
     "text": [
      "preparing dataloader: 100%|██████████| 147/147 [00:04<00:00, 32.30it/s]\n"
     ]
    },
    {
     "name": "stdout",
     "output_type": "stream",
     "text": [
      "building vocab...\n"
     ]
    },
    {
     "name": "stderr",
     "output_type": "stream",
     "text": [
      "converting data to features:   3%|▎         | 24/686 [00:06<03:07,  3.53it/s]"
     ]
    },
    {
     "name": "stdout",
     "output_type": "stream",
     "text": [
      "[2024-05-20 02:21:46] (2.4.1.post1) Processing error for: kondisi real di lapangan nih.. secara random yang di kampung kampung suara prabowo ini lumayan.. walaupun itu bukan jadi patokan ya. jadi strategi amin yang sudah bagus di kelas tertentu harus ditambah strategi untuk kelas menengah low. cc abu_waras bospurwa aniesbaswedan .. Exception: list index out of range\n"
     ]
    },
    {
     "name": "stderr",
     "output_type": "stream",
     "text": [
      "converting data to features:   9%|▉         | 64/686 [00:12<01:22,  7.52it/s]"
     ]
    },
    {
     "name": "stdout",
     "output_type": "stream",
     "text": [
      "[2024-05-20 02:21:52] (2.4.1.post1) Processing error for: ganjar pranowo dan mahfud md mendengarkan suara rakyat, dan itu sangat positif __xxwa ganjar mahfud menang .. Exception: list index out of range\n"
     ]
    },
    {
     "name": "stderr",
     "output_type": "stream",
     "text": [
      "converting data to features:  12%|█▏        | 82/686 [00:15<01:34,  6.42it/s]"
     ]
    },
    {
     "name": "stdout",
     "output_type": "stream",
     "text": [
      "[2024-05-20 02:21:55] (2.4.1.post1) Processing error for: ini yang aq suka dari seorang ahok beliau tidak suka bermain sandiwara..benar beliau dibilang benar salah ya dibilang salah pak ahok..kekhawatiran bapak memang sangat masuk akal dan; sangat mewakili suara kami.. tapi maaf bapak sudah salah nyebut..bukan gabrin tapi gibran.. .. Exception: list index out of range\n"
     ]
    },
    {
     "name": "stderr",
     "output_type": "stream",
     "text": [
      "converting data to features:  15%|█▌        | 105/686 [00:21<01:39,  5.85it/s]"
     ]
    },
    {
     "name": "stdout",
     "output_type": "stream",
     "text": [
      "[2024-05-20 02:22:01] (2.4.1.post1) Processing error for: mas ganjar, anak muda jateng dukung ganjar mahfud, bukan prabowo gibran. ganjar presiden, wujudkan perubahan positif! 419tajul kami muak atas ketidakadilandankeserakahan .. Exception: list index out of range\n"
     ]
    },
    {
     "name": "stderr",
     "output_type": "stream",
     "text": [
      "converting data to features:  16%|█▋        | 113/686 [00:22<01:28,  6.49it/s]"
     ]
    },
    {
     "name": "stdout",
     "output_type": "stream",
     "text": [
      "[2024-05-20 02:22:02] (2.4.1.post1) Processing error for: dukungan bagi calon presiden (capres) ganjar pranowo terus berdatangan. kali ini datang dari sejumlah ketua adat papua yang menyatakan sikap untuk mendukung kepada capres berambut putih ini. pada hari ini, sabtu, 21 oktober, sejumlah ketua adat papua menemui ganjar pranowo di .. Exception: list index out of range\n",
      "[2024-05-20 02:22:02] (2.4.1.post1) Processing error for: yes keren, makinyakin ayahbowogibran akan mengkaji untuk menjaga hak kita2, termasuk hak atas hidup dan keadilan yang setara. yespakbowo emangmumpuni prabowo gerindra .. Exception: list index out of range\n",
      "[2024-05-20 02:22:02] (2.4.1.post1) Processing error for: elektabilitas prabowo gibran selalu unggul, ahy: jangan sampai kita sudah merasa menang. pz] pdemokrat agusyudhoyono demokrat bela rakyat .. Exception: list index out of range\n"
     ]
    },
    {
     "name": "stderr",
     "output_type": "stream",
     "text": [
      "converting data to features:  18%|█▊        | 124/686 [00:24<01:20,  6.98it/s]"
     ]
    },
    {
     "name": "stdout",
     "output_type": "stream",
     "text": [
      "[2024-05-20 02:22:04] (2.4.1.post1) Processing error for: riset continuum indef, penampilan gibran rakabuming berhasil mencuri perhatian publik mengantongi sentimen positif sebesar 77,69% dan sentimen negatif 22,31% kontras dengan cak imin yang justru banyak mendapatkan sentimen negatif dari para warganet. .. Exception: list index out of range\n"
     ]
    },
    {
     "name": "stderr",
     "output_type": "stream",
     "text": [
      "converting data to features:  19%|█▊        | 127/686 [00:25<02:10,  4.27it/s]"
     ]
    },
    {
     "name": "stdout",
     "output_type": "stream",
     "text": [
      "[2024-05-20 02:22:05] (2.4.1.post1) Processing error for: bjir kolom ig pak anies dispam buzzer 02. kalo di twitter sudah dimasak bareng2 tuh buzzer geblek. tidak kebayang tiktok yang katanya kasta terendah medsos. emang main twitter sudah paling bener .. Exception: list index out of range\n"
     ]
    },
    {
     "name": "stderr",
     "output_type": "stream",
     "text": [
      "converting data to features:  19%|█▉        | 129/686 [00:25<01:55,  4.82it/s]"
     ]
    },
    {
     "name": "stdout",
     "output_type": "stream",
     "text": [
      "[2024-05-20 02:22:05] (2.4.1.post1) Processing error for: di tengah penetrasi masif prabowo gibran, anies muhaimin dan ganjar mahfud masih dominan menguasai wilayah basis pendukungnya. bahkan, beberapa daerah yang dalam pemilu 2019 menjadi benteng prabowo kini dapat dikuasai. .. Exception: list index out of range\n"
     ]
    },
    {
     "name": "stderr",
     "output_type": "stream",
     "text": [
      "converting data to features:  22%|██▏       | 154/686 [00:29<01:21,  6.54it/s]"
     ]
    },
    {
     "name": "stdout",
     "output_type": "stream",
     "text": [
      "[2024-05-20 02:22:09] (2.4.1.post1) Processing error for: kata adalah doa. pemimpin yang pandai merangkai kata adalah dia yang piawai membingkai doa. anies intelektualnya teruji dan religiusnya terbukti. kalo bisa dapat paket komplit kenapa milih yang paket hemat? .. Exception: list index out of range\n"
     ]
    },
    {
     "name": "stderr",
     "output_type": "stream",
     "text": [
      "converting data to features:  26%|██▌       | 178/686 [00:34<01:34,  5.39it/s]"
     ]
    },
    {
     "name": "stdout",
     "output_type": "stream",
     "text": [
      "[2024-05-20 02:22:13] (2.4.1.post1) Processing error for: cawapres nomor urut 1, muhaimin iskandar, menjadi sorotan seusai mengaku tak paham pertanyaan gibran rakabuming soal sgie (state of global islamic enonomy). cak imin pun buka suara merespons hal tersebut. .. Exception: list index out of range\n"
     ]
    },
    {
     "name": "stderr",
     "output_type": "stream",
     "text": [
      "converting data to features:  29%|██▊       | 196/686 [00:37<01:33,  5.24it/s]"
     ]
    },
    {
     "name": "stdout",
     "output_type": "stream",
     "text": [
      "[2024-05-20 02:22:17] (2.4.1.post1) Processing error for: cak imin, ngomongnya aja sudah bikin ketawa, gak cocok jadi wakil presiden! prameswari097 prabowo gibran berprestasi | bem ui | samsul ndasmu | min mau min .. Exception: list index out of range\n"
     ]
    },
    {
     "name": "stderr",
     "output_type": "stream",
     "text": [
      "converting data to features:  29%|██▉       | 198/686 [00:37<01:57,  4.15it/s]"
     ]
    },
    {
     "name": "stdout",
     "output_type": "stream",
     "text": [
      "[2024-05-20 02:22:17] (2.4.1.post1) Processing error for: baru sempat nonton hasil pngamatan: capres prabowo diserang tanpa henti oleh capres anies dan; ganjar. prabowo dikeroyok dua orang capres yang di berbagai survey elektabilitasnya masih anjlok. sebuah usaha yang cuma omon omon .. Exception: list index out of range\n"
     ]
    },
    {
     "name": "stderr",
     "output_type": "stream",
     "text": [
      "converting data to features:  30%|███       | 207/686 [00:40<03:14,  2.46it/s]"
     ]
    },
    {
     "name": "stdout",
     "output_type": "stream",
     "text": [
      "[2024-05-20 02:22:20] (2.4.1.post1) Processing error for: sejujurnya tim buzzer ganjar ini mainnya belakangan kurang cantik,,yg tadinya suka ganjar bisa jadi benci,banyak banget kontroversinya,info2 salah yang disebarkan,menjelek2an,,ayolah fokus pada pak ganjar untuk menang,,pemilih yang masih belum menentukan suara kayak saya ini jadi jauhin ganjar .. Exception: list index out of range\n"
     ]
    },
    {
     "name": "stderr",
     "output_type": "stream",
     "text": [
      "converting data to features:  34%|███▍      | 232/686 [00:48<01:35,  4.76it/s]"
     ]
    },
    {
     "name": "stdout",
     "output_type": "stream",
     "text": [
      "[2024-05-20 02:22:28] (2.4.1.post1) Processing error for: hadiri kongres pemuda perubahan, cak imin: saingan kita logistiknya besar, tapi kita tidak takut .. Exception: list index out of range\n"
     ]
    },
    {
     "name": "stderr",
     "output_type": "stream",
     "text": [
      "converting data to features:  37%|███▋      | 252/686 [00:54<01:27,  4.97it/s]"
     ]
    },
    {
     "name": "stdout",
     "output_type": "stream",
     "text": [
      "[2024-05-20 02:22:34] (2.4.1.post1) Processing error for: lembaga survei indonesia (lsi) merilis survei terbaru elektabilitas capres 2024. siapa lebih unggul antara prabowo, ganjar, anies? .. Exception: list index out of range\n"
     ]
    },
    {
     "name": "stderr",
     "output_type": "stream",
     "text": [
      "converting data to features:  39%|███▉      | 268/686 [00:57<01:02,  6.71it/s]"
     ]
    },
    {
     "name": "stdout",
     "output_type": "stream",
     "text": [
      "[2024-05-20 02:22:37] (2.4.1.post1) Processing error for: soal drama pencalonan gibran, wapres maruf amin: jangan melampaui batas. telat yai, pesawatnya sudah lepas landas! .. Exception: list index out of range\n"
     ]
    },
    {
     "name": "stderr",
     "output_type": "stream",
     "text": [
      "converting data to features:  40%|███▉      | 271/686 [00:58<01:31,  4.56it/s]"
     ]
    },
    {
     "name": "stdout",
     "output_type": "stream",
     "text": [
      "[2024-05-20 02:22:37] (2.4.1.post1) Processing error for: sejumlah partai dari tim pendukung ganjar dan prabowo tampak solid menyebar poster/spanduk/baliho sampai ke pelosok desa... partai pendukung anies masih malu malu dan segan menyegani, hingga akhirnya tak ada sama sekali di sejumlah pelosok desa.... .. Exception: list index out of range\n"
     ]
    },
    {
     "name": "stderr",
     "output_type": "stream",
     "text": [
      "converting data to features:  41%|████      | 278/686 [00:59<00:53,  7.67it/s]"
     ]
    },
    {
     "name": "stdout",
     "output_type": "stream",
     "text": [
      "[2024-05-20 02:22:39] (2.4.1.post1) Processing error for: memilih prabowo gibran sama saja dengan menambah jokowi 3 periode. tapi pendukung ayah rata rata keras kepala, mereka lebih dari sekedar jokower. the real jokower garis keras .. Exception: list index out of range\n"
     ]
    },
    {
     "name": "stderr",
     "output_type": "stream",
     "text": [
      "converting data to features:  47%|████▋     | 322/686 [01:04<00:33, 10.87it/s]"
     ]
    },
    {
     "name": "stdout",
     "output_type": "stream",
     "text": [
      "[2024-05-20 02:22:44] (2.4.1.post1) Processing error for: iya sih, ayah bowogibran terbaik makin diyakini jadi capres sebab bisa mengelola kerja terbaik, integritas, dan keahliannya untuk nkri. ayah bowogibran terbaik prabowo gerindra .. Exception: list index out of range\n"
     ]
    },
    {
     "name": "stderr",
     "output_type": "stream",
     "text": [
      "converting data to features:  50%|█████     | 346/686 [01:08<01:06,  5.11it/s]"
     ]
    },
    {
     "name": "stdout",
     "output_type": "stream",
     "text": [
      "[2024-05-20 02:22:48] (2.4.1.post1) Processing error for: catatan: saya nggak percaya pada survei manapun. cuma kalau itu dikhawatirkan aniesbaswedan en tim. saran saya imin harus segera out dr rezim kkn jokowi. itu akan membangkitkan marwah perjuangan perubahan. .. Exception: list index out of range\n"
     ]
    },
    {
     "name": "stderr",
     "output_type": "stream",
     "text": [
      "converting data to features:  53%|█████▎    | 362/686 [01:10<01:00,  5.32it/s]"
     ]
    },
    {
     "name": "stdout",
     "output_type": "stream",
     "text": [
      "[2024-05-20 02:22:50] (2.4.1.post1) Processing error for: mulai gak sadar diri imin ini. trus pkb bukankah salah satu yang mendorong hal tak berguna ini jd prolegnas, dan pkb juga setuju u/ uu ikn? jgn nyampah cak. memang serendah ini kah cak imin yang diusung pksejahtera ini? sementara pkb hanya pelengkap syarat kursi. .. Exception: list index out of range\n"
     ]
    },
    {
     "name": "stderr",
     "output_type": "stream",
     "text": [
      "converting data to features:  54%|█████▍    | 369/686 [01:11<00:44,  7.14it/s]"
     ]
    },
    {
     "name": "stdout",
     "output_type": "stream",
     "text": [
      "[2024-05-20 02:22:51] (2.4.1.post1) Processing error for: halah preetttttt, macam lebih faham soal hukum tata negara aja daribpada mahfud md dan prof. jimly, ngaca den, jangan karena takut ganjar kalah jadi begini, pak jimly sdg mekaksanakan tugas dengan sebaik2nya, bijak dan mengakomodir pelapor .. Exception: list index out of range\n"
     ]
    },
    {
     "name": "stderr",
     "output_type": "stream",
     "text": [
      "converting data to features:  58%|█████▊    | 397/686 [01:15<00:37,  7.70it/s]"
     ]
    },
    {
     "name": "stdout",
     "output_type": "stream",
     "text": [
      "[2024-05-20 02:22:54] (2.4.1.post1) Processing error for: gw suka cara pdi_perjuangan yang tidak terpancing untuk memecat gr. hal ini sudah perhitungkan dengan matang efek negatifnya, yaitu akan dijdkan senjata: seolah didzolimi (playing victim) untuk meraih suara pdip: keanggotaan gibran di partai otomatis telah berakhir .. Exception: list index out of range\n"
     ]
    },
    {
     "name": "stderr",
     "output_type": "stream",
     "text": [
      "converting data to features:  65%|██████▌   | 447/686 [01:22<00:38,  6.14it/s]"
     ]
    },
    {
     "name": "stdout",
     "output_type": "stream",
     "text": [
      "[2024-05-20 02:23:02] (2.4.1.post1) Processing error for: ganjar mahfud memastikan melanjutkan program bansos. program yang disetujui dpr dan telah dianggarkan di kementrian keuangan ini, ke depan akan disalurkan dengan lebih tepat sasaran. ganjar mahfud akan menyempurnakan penyaluran bansos dengan program ktp sakti .. Exception: list index out of range\n"
     ]
    },
    {
     "name": "stderr",
     "output_type": "stream",
     "text": [
      "converting data to features:  67%|██████▋   | 457/686 [01:24<00:38,  5.93it/s]"
     ]
    },
    {
     "name": "stdout",
     "output_type": "stream",
     "text": [
      "[2024-05-20 02:23:04] (2.4.1.post1) Processing error for: sehat terus pak aniesbaswedan dan imin .jgn lupakan rakyat arus bawah(akar rumput),mereka masih banyak yang buta info ttg paslon no 1. karena mereka selama ini selalu dibodohi oleh para perampok nkri yang mengatasnamakan rakyat,dg sembako dan uang sedikit. .. Exception: list index out of range\n"
     ]
    },
    {
     "name": "stderr",
     "output_type": "stream",
     "text": [
      "converting data to features:  68%|██████▊   | 469/686 [01:26<00:35,  6.15it/s]"
     ]
    },
    {
     "name": "stdout",
     "output_type": "stream",
     "text": [
      "[2024-05-20 02:23:06] (2.4.1.post1) Processing error for: jadi sebenarnya apa sih yang bisa di jual dari partai golkar,pan,demokrat? 3 partai besar ini tidak memiliki kader unggul yang bisa meraup suara? sehingga harus mengemis ke seorang gibran?? .. Exception: list index out of range\n"
     ]
    },
    {
     "name": "stderr",
     "output_type": "stream",
     "text": [
      "converting data to features:  70%|███████   | 483/686 [01:27<00:18, 10.77it/s]"
     ]
    },
    {
     "name": "stdout",
     "output_type": "stream",
     "text": [
      "[2024-05-20 02:23:07] (2.4.1.post1) Processing error for: kesehatan masyarakat diperhatikan dengan baik oleh ganjar mahfud lewat program 1 desa 1 nakes 1 faskes. semangat terus, pak ganjar! ilybylher1 satset bareng gama .. Exception: list index out of range\n",
      "[2024-05-20 02:23:07] (2.4.1.post1) Processing error for: saran kang fahrihamzah ini akan menjadi kenyataan,krn ini kemurnian saran dri pemikiran yang benar,tulisan ini juga akan jdi saksi di akhirat,dn saya meng amin kan pak aniesbaswedan menjadi presiden 2024 2029, .. Exception: list index out of range\n"
     ]
    },
    {
     "name": "stderr",
     "output_type": "stream",
     "text": [
      "converting data to features:  73%|███████▎  | 502/686 [01:30<00:17, 10.72it/s]"
     ]
    },
    {
     "name": "stdout",
     "output_type": "stream",
     "text": [
      "[2024-05-20 02:23:09] (2.4.1.post1) Processing error for: wah luar biasa pasangan prabowo gibran, selalu unggul dalam survei, terbaru pasangan ini unggul 43,5% dri lawan lawanya gibran terus maju tokyo dome kedokteran kami muak .. Exception: list index out of range\n"
     ]
    },
    {
     "name": "stderr",
     "output_type": "stream",
     "text": [
      "converting data to features:  76%|███████▌  | 521/686 [01:32<00:20,  7.91it/s]"
     ]
    },
    {
     "name": "stdout",
     "output_type": "stream",
     "text": [
      "[2024-05-20 02:23:12] (2.4.1.post1) Processing error for: cawapres kim wewenang mutlak capres, ahy: demokrat usulkan khofifah cawapres prabowo.. zmu agusyudhoyono pdemokrat demokrat bareng rakyat .. Exception: list index out of range\n"
     ]
    },
    {
     "name": "stderr",
     "output_type": "stream",
     "text": [
      "converting data to features:  84%|████████▎ | 573/686 [01:40<00:15,  7.43it/s]"
     ]
    },
    {
     "name": "stdout",
     "output_type": "stream",
     "text": [
      "[2024-05-20 02:23:19] (2.4.1.post1) Processing error for: statement anies relevan untuk masa itu tapi mungkin gak untuk saat ini. sama kayak sikap bang fahri dll terhadap gibran, beda waktu dan kondisi beda sikap. gak ada yang salah, yang salah cuma fans kagetan hehe .. Exception: list index out of range\n"
     ]
    },
    {
     "name": "stderr",
     "output_type": "stream",
     "text": [
      "converting data to features:  91%|█████████▏| 627/686 [01:49<00:09,  6.35it/s]"
     ]
    },
    {
     "name": "stdout",
     "output_type": "stream",
     "text": [
      "[2024-05-20 02:23:29] (2.4.1.post1) Processing error for: 21 program unggulan ganjar - mahfud ini, peluru untuk mengetuk pintu hati masyarakat, agar mereka tidak terjebak dengan narasi kebohongan makan siang gratis yang merencanakan 450 t hanya 1 program saja, masyarakat bukan cuman butuh makan tetapi pekerjaan yang layak .. Exception: list index out of range\n"
     ]
    },
    {
     "name": "stderr",
     "output_type": "stream",
     "text": [
      "converting data to features:  93%|█████████▎| 636/686 [01:51<00:09,  5.36it/s]"
     ]
    },
    {
     "name": "stdout",
     "output_type": "stream",
     "text": [
      "[2024-05-20 02:23:31] (2.4.1.post1) Processing error for: gaya kampanye capres nomor urut 1 anies baswedan aniesbaswedan memang terbilang unik. gaya kampanye unik anies ini ternyata mulai diikuti pasangan capres cawapres kubu sebelah yang juga ikutan live tiktok dan menggelar forum diskusi. download di app store dan; play .. Exception: list index out of range\n"
     ]
    },
    {
     "name": "stderr",
     "output_type": "stream",
     "text": [
      "converting data to features:  94%|█████████▍| 648/686 [01:53<00:04,  9.47it/s]"
     ]
    },
    {
     "name": "stdout",
     "output_type": "stream",
     "text": [
      "[2024-05-20 02:23:32] (2.4.1.post1) Processing error for: pengusaha rasa kutu loncat, selalu berada disetiap denyut kekuasaan. hari ini di anies, besok di jokowi, lusa di prabowo, di otak dia hanya keuntungan semata siapapun presidennya. .. Exception: list index out of range\n"
     ]
    },
    {
     "name": "stderr",
     "output_type": "stream",
     "text": [
      "converting data to features:  97%|█████████▋| 667/686 [01:56<00:02,  6.35it/s]"
     ]
    },
    {
     "name": "stdout",
     "output_type": "stream",
     "text": [
      "[2024-05-20 02:23:35] (2.4.1.post1) Processing error for: apa gak malu nie dengan laporan nya..? padahal thn 2019 ini pernah terjadi dlm debat pilpres juga dan di benar kan oleh omon omon... seorang pak anies gak akan berbicara tanpa data.. .. Exception: list index out of range\n"
     ]
    },
    {
     "name": "stderr",
     "output_type": "stream",
     "text": [
      "converting data to features:  98%|█████████▊| 675/686 [01:57<00:01,  7.16it/s]"
     ]
    },
    {
     "name": "stdout",
     "output_type": "stream",
     "text": [
      "[2024-05-20 02:23:37] (2.4.1.post1) Processing error for: mahasiswa ini sungguh peka dan menguasai konflik israel palestina dan kritik anies yang jualan bebaskan palestina emangnya palestina tidak bebas? di mananya dijajah? kata membebaskn adalah pengusiran israel dari wilayah timteng resolusi 2 negara adalah ideal, bukan bebaskan palestina .. Exception: list index out of range\n",
      "[2024-05-20 02:23:37] (2.4.1.post1) Processing error for: 14 tahun kami mengenal pak prabowo , beliau sosok yang tegas, bukan tipe pura pura dan ketika beliau sudah berkomitmen maka akan memegang teguh kesetiaan!! itulah pak prabowo .. Exception: list index out of range\n"
     ]
    },
    {
     "name": "stderr",
     "output_type": "stream",
     "text": [
      "converting data to features: 100%|█████████▉| 685/686 [01:59<00:00,  5.83it/s]"
     ]
    },
    {
     "name": "stdout",
     "output_type": "stream",
     "text": [
      "[2024-05-20 02:23:39] (2.4.1.post1) Processing error for: ini baru keren, untuk mencegah kurang gizi pada batita, yes masbowogibran mantap siapkan program nutrisi agar bisa berakibat pada perkembangan batita. efekdahsyat makangratis prabowo gerindra .. Exception: list index out of range\n"
     ]
    },
    {
     "name": "stderr",
     "output_type": "stream",
     "text": [
      "converting data to features: 100%|██████████| 686/686 [01:59<00:00,  5.74it/s]\n",
      "converting data to features:   9%|▉         | 13/147 [00:02<00:18,  7.21it/s]"
     ]
    },
    {
     "name": "stdout",
     "output_type": "stream",
     "text": [
      "[2024-05-20 02:23:42] (2.4.1.post1) Processing error for: cak imin ini bener bener drama, dulu nggak akur, sekarang manis manisan. adinos8 amin anies dalang politik ulama pemilu 2024 ijtima ulama prabowo .. Exception: list index out of range\n"
     ]
    },
    {
     "name": "stderr",
     "output_type": "stream",
     "text": [
      "converting data to features:  20%|█▉        | 29/147 [00:06<00:21,  5.42it/s]"
     ]
    },
    {
     "name": "stdout",
     "output_type": "stream",
     "text": [
      "[2024-05-20 02:23:45] (2.4.1.post1) Processing error for: plis cak imin sudahin dan stop yang beginian, mari lebih seriusan sekarang. kasihan pak anies yang sudah mulai mengawali dengan sentimen positif baik di medsos maupun langsung di tengah masyarakat. nggak perlu niru paslon sebelah yang norak itu .. Exception: list index out of range\n",
      "[2024-05-20 02:23:46] (2.4.1.post1) Processing error for: hiburan dulu. sebuah kisah kuli bangunan di proyek indonesia maju. kok mirip ceritanya gibran ya? saya suka, anak muda indonesia ternyata paham situasi politik yang terjadi terutama soal mk. .. Exception: list index out of range\n"
     ]
    },
    {
     "name": "stderr",
     "output_type": "stream",
     "text": [
      "converting data to features:  32%|███▏      | 47/147 [00:09<00:14,  6.97it/s]"
     ]
    },
    {
     "name": "stdout",
     "output_type": "stream",
     "text": [
      "[2024-05-20 02:23:49] (2.4.1.post1) Processing error for: nah benerkan. bayangin 01 punya anies yang mantan rektor dosen dan; gubernur. 03 punya mahfud md yang juga sebagai akademisi. terus di 01 ada cak imin yang pernah di dpr. 03 juga punya pak ganjar yang pernah di dpr dan gubernur. gua yakin kalo ini debat ngasih pandangan bukan cringe. .. Exception: list index out of range\n"
     ]
    },
    {
     "name": "stderr",
     "output_type": "stream",
     "text": [
      "converting data to features:  40%|████      | 59/147 [00:12<00:14,  6.03it/s]"
     ]
    },
    {
     "name": "stdout",
     "output_type": "stream",
     "text": [
      "[2024-05-20 02:23:51] (2.4.1.post1) Processing error for: sudah terbaca kalau ganjarpranowo - mohmahfudmd yang akan memenangkan pilpres 2024 nanti, tidak bisa dibantah, mari kita kuatkan dukungan kepada orang baik, orang baik lah yang pantas pemimpin indonesia 5 thn ke depan, brantas korupsi merampas semua asetnya kembalikan kepada negara. .. Exception: list index out of range\n"
     ]
    },
    {
     "name": "stderr",
     "output_type": "stream",
     "text": [
      "converting data to features:  51%|█████     | 75/147 [00:15<00:14,  5.10it/s]"
     ]
    },
    {
     "name": "stdout",
     "output_type": "stream",
     "text": [
      "[2024-05-20 02:23:54] (2.4.1.post1) Processing error for: mas anies mas anies jangan jadi kacang lupa kulit dong. - bilang tidak maju capres selama pak prabowo ikut, ternyata maju. - tidak percaya demokrasi. dateng malam malam ke rumah pak prabowo jadi gubernur di usung gerindra - nyentil ranah pribadi urusah usaha .. Exception: list index out of range\n"
     ]
    },
    {
     "name": "stderr",
     "output_type": "stream",
     "text": [
      "converting data to features:  54%|█████▍    | 80/147 [00:16<00:11,  5.75it/s]"
     ]
    },
    {
     "name": "stdout",
     "output_type": "stream",
     "text": [
      "[2024-05-20 02:23:55] (2.4.1.post1) Processing error for: gus miftah bagi bagi uang di pulau madura maksa rakyat dukung prabowo..!! miftah pramugari bella jijik selingkuh elmer unhcr .. Exception: list index out of range\n"
     ]
    },
    {
     "name": "stderr",
     "output_type": "stream",
     "text": [
      "converting data to features:  62%|██████▏   | 91/147 [00:18<00:08,  6.56it/s]"
     ]
    },
    {
     "name": "stdout",
     "output_type": "stream",
     "text": [
      "[2024-05-20 02:23:57] (2.4.1.post1) Processing error for: tugas dari paman selesai. sebelumnya gibran lolos cawapres. hari ini giliran prabowo. putusan mk dinilai tak lazim dan sarat konflik kepentingan. .. Exception: list index out of range\n"
     ]
    },
    {
     "name": "stderr",
     "output_type": "stream",
     "text": [
      "converting data to features:  76%|███████▌  | 111/147 [00:22<00:09,  3.91it/s]"
     ]
    },
    {
     "name": "stdout",
     "output_type": "stream",
     "text": [
      "[2024-05-20 02:24:01] (2.4.1.post1) Processing error for: raja dan ibu suri baperan, elektabilitas anaknya nyungsep kita lawan tirani dengan suara satu ke ganjar mahfud, capres pilihan rakyat timnya solid, beda sama tim prabowo dan anies yang berantakan renanda2506 ?t=valh squki1 jv8f8xndsqdan s=09 .. Exception: list index out of range\n"
     ]
    },
    {
     "name": "stderr",
     "output_type": "stream",
     "text": [
      "converting data to features:  80%|████████  | 118/147 [00:24<00:08,  3.30it/s]"
     ]
    },
    {
     "name": "stdout",
     "output_type": "stream",
     "text": [
      "[2024-05-20 02:24:03] (2.4.1.post1) Processing error for: pak ganjar konsistensi dan keberanian kalian patut diacungi jempol. mari bersama sama mendukung capr3s dan cawapres 2024 untuk indonesia yang lebih baik!. ganjar pranowo karena kamu berhak mendapatkan yang terbaik .. Exception: list index out of range\n"
     ]
    },
    {
     "name": "stderr",
     "output_type": "stream",
     "text": [
      "converting data to features:  89%|████████▉ | 131/147 [00:28<00:04,  3.22it/s]"
     ]
    },
    {
     "name": "stdout",
     "output_type": "stream",
     "text": [
      "[2024-05-20 02:24:08] (2.4.1.post1) Processing error for: setelah debat ke 3 ada kata maaf dari paslon 02 dan ajakan untuk bersatu. respect pak prabowo. timeline di x masih banyak yang bully tindakan tersebut. konten tiktoklah minta maaf ke aktivis lah bawaslu lah dll padahal sikap prabowo itu sangat jarang kita temui pada paslon lain .. Exception: list index out of range\n"
     ]
    },
    {
     "name": "stderr",
     "output_type": "stream",
     "text": [
      "converting data to features:  97%|█████████▋| 142/147 [00:31<00:00,  5.92it/s]"
     ]
    },
    {
     "name": "stdout",
     "output_type": "stream",
     "text": [
      "[2024-05-20 02:24:10] (2.4.1.post1) Processing error for: buat kpu, pilpres 2024 ini sekedar lucu lucuan aja. yang penting gimana caranya prabowo dan anak jokowi bisa jadi penguasa. bodo amat dibilang curang. .. Exception: list index out of range\n"
     ]
    },
    {
     "name": "stderr",
     "output_type": "stream",
     "text": [
      "converting data to features: 100%|██████████| 147/147 [00:31<00:00,  4.67it/s]\n",
      "converting data to features:   4%|▍         | 6/147 [00:00<00:12, 11.48it/s]"
     ]
    },
    {
     "name": "stdout",
     "output_type": "stream",
     "text": [
      "[2024-05-20 02:24:11] (2.4.1.post1) Processing error for: peningkatan investasi riset akan menciptakan lapangan kerja baru dan meningkatkan daya saing ekonomi. saya yakin ganjar pranowo dan mahfud md dapat mewujudkannya. _dapane happy new year .. Exception: list index out of range\n"
     ]
    },
    {
     "name": "stderr",
     "output_type": "stream",
     "text": [
      "converting data to features:  30%|██▉       | 44/147 [00:05<00:10,  9.85it/s]"
     ]
    },
    {
     "name": "stdout",
     "output_type": "stream",
     "text": [
      "[2024-05-20 02:24:16] (2.4.1.post1) Processing error for: pak prabowo unggul telak di survei indikatorcoid tapi para pembuat dan penyebar fitnah terus bergerak, mereka mengabaikan persatuan, bagi mereka yang penting suara prabowo gibran bisa diturunkan. mari sabar, kita hadapi dengan semangat persaudaraan dan persatuan. waspadalah. .. Exception: list index out of range\n"
     ]
    },
    {
     "name": "stderr",
     "output_type": "stream",
     "text": [
      "converting data to features:  33%|███▎      | 49/147 [00:06<00:13,  7.54it/s]"
     ]
    },
    {
     "name": "stdout",
     "output_type": "stream",
     "text": [
      "[2024-05-20 02:24:16] (2.4.1.post1) Processing error for: rumput jis di pildun u 17 tuai kritik, anies: tanya ke fifa anies menanggapi kritik terhadap rumput jis di ajang piala dunia u 17. anies pun menyerahkan hal itu kepada fifa. .. Exception: list index out of range\n"
     ]
    },
    {
     "name": "stderr",
     "output_type": "stream",
     "text": [
      "converting data to features:  38%|███▊      | 56/147 [00:06<00:09,  9.15it/s]"
     ]
    },
    {
     "name": "stdout",
     "output_type": "stream",
     "text": [
      "[2024-05-20 02:24:17] (2.4.1.post1) Processing error for: cak imin saat debat antar cawapres menyempaikan keinginan membangun 40 kota baru selevel jakarta. gibran: aneh ya! mahfud md: luar biasa! .. Exception: list index out of range\n"
     ]
    },
    {
     "name": "stderr",
     "output_type": "stream",
     "text": [
      "converting data to features:  53%|█████▎    | 78/147 [00:09<00:08,  8.62it/s]"
     ]
    },
    {
     "name": "stdout",
     "output_type": "stream",
     "text": [
      "[2024-05-20 02:24:20] (2.4.1.post1) Processing error for: sekarang kewenangannya lagi nggak ada. sama sama rakyat biasa. begitu ada kewenangan kita kembalikan ya kata abah nasional kita anies baswedan kepada warga kp bayam yang mengadukan nasib. peluk erat bersama tangis. ya allah sedih... kampung telah dibangunkan tapi warga tak juga bs msk. .. Exception: list index out of range\n"
     ]
    },
    {
     "name": "stderr",
     "output_type": "stream",
     "text": [
      "converting data to features:  61%|██████    | 89/147 [00:10<00:05, 11.18it/s]"
     ]
    },
    {
     "name": "stdout",
     "output_type": "stream",
     "text": [
      "[2024-05-20 02:24:21] (2.4.1.post1) Processing error for: namanya survey itu fluktuatif. cuma sekedar angka angka. jadi tidak usah baper lalu menuduh diintervensi. riilnya nanti saat rakyat dah menentukannya dalam bilik tps. semoga saja semua dengan ending yang baik prabowo gibran_tweet satu putaran ! .. Exception: list index out of range\n"
     ]
    },
    {
     "name": "stderr",
     "output_type": "stream",
     "text": [
      "converting data to features:  63%|██████▎   | 92/147 [00:11<00:08,  6.53it/s]"
     ]
    },
    {
     "name": "stdout",
     "output_type": "stream",
     "text": [
      "[2024-05-20 02:24:22] (2.4.1.post1) Processing error for: kekayaan mas ganjarpranowo dan pak mohmahfudmd berdua tidak sampai 50 milyar. padahal pak mahfud pernah menjadi menteri pertahanan ketua mahkamah konstitusi anggota dpr dan menko. mas ganjar 2 periode jadi gubernur. mereka layak mendapatkan amanat menjadi pelayan rakyat. .. Exception: list index out of range\n"
     ]
    },
    {
     "name": "stderr",
     "output_type": "stream",
     "text": [
      "converting data to features:  88%|████████▊ | 129/147 [00:14<00:01, 12.03it/s]"
     ]
    },
    {
     "name": "stdout",
     "output_type": "stream",
     "text": [
      "[2024-05-20 02:24:25] (2.4.1.post1) Processing error for: jangankan hasil survey, prabowo sejak 2014 - 2019 sudah klaim menang pilpres dengan sujud syukurnya live di tv ! lu pada masih percaya ??? memang jadi pengikut dan pendukung nya itu mudah saja : cukup bodoh saja, maka anda sah sebagai pendukungnya !!! .. Exception: list index out of range\n"
     ]
    },
    {
     "name": "stderr",
     "output_type": "stream",
     "text": [
      "converting data to features:  95%|█████████▍| 139/147 [00:15<00:00, 10.06it/s]"
     ]
    },
    {
     "name": "stdout",
     "output_type": "stream",
     "text": [
      "[2024-05-20 02:24:26] (2.4.1.post1) Processing error for: soal investasi, cak imin waktu acara debat menyatakan harus ada kepastian hukum, dia menyebut omnibuslaw cipta kerja. kalau masih mau pakai uu ck, apakah itu yang dikatakan pembaruan? uu ck itu petaka bos!! .. Exception: list index out of range\n"
     ]
    },
    {
     "name": "stderr",
     "output_type": "stream",
     "text": [
      "converting data to features:  98%|█████████▊| 144/147 [00:16<00:00,  6.84it/s]"
     ]
    },
    {
     "name": "stdout",
     "output_type": "stream",
     "text": [
      "[2024-05-20 02:24:27] (2.4.1.post1) Processing error for: bingung saya, kenapa warga se rt saya pilih anies, saya tanya semua nya senyum riang gembira, anies manis anies ganteng anies rendah hati anies jujur anies taqwa anies sekolah nya dan agama tinggi anies di akui dunia wah banyak katanya, pokok nya anies, aamiin ya allah .. Exception: list index out of range\n"
     ]
    },
    {
     "name": "stderr",
     "output_type": "stream",
     "text": [
      "converting data to features: 100%|██████████| 147/147 [00:16<00:00,  8.78it/s]"
     ]
    },
    {
     "name": "stdout",
     "output_type": "stream",
     "text": [
      "[2024-05-20 02:24:27] (2.4.1.post1) Processing error for: masya allah, membludaknya sambutan dr warga kampung tirip, bolali, klaten (26/12/2023) saat menyambut kehadiran ganjar pranowo. suasana kemeriahan sekaligus kekeluargaan kental terasa ketika ganjar bersalam sapa dengan warga. .. Exception: list index out of range\n",
      "2024-05-20 02:24:27,741 INFO: Save cache dataset to emcgcn.aste_datasets.dataset.9024bca91d513fcff392eaf8ef53376332078038df3da3c35e9774c252769dde.cache\n"
     ]
    },
    {
     "name": "stderr",
     "output_type": "stream",
     "text": [
      "\n"
     ]
    },
    {
     "name": "stdout",
     "output_type": "stream",
     "text": [
      "[2024-05-20 02:28:12] (2.4.1.post1) ABSADatasetsVersion:None\t-->\tCalling Count:0\n",
      "[2024-05-20 02:28:12] (2.4.1.post1) MV:<metric_visualizer.metric_visualizer.MetricVisualizer object at 0x0000024471A063D0>\t-->\tCalling Count:0\n",
      "[2024-05-20 02:28:12] (2.4.1.post1) PyABSAVersion:2.4.1.post1\t-->\tCalling Count:1\n",
      "[2024-05-20 02:28:12] (2.4.1.post1) SRD:3\t-->\tCalling Count:0\n",
      "[2024-05-20 02:28:12] (2.4.1.post1) TorchVersion:2.1.1+cpu+cudaNone\t-->\tCalling Count:1\n",
      "[2024-05-20 02:28:12] (2.4.1.post1) TransformersVersion:4.32.1\t-->\tCalling Count:1\n",
      "[2024-05-20 02:28:12] (2.4.1.post1) adam_epsilon:1e-08\t-->\tCalling Count:1\n",
      "[2024-05-20 02:28:12] (2.4.1.post1) auto_device:True\t-->\tCalling Count:2\n",
      "[2024-05-20 02:28:12] (2.4.1.post1) batch_size:16\t-->\tCalling Count:0\n",
      "[2024-05-20 02:28:12] (2.4.1.post1) cache_dataset:True\t-->\tCalling Count:1\n",
      "[2024-05-20 02:28:12] (2.4.1.post1) checkpoint_save_mode:1\t-->\tCalling Count:4\n",
      "[2024-05-20 02:28:12] (2.4.1.post1) cross_validate_fold:-1\t-->\tCalling Count:0\n",
      "[2024-05-20 02:28:12] (2.4.1.post1) dataset_file:{'train': ['integrated_datasets\\\\aste_datasets\\\\100.seribu_data\\\\train.dat.apc'], 'test': ['integrated_datasets\\\\aste_datasets\\\\100.seribu_data\\\\test.dat.apc'], 'valid': ['integrated_datasets\\\\aste_datasets\\\\100.seribu_data\\\\dev.dat.apc']}\t-->\tCalling Count:17\n",
      "[2024-05-20 02:28:12] (2.4.1.post1) dataset_name:aste_datasets\t-->\tCalling Count:3\n",
      "[2024-05-20 02:28:12] (2.4.1.post1) dca_layer:3\t-->\tCalling Count:0\n",
      "[2024-05-20 02:28:12] (2.4.1.post1) dca_p:1\t-->\tCalling Count:0\n",
      "[2024-05-20 02:28:12] (2.4.1.post1) deep_ensemble:False\t-->\tCalling Count:0\n",
      "[2024-05-20 02:28:12] (2.4.1.post1) deprel_size:38\t-->\tCalling Count:1\n",
      "[2024-05-20 02:28:12] (2.4.1.post1) deprel_vocab:<pyabsa.tasks.AspectSentimentTripletExtraction.dataset_utils.aste_utils.VocabHelp object at 0x000002447C515390>\t-->\tCalling Count:980\n",
      "[2024-05-20 02:28:12] (2.4.1.post1) device:cpu\t-->\tCalling Count:2\n",
      "[2024-05-20 02:28:12] (2.4.1.post1) device_name:Unknown\t-->\tCalling Count:1\n",
      "[2024-05-20 02:28:12] (2.4.1.post1) dlcf_a:2\t-->\tCalling Count:0\n",
      "[2024-05-20 02:28:12] (2.4.1.post1) dropout:0.5\t-->\tCalling Count:0\n",
      "[2024-05-20 02:28:12] (2.4.1.post1) dynamic_truncate:True\t-->\tCalling Count:0\n",
      "[2024-05-20 02:28:12] (2.4.1.post1) emb_dropout:0.5\t-->\tCalling Count:1\n",
      "[2024-05-20 02:28:12] (2.4.1.post1) embed_dim:1024\t-->\tCalling Count:0\n",
      "[2024-05-20 02:28:12] (2.4.1.post1) epochs:100\t-->\tCalling Count:0\n",
      "[2024-05-20 02:28:12] (2.4.1.post1) eta:1\t-->\tCalling Count:0\n",
      "[2024-05-20 02:28:12] (2.4.1.post1) eta_lr:0.1\t-->\tCalling Count:0\n",
      "[2024-05-20 02:28:12] (2.4.1.post1) evaluate_begin:0\t-->\tCalling Count:0\n",
      "[2024-05-20 02:28:12] (2.4.1.post1) from_checkpoint:None\t-->\tCalling Count:0\n",
      "[2024-05-20 02:28:12] (2.4.1.post1) gcn_dim:300\t-->\tCalling Count:6\n",
      "[2024-05-20 02:28:12] (2.4.1.post1) hidden_dim:1024\t-->\tCalling Count:4\n",
      "[2024-05-20 02:28:12] (2.4.1.post1) index_to_label:OrderedDict([(0, 'N'), (1, 'B-A'), (2, 'I-A'), (3, 'A'), (4, 'B-O'), (5, 'I-O'), (6, 'O'), (7, 'Negative'), (8, 'Neutral'), (9, 'Positive')])\t-->\tCalling Count:0\n",
      "[2024-05-20 02:28:12] (2.4.1.post1) inference_model:None\t-->\tCalling Count:0\n",
      "[2024-05-20 02:28:12] (2.4.1.post1) initializer:xavier_uniform_\t-->\tCalling Count:0\n",
      "[2024-05-20 02:28:12] (2.4.1.post1) l2reg:1e-06\t-->\tCalling Count:3\n",
      "[2024-05-20 02:28:12] (2.4.1.post1) label_to_index:OrderedDict([('N', 0), ('B-A', 1), ('I-A', 2), ('A', 3), ('B-O', 4), ('I-O', 5), ('O', 6), ('Negative', 7), ('Neutral', 8), ('Positive', 9)])\t-->\tCalling Count:0\n",
      "[2024-05-20 02:28:12] (2.4.1.post1) lcf:cdw\t-->\tCalling Count:0\n",
      "[2024-05-20 02:28:12] (2.4.1.post1) learning_rate:2e-05\t-->\tCalling Count:3\n",
      "[2024-05-20 02:28:12] (2.4.1.post1) load_aug:False\t-->\tCalling Count:1\n",
      "[2024-05-20 02:28:12] (2.4.1.post1) log_step:-1\t-->\tCalling Count:0\n",
      "[2024-05-20 02:28:12] (2.4.1.post1) logger:<Logger emcgcn (INFO)>\t-->\tCalling Count:10\n",
      "[2024-05-20 02:28:12] (2.4.1.post1) lsa:False\t-->\tCalling Count:0\n",
      "[2024-05-20 02:28:12] (2.4.1.post1) max_seq_len:80\t-->\tCalling Count:36994\n",
      "[2024-05-20 02:28:12] (2.4.1.post1) model:<class 'pyabsa.tasks.AspectSentimentTripletExtraction.models.model.EMCGCN'>\t-->\tCalling Count:5\n",
      "[2024-05-20 02:28:12] (2.4.1.post1) model_name:emcgcn\t-->\tCalling Count:2\n",
      "[2024-05-20 02:28:12] (2.4.1.post1) model_path_to_save:checkpoints\t-->\tCalling Count:0\n",
      "[2024-05-20 02:28:12] (2.4.1.post1) notice:This is an training example for aspect term extraction\t-->\tCalling Count:0\n",
      "[2024-05-20 02:28:12] (2.4.1.post1) num_epoch:10\t-->\tCalling Count:0\n",
      "[2024-05-20 02:28:12] (2.4.1.post1) num_layers:1\t-->\tCalling Count:1\n",
      "[2024-05-20 02:28:12] (2.4.1.post1) optimizer:adamw\t-->\tCalling Count:1\n",
      "[2024-05-20 02:28:12] (2.4.1.post1) output_dim:10\t-->\tCalling Count:7\n",
      "[2024-05-20 02:28:12] (2.4.1.post1) overwrite_cache:False\t-->\tCalling Count:0\n",
      "[2024-05-20 02:28:12] (2.4.1.post1) path_to_save:None\t-->\tCalling Count:1\n",
      "[2024-05-20 02:28:12] (2.4.1.post1) patience:999\t-->\tCalling Count:0\n",
      "[2024-05-20 02:28:12] (2.4.1.post1) pooling:avg\t-->\tCalling Count:1\n",
      "[2024-05-20 02:28:12] (2.4.1.post1) post_size:54\t-->\tCalling Count:1\n",
      "[2024-05-20 02:28:12] (2.4.1.post1) post_vocab:<pyabsa.tasks.AspectSentimentTripletExtraction.dataset_utils.aste_utils.VocabHelp object at 0x000002447CBC7D90>\t-->\tCalling Count:980\n",
      "[2024-05-20 02:28:12] (2.4.1.post1) postag_size:122\t-->\tCalling Count:1\n",
      "[2024-05-20 02:28:12] (2.4.1.post1) postag_vocab:<pyabsa.tasks.AspectSentimentTripletExtraction.dataset_utils.aste_utils.VocabHelp object at 0x000002447071D150>\t-->\tCalling Count:980\n",
      "[2024-05-20 02:28:12] (2.4.1.post1) pretrained_bert:indobenchmark/indobert-large-p2\t-->\tCalling Count:6\n",
      "[2024-05-20 02:28:12] (2.4.1.post1) relation_constraint:True\t-->\tCalling Count:0\n",
      "[2024-05-20 02:28:12] (2.4.1.post1) save_mode:1\t-->\tCalling Count:0\n",
      "[2024-05-20 02:28:12] (2.4.1.post1) seed:1\t-->\tCalling Count:6\n",
      "[2024-05-20 02:28:12] (2.4.1.post1) sigma:0.3\t-->\tCalling Count:0\n",
      "[2024-05-20 02:28:12] (2.4.1.post1) similarity_threshold:1\t-->\tCalling Count:0\n",
      "[2024-05-20 02:28:12] (2.4.1.post1) spacy_model:en_core_web_sm\t-->\tCalling Count:5\n",
      "[2024-05-20 02:28:12] (2.4.1.post1) srd_alignment:True\t-->\tCalling Count:0\n",
      "[2024-05-20 02:28:12] (2.4.1.post1) symmetry_decoding:False\t-->\tCalling Count:0\n",
      "[2024-05-20 02:28:12] (2.4.1.post1) syn_post_vocab:<pyabsa.tasks.AspectSentimentTripletExtraction.dataset_utils.aste_utils.VocabHelp object at 0x000002447E87DF90>\t-->\tCalling Count:982\n",
      "[2024-05-20 02:28:12] (2.4.1.post1) synpost_size:7\t-->\tCalling Count:1\n",
      "[2024-05-20 02:28:12] (2.4.1.post1) task:triplet\t-->\tCalling Count:38082\n",
      "[2024-05-20 02:28:12] (2.4.1.post1) task_code:ASTE\t-->\tCalling Count:2\n",
      "[2024-05-20 02:28:12] (2.4.1.post1) task_name:Aspect Sentiment Triple Extraction\t-->\tCalling Count:0\n",
      "[2024-05-20 02:28:12] (2.4.1.post1) token_vocab:<pyabsa.tasks.AspectSentimentTripletExtraction.dataset_utils.aste_utils.VocabHelp object at 0x000002447CD234D0>\t-->\tCalling Count:0\n",
      "[2024-05-20 02:28:12] (2.4.1.post1) tokenizer:<pyabsa.framework.tokenizer_class.tokenizer_class.PretrainedTokenizer object at 0x0000024471A2BBD0>\t-->\tCalling Count:0\n",
      "[2024-05-20 02:28:12] (2.4.1.post1) use_amp:False\t-->\tCalling Count:1\n",
      "[2024-05-20 02:28:12] (2.4.1.post1) use_bert_spc:True\t-->\tCalling Count:0\n",
      "[2024-05-20 02:28:12] (2.4.1.post1) use_syntax_based_SRD:False\t-->\tCalling Count:0\n",
      "[2024-05-20 02:28:12] (2.4.1.post1) verbose:False\t-->\tCalling Count:3\n",
      "[2024-05-20 02:28:12] (2.4.1.post1) warmup_step:-1\t-->\tCalling Count:0\n",
      "[2024-05-20 02:28:12] (2.4.1.post1) weight_decay:0.0\t-->\tCalling Count:0\n",
      "[2024-05-20 02:28:12] (2.4.1.post1) window:lr\t-->\tCalling Count:0\n",
      "2024-05-20 02:28:12,147 INFO: ***** Running training for Aspect Sentiment Triple Extraction *****\n",
      "2024-05-20 02:28:12,194 INFO: Training set examples = 646\n",
      "2024-05-20 02:28:12,197 INFO: Valid set examples = 136\n",
      "2024-05-20 02:28:12,198 INFO: Test set examples = 135\n",
      "2024-05-20 02:28:12,200 INFO: Total params = 337073066, Trainable params = 337073066, Non-trainable params = 0\n",
      "2024-05-20 02:28:12,202 INFO: Batch size = 16\n",
      "2024-05-20 02:28:12,204 INFO: Num steps = 410\n"
     ]
    },
    {
     "name": "stderr",
     "output_type": "stream",
     "text": [
      "Epoch:  0 | Smooth Loss: 3.0679:   2%|▏         | 1/41 [15:59<10:39:34, 959.35s/it]\n"
     ]
    }
   ],
   "source": [
    "trainer = ASTE.ASTETrainer(\n",
    "    config=config,\n",
    "    dataset=dataset,\n",
    "    # from_checkpoint=\"english\",  # if you want to resume training from our pretrained checkpoints, you can pass the checkpoint name here\n",
    "    auto_device=DeviceTypeOption.AUTO,  # use cuda if available\n",
    "    checkpoint_save_mode=ModelSaveOption.SAVE_MODEL_STATE_DICT,  # save state dict only instead of the whole model\n",
    "    load_aug=False,  # there are some augmentation dataset for integrated datasets, you use them by setting load_aug=True to improve performance\n",
    ")"
   ]
  }
 ],
 "metadata": {
  "kernelspec": {
   "display_name": "pyabsa",
   "language": "python",
   "name": "python3"
  },
  "language_info": {
   "codemirror_mode": {
    "name": "ipython",
    "version": 3
   },
   "file_extension": ".py",
   "mimetype": "text/x-python",
   "name": "python",
   "nbconvert_exporter": "python",
   "pygments_lexer": "ipython3",
   "version": "3.11.5"
  }
 },
 "nbformat": 4,
 "nbformat_minor": 2
}
